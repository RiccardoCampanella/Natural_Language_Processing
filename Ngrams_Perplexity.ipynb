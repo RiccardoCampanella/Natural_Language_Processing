{
  "cells": [
    {
      "cell_type": "markdown",
      "metadata": {
        "id": "e1I7_qy2rYZl"
      },
      "source": [
        "# Lab 1: Text Corpora and Language Modelling\n",
        "\n",
        "Welcome to the first lab assignment of INFOMNLP 2024.\n",
        "\n",
        "This lab is meant to help you get familiar with some language data, and use this data to estimate simple models called N-gram language models.\n",
        "\n",
        "First, you will use the **Penn Treebank**, which is a collection of newspaper articles from the newspaper\n",
        "The Wall Street Journal. The idea is to examine the data and notice interesting properties. This will not take more than a few lines of code. The Penn Treebank may be the most widely used corpus in NLP.\n",
        "\n",
        "Then you will use a corpus consisting of **TedX** talks. This you will use to estimate an **N-gram language model** for different orders of N, and use this for some tasks.\n",
        "\n",
        "The dataset URLs are in the notebook and certain cells are responsible to download them."
      ]
    },
    {
      "cell_type": "markdown",
      "metadata": {
        "id": "-T11u_DzP4K6"
      },
      "source": [
        "# Rules\n",
        "* The assignment should submitted to **Blackboard** as `.ipynb`. Only **one submission per group**.\n",
        "\n",
        "* The **filename** should be the group number, e.g., `01.ipynb` or `31.ipynb`.\n",
        "\n",
        "* The questions marked **Extra** or **Optional** are an additional challenge for those interested in going the extra mile. There are no points for them.\n",
        "\n",
        "**Rules for implementation**\n",
        "\n",
        "* You should **write your code and answers in this iPython Notebook**. (See http://ipython.org/notebook.html for reference material.) If you have problems, please contact your teaching assistant.\n",
        "\n",
        "* Use only **one cell for code** and **one cell for markdown** answers!    \n",
        "\n",
        "    * Put all code in the cell with the `## YOUR CODE HERE ##` comment.\n",
        "    * Provide brief comments on what the code does at crucial points.\n",
        "    * For theoretical questions, put your solution in the `█████ YOUR ANSWER HERE █████` cell and keep the header.\n",
        "\n",
        "* Don't change or delete any initially provided cells, either text or code, unless explicitly instructed to do so.\n",
        "* Don't delete the comment lines `#TEST...` or edit their code cells.\n",
        "* Don't change the names of provided functions and variables or arguments of the functions.\n",
        "* Leave the output of your code in the output cells.\n",
        "* **Don't output unnecessary info** (e.g., printing variables for debugging purposes) or **add extra code cells** (e.g., for mounting your google drive). This clutters the notebook and slows down the grading.\n",
        "* Test your code and **make sure we can run your notebook** in the colab environment.\n",
        "* Don't forget to fill in the contribution information.\n",
        "\n",
        "<font color=\"red\">You following these rules helps us to grade the submissions relatively efficiently. If these rules are violated, a submission will be subject to penalty points.</font>  "
      ]
    },
    {
      "cell_type": "markdown",
      "metadata": {
        "id": "nNT1WNEnlkBC"
      },
      "source": [
        "# <font color=\"red\">Contributions</font>\n",
        "\n",
        "\n",
        "* Samuele Milanese, Matteo Di Bari, Riccardo Campanella\n",
        "* Equally contributed to each part of the assignment"
      ]
    },
    {
      "cell_type": "markdown",
      "metadata": {
        "id": "UXUCfBV-9l7-"
      },
      "source": [
        "# General instructions\n",
        "\n",
        "Before diving into the exercises, keep in mind that the variables defined previously can be reused in the subsequent cells. So there is no need to redefine the same variable in multiple sections, e.g., it is sufficient to read the file in a variable once and later reuse the value of the variable, instead of re-reading the file.   \n",
        "\n",
        "If your code is too long and using several code cells instead of a single code cell. Rethink how to organize data in variables that you can easily access required info. Reading about [list comprehension](https://realpython.com/list-comprehension-python/#leverage-list-comprehensions) can be useful.\n",
        "\n",
        "Your code will often be evaluated based on its behaviour. So, during the grading some code cells are executed. If code runtime is too long than expected, this will hinder grading.\n",
        "\n",
        "<font color=\"red\">**The cases similar to the above-mentioned ones, will be subject to penalty points.**</font>\n",
        "\n",
        "<font color=\"red\">**Pay attention to test units**</font> that are either provided as assert cases or as comments. Test units help you by giving you a hint about a correct answer. Note that **passing test units doesn't guarantee the full points** for an execise because test units are incomplete and the code might fail on other test units."
      ]
    },
    {
      "cell_type": "markdown",
      "metadata": {
        "id": "nQzq7NHLhHAf"
      },
      "source": [
        "# Set up"
      ]
    },
    {
      "cell_type": "code",
      "execution_count": null,
      "metadata": {
        "id": "L7pnku7cvBpp"
      },
      "outputs": [],
      "source": [
        "%matplotlib inline\n",
        "import matplotlib\n",
        "import numpy as np\n",
        "import random\n",
        "import pandas as pd\n",
        "import seaborn as sns\n",
        "import matplotlib.pyplot as plt\n",
        "from collections import defaultdict, Counter"
      ]
    },
    {
      "cell_type": "code",
      "execution_count": null,
      "metadata": {
        "colab": {
          "base_uri": "https://localhost:8080/"
        },
        "id": "BlFpCuMjgtPj",
        "outputId": "00f8a8a1-f2b0-469c-f815-896d12905b78"
      },
      "outputs": [
        {
          "output_type": "stream",
          "name": "stdout",
          "text": [
            "2024-05-07 20:32:02 URL:https://naturallogic.pro/_files_/download/mNLP/PTB/sec02-21.gold.tagged [8158400/8158400] -> \"data/sec02-21.gold.tagged\" [1]\n",
            "2024-05-07 20:32:03 URL:https://naturallogic.pro/_files_/download/mNLP/PTB/sec00.gold.tagged [399917/399917] -> \"data/sec00.gold.tagged\" [1]\n",
            "2024-05-07 20:32:11 URL:https://naturallogic.pro/_files_/download/mNLP/TED/ted-train.txt [24743290/24743290] -> \"data/ted-train.txt\" [1]\n",
            "2024-05-07 20:32:12 URL:https://naturallogic.pro/_files_/download/mNLP/TED/ted-test.txt [25383/25383] -> \"data/ted-test.txt\" [1]\n"
          ]
        }
      ],
      "source": [
        "! rm -rf data # remove if it was downloaded\n",
        "! wget -nv -P data https://naturallogic.pro/_files_/download/mNLP/PTB/sec02-21.gold.tagged # download the file\n",
        "! wget -nv -P data https://naturallogic.pro/_files_/download/mNLP/PTB/sec00.gold.tagged\n",
        "! wget -nv -P data https://naturallogic.pro/_files_/download/mNLP/TED/ted-train.txt\n",
        "! wget -nv -P data https://naturallogic.pro/_files_/download/mNLP/TED/ted-test.txt"
      ]
    },
    {
      "cell_type": "markdown",
      "metadata": {
        "id": "2xIJozz2Z7VE"
      },
      "source": [
        "# Golab variables"
      ]
    },
    {
      "cell_type": "code",
      "execution_count": null,
      "metadata": {
        "id": "8SW7DNhHZ_ay"
      },
      "outputs": [],
      "source": [
        "PTB_FILES = {'train': 'data/sec02-21.gold.tagged', 'dev': 'data/sec00.gold.tagged'}\n",
        "TED_FILES = {'train': 'data/ted-train.txt', 'test': 'data/ted-test.txt'}"
      ]
    },
    {
      "cell_type": "markdown",
      "metadata": {
        "id": "HYUkG7TKsAAi"
      },
      "source": [
        "# 1. Penn treebank"
      ]
    },
    {
      "cell_type": "markdown",
      "metadata": {
        "id": "flkRSFQtrYZo"
      },
      "source": [
        "## Ex 1.1 [25pt]\n",
        "\n",
        "You are provided with a corpus containing tokens with their Part-of-Speech tags (POS-tags for short). The format is\n",
        "**token|POS** (one sentence per line) and the file name is **sec02-21.gold.tagged**. This data is extracted from Sections 02-21 from the Penn Treebank: these sections are most commonly used for training statistical models like POS taggers and parsers.\n",
        "\n",
        "Note the **distinction between token & word**. \"Token\" is a technical term and represents an occurrence of a word. Here, \"word\" covers both lexical words and other symbols (e.g., punctuations or numbers). Often \"word\" is called \"token type\". So, one can say that a token type can have different occurrences and each occurrence is a token.\n",
        "\n",
        "**[Hint]** **Figure 8.2** in chapter 8 of Jurafsky and Martin (see [here](https://web.stanford.edu/~jurafsky/slp3/8.pdf#page=4)) holds a summary of POS-tags used in the Penn Treebank tagset together with their meaning and some examples.\n",
        "\n",
        "**[Hint]** The Python library [collections](https://docs.python.org/3.7/library/collections.html) has an object called `Counter` which will come in handy for this exercise."
      ]
    },
    {
      "cell_type": "markdown",
      "metadata": {
        "id": "L_md_iporYZs"
      },
      "source": [
        "### (a) Corpus & vocab [5pt]\n",
        "\n",
        "**Print** the corpus size (i.e. the number of **tokens**).  \n",
        "**Print** the size of the **vocabulary** of the corpus. Estimate the vocabulary size both by **lowercasing** all the tokens as well as by leaving the tokens in their **original orthography**.  \n",
        "\n",
        "What is the **advantage** of lowercasing all the tokens in your corpus?  \n",
        "What is a notable **downside**?  \n",
        "**Give examples** of the advantage and the downside."
      ]
    },
    {
      "cell_type": "code",
      "execution_count": null,
      "metadata": {
        "colab": {
          "base_uri": "https://localhost:8080/"
        },
        "id": "jxrgbpkdvBpy",
        "outputId": "0a0e4433-4867-4c89-a21c-ce24a504fcb1"
      },
      "outputs": [
        {
          "output_type": "stream",
          "name": "stdout",
          "text": [
            "corpus size: 929552\n",
            "size of vocabulary with original ortography: 44210\n",
            "size of vocabulary with all lowercase tokens: 39384\n"
          ]
        }
      ],
      "source": [
        "## YOUR CODE HERE ##\n",
        "with open(PTB_FILES['train'], 'r') as f:\n",
        "\n",
        "    tokens = [w.split('|') for line in f for w in line.split(' ') if w != '\\n']  # Tokenize each line and split tokens from their labels\n",
        "\n",
        "# Count the occurrences of each token in the original orthography and in all lowercase form\n",
        "counter_original = Counter([tok for tok, lab in tokens])\n",
        "counter_lowercase = Counter([tok.lower() for tok, lab in tokens])\n",
        "\n",
        "print(f'corpus size: {len(tokens)}')\n",
        "print(f'size of vocabulary with original ortography: {len(counter_original)}')\n",
        "print(f'size of vocabulary with all lowercase tokens: {len(counter_lowercase)}')\n",
        "\n",
        "# Use PTB_FILES golab var\n",
        "# TEST: original orthography vocab size = ...10 (i.e., the last two digits of the vocab size are \"10\")"
      ]
    },
    {
      "cell_type": "markdown",
      "metadata": {
        "id": "G4F1hlWNvBpz"
      },
      "source": [
        "█████ YOUR ANSWER HERE █████\n",
        "\n",
        "We can count a word that is starting the sentence as the same word in lower case. Conversley, we can mistake a proper name for a common name e.g. the name Love in \"Love is a shy girl\" becomes loveand is counted as it holds the same meaning of love in \"All you need is love\". Additionally, Acronyms may loose their meaning and be mistake for other words e.g. \"GloVe\" becomes \"glove\". Finally, if we consider the lowercasing \"I\" we would get the letter \"i\" which can be interpreted as a symbol in the text e.g. \"i\" or \"iii\""
      ]
    },
    {
      "cell_type": "markdown",
      "metadata": {
        "id": "Wn1cBwu4vBp0"
      },
      "source": [
        "------\n",
        "**For the rest of this exercise <font color=\"red\">you should use the original orthography</font> of the data when answering the questions.**\n",
        "\n",
        "------"
      ]
    },
    {
      "cell_type": "markdown",
      "metadata": {
        "id": "1D1kQ1N_vBp1"
      },
      "source": [
        "### [Extra]\n",
        "\n",
        "Plot a graph of word frequency versus rank of a word, in this corpus. Does this corpus obey **Zipf’s law**? For a better picture you might need to make the plot horizontally wide or consider an initial cutoff of ranked words."
      ]
    },
    {
      "cell_type": "code",
      "execution_count": null,
      "metadata": {
        "colab": {
          "base_uri": "https://localhost:8080/",
          "height": 447
        },
        "id": "2A_By8MRvBp2",
        "outputId": "c68f045f-1bd9-49da-c272-67d582484808",
        "scrolled": true
      },
      "outputs": [
        {
          "output_type": "execute_result",
          "data": {
            "text/plain": [
              "[<matplotlib.lines.Line2D at 0x7efb26bb7f70>]"
            ]
          },
          "metadata": {},
          "execution_count": 6
        },
        {
          "output_type": "display_data",
          "data": {
            "text/plain": [
              "<Figure size 640x480 with 1 Axes>"
            ],
            "image/png": "[encoded data removed]"
          },
          "metadata": {}
        }
      ],
      "source": [
        "## YOUR CODE HERE ##\n",
        "cutoff = 100\n",
        "arr = np.asarray(counter_original.most_common(cutoff))\n",
        "plt.plot(range(cutoff), arr[:,1].astype(int))"
      ]
    },
    {
      "cell_type": "markdown",
      "metadata": {
        "id": "4IKxQutFd-VM"
      },
      "source": [
        "█████ YOUR ANSWER HERE █████\n",
        "\n",
        "As we can see, the data plots a hyperbole, showing that the rank of a word is inversely proportional to the frequency, as states by Zipf's law"
      ]
    },
    {
      "cell_type": "markdown",
      "metadata": {
        "id": "r1ZeD-QRwVvC"
      },
      "source": [
        "### (b) Tags & tokens [5pt]\n",
        "\n",
        "**Print** a list of the **10 most commonly occurring POS tags** in the data. For each of these POS tags, additionally **print** the **3 most common token types** (i.e., words) that belong to that tag. Print raw counts for each printed tag and token type."
      ]
    },
    {
      "cell_type": "code",
      "execution_count": null,
      "metadata": {
        "id": "LjWaeRNmvBp5",
        "colab": {
          "base_uri": "https://localhost:8080/"
        },
        "outputId": "7cfc3bb0-7b2e-43cf-a6fb-f3b9eeb2c534"
      },
      "outputs": [
        {
          "output_type": "stream",
          "name": "stdout",
          "text": [
            "NN (132134):\t%(4866); company(2457); year(2220)\n",
            "IN (99413):\tof(22778); in(14852); for(7907)\n",
            "NNP (90711):\tMr.(4147); U.S.(1577); Corp.(1186)\n",
            "DT (82147):\tthe(40831); a(19151); The(6753)\n",
            "JJ (59643):\tnew(1396); other(1298); last(990)\n",
            "NNS (59332):\tyears(1164); shares(1128); sales(939)\n",
            ", (48314):\t,(48310); an(1); 2(1)\n",
            ". (39252):\t.(38798); ?(392); !(62)\n",
            "CD (36148):\tmillion(4355); billion(1780); one(1203)\n",
            "RB (30232):\tn't(3211); also(1420); not(1287)\n"
          ]
        }
      ],
      "source": [
        "## YOUR CODE HERE ##\n",
        "counter_labels = Counter([lab for tok, lab in tokens])\n",
        "\n",
        "# Display the top 10 most common token labels along with their counts\n",
        "for lab, count in counter_labels.most_common(10):\n",
        "    top_toks = Counter([tok for tok, l in tokens if l == lab]).most_common(3) #For each label, find the top 3 most common tokens associated with it\n",
        "    print(f'{lab} ({count}):\\t{top_toks[0][0]}({top_toks[0][1]}); {top_toks[1][0]}({top_toks[1][1]}); {top_toks[2][0]}({top_toks[2][1]})')\n",
        "\n",
        "# Use the following printing format and test your numbers for the DT pos tag:\n",
        "# DT (82147):\tthe(40831); a(19151); The(6753)"
      ]
    },
    {
      "cell_type": "markdown",
      "metadata": {
        "id": "sPTQVzwvvBp6"
      },
      "source": [
        "### (c) Ambiguity [7pt]\n",
        "\n",
        "A single token type (i.e. word) may occur with several POS tags. For example, *record* can be both a **noun** *(buy a record)* or a **verb** *(record a lecture)*. This makes POS tags extremely useful for **disambiguation**.\n",
        "\n",
        "**Print** the percentage(!) of the **ambiguous** words in the vocabulary(!) (i.e. token types that have more than one POS tag?).  \n",
        "\n",
        "Ambiguous words do not account for a great percentage of the vocabulary. Yet they are among the most commonly occurring words in the English language.  \n",
        "**Print** the percentage of the dataset that is ambiguous (i.e., counting tokens of ambiguous token types/words wrt data size).  \n",
        "(Don't round percentages when printing)\n",
        "\n",
        "**Print** the **10 most frequently shared POS tag pairs** (i.e. POS tag pairs that share most words).  \n",
        "**Print** the **4 most ambiguous** words (i.e. based on the number of POS tags it can get)"
      ]
    },
    {
      "cell_type": "code",
      "execution_count": null,
      "metadata": {
        "id": "8qNODIAcvBp6",
        "scrolled": true,
        "colab": {
          "base_uri": "https://localhost:8080/"
        },
        "outputId": "48c78748-91a6-4d29-a754-26da31576eb2"
      },
      "outputs": [
        {
          "output_type": "stream",
          "name": "stdout",
          "text": [
            "Percentage of ambiguous words in the vocabulary:  13.469803211942999\n",
            "Percentage of ambiguous words in the dataset:  55.079005800643756\n",
            "\n",
            "Top 10 confused tag pairs:\n",
            "('VBD', 'VBN') share 1060 tokens\n",
            "('JJ', 'NN') share 962 tokens\n",
            "('NN', 'VB') share 775 tokens\n",
            "('VB', 'VBP') share 752 tokens\n",
            "('NN', 'NNP') share 627 tokens\n",
            "('JJ', 'VBN') share 456 tokens\n",
            "('NN', 'VBP') share 403 tokens\n",
            "('NN', 'VBG') share 378 tokens\n",
            "('NNS', 'VBZ') share 364 tokens\n",
            "('JJ', 'NNP') share 297 tokens\n",
            "\n",
            "Top 4 ambiguous tokens:\n",
            "set: ['JJ', 'NN', 'VB', 'VBD', 'VBN', 'VBP', 'VBZ']\n",
            "many: ['DT', 'JJ', 'NN', 'NP', 'PDT', 'RB', 'VB']\n",
            "open: ['JJ', 'NN', 'RB', 'RP', 'VB', 'VBP', 'VBZ']\n",
            "down: ['IN', 'JJ', 'NN', 'RB', 'RBR', 'RP', 'VBP']\n"
          ]
        }
      ],
      "source": [
        "## YOUR CODE HERE ##\n",
        "import itertools\n",
        "from operator import itemgetter\n",
        "\n",
        "# Percentage of the ambiguous words in the vocabulary\n",
        "token_dict = defaultdict(set)\n",
        "for tok, lab in tokens:\n",
        "  token_dict[tok].add(lab)\n",
        "\n",
        "most_ambiguous = {}\n",
        "n_amb_token_types = 0\n",
        "n_amb_tokens = 0\n",
        "for tok, lab in token_dict.items():\n",
        "  if len(lab) > 1:\n",
        "    n_amb_token_types += 1\n",
        "    n_amb_tokens += counter_original.get(tok)\n",
        "    most_ambiguous[tok] = len(lab)\n",
        "\n",
        "# Most frequently shared POS tag pairs\n",
        "lab_set = sorted(set(lab for tok, lab in tokens))\n",
        "pair_combinations = list(itertools.combinations(lab_set, 2))\n",
        "pair_counter = Counter()\n",
        "\n",
        "for pair in pair_combinations:\n",
        "  for tok, labs in token_dict.items():\n",
        "    if (pair[0] in labs) and (pair[1] in labs):\n",
        "      pair_counter.update([pair])\n",
        "\n",
        "print(\"Percentage of ambiguous words in the vocabulary: \", n_amb_token_types / len(counter_original) * 100)\n",
        "print(\"Percentage of ambiguous words in the dataset: \", n_amb_tokens / len(tokens) * 100)\n",
        "\n",
        "print(\"\\nTop 10 confused tag pairs:\")\n",
        "for pair, count in pair_counter.most_common(10):\n",
        "  print(f\"{pair} share {count} tokens\")\n",
        "\n",
        "print(\"\\nTop 4 ambiguous tokens:\")\n",
        "for item in sorted(most_ambiguous.items(), key=itemgetter(1), reverse=True)[:4]:\n",
        "  print(f\"{item[0]}: {sorted(list(token_dict[item[0]]))}\")\n",
        "\n",
        "\n",
        "# TEST: There are 1060 token types whose tokens get both ('VBD', 'VBN') tags\n",
        "# TEST: in other tokens, a set of tokens with VBD and a set of tokens with VBN share 1060 elements\n",
        "\n",
        "# print in the following way:\n",
        "# Print ambiguous tokens and tag pairs as, where tags are ordered alphabetically:\n",
        "# Top 10 confused tag pairs:\n",
        "#\t('VBD', 'VBN') share 1060 tokens\n",
        "#   ...\n",
        "#\n",
        "# Top 4 ambiguous tokens:\n",
        "# \ttoken: [POS_1, ..., POS_n]\n",
        "#   ..."
      ]
    },
    {
      "cell_type": "markdown",
      "metadata": {
        "id": "AODJl38yvBp7"
      },
      "source": [
        "### (d) Explain [8pt]\n",
        "\n",
        "**Take one** of the 4 most ambiguous tokens and for **each** of its possible POS tags **give** a sentence/phrase from the **training data** that shows the use of the token with its POS tag.  \n",
        "For the other **three** tokens, **discuss ** the POS tag that is least likely in the training data for the corresponding token.      \n",
        "Consult [Figure 8.2](https://web.stanford.edu/~jurafsky/slp3/8.pdf#page=4) for the interpretation of the POS tags. If you would like a more detailed explanation of the POS tags, consult [this technical report](http://www.cs.cmu.edu/afs/cs/Web/People/dgovinda/pdf/semantics/tagguide.pdf). Of course, you don't need to read it entirely, just use it to search for certain POS tags in it."
      ]
    },
    {
      "cell_type": "markdown",
      "metadata": {
        "id": "c18r5YJM7xDG"
      },
      "source": [
        "█████ YOUR ANSWER HERE █████\n",
        "\n",
        "For the token *down*\n",
        "1.   One|CD hundred|CD and|CC ninety|CD two|CD former|JJ greats|NNS ,|, near|JJ greats|NNS ,|, hardly|RB knowns|NNS and|CC unknowns|NNS begin|VBP a|DT 72-game|JJ ,|, three-month|JJ season|NN in|IN spring-training|NN stadiums|NNS up|RB and|CC down|RB Florida|NNP\n",
        "2.   He|PRP will|MD keep|VB the|DT ball|NN down|RP ,|, move|VB it|PRP around|RB\n",
        "3.   As|IN the|DT judge|NN marched|VBD down|IN the|DT center|JJ aisle|NN in|IN his|PRP$ flowing|VBG black|JJ robe|NN ,|, he|PRP was|VBD heralded|VBN by|IN a|DT trumpet|NN fanfare|NN\n",
        "4.   Other|JJ Senators|NNP want|VBP to|TO lower|VB the|DT down|JJ payments|NNS required|VBN on|IN FHA-insured|JJ loans|NNS\n",
        "5.   Texas|NNP Instruments|NNP ,|, which|WDT had|VBD reported|VBN Friday|NNP that|IN third-quarter|JJ earnings|NNS fell|VBD more|RBR than|IN 30|CD %|NN from|IN the|DT year-ago|JJ level|NN ,|, went|VBD down|RBR 2|CD 1\\/8|CD to|TO 33|CD on|IN 1.1|CD million|CD shares|NNS\n",
        "6.   Because|IN hurricanes|NNS can|MD change|VB course|NN rapidly|RB ,|, the|DT company|NN sends|VBZ employees|NNS home|NN and|CC shuts|VBZ down|VBP operations|NNS in|IN stages|NNS --|IN the|DT closer|RBR a|DT storm|NN gets|VBZ ,|, the|DT more|RBR complete|JJ the|DT shutdown|NN\n",
        "7.   Jaguar|NNP 's|POS American|JJ depositary|NN receipts|NNS were|VBD up|IN 3\\/8|CD yesterday|NN in|IN a|DT down|NN market|NN ,|, closing|VBG at|IN 10|CD 3\\/8|CD\n",
        "\n",
        "\n",
        "\n",
        "The Token *set* is an irregular verb but also a name and an adjective. When coupled with preposition it is a phrasal verb. In our training data it is more likely to be mistaken with WDT as in the list of its corresponding token the VBP postag shares one token with WDT. Similarly, the token *many* appears in the training corpus as VB which shares one token with the postag VBG that is the least likely. Finally, the token *open* is less likely to be tagged as WDT for the same reason aforementioned."
      ]
    },
    {
      "cell_type": "markdown",
      "metadata": {
        "id": "s9fwBwWBrYZ3"
      },
      "source": [
        "## Ex 1.2 [7pt]\n",
        "\n",
        "You are also provided with another file called **sec00.gold.tagged**.\n",
        "Section 00 of the Penn Treebank is typically used as development data."
      ]
    },
    {
      "cell_type": "markdown",
      "metadata": {
        "id": "j1GVBPzvvBp9"
      },
      "source": [
        "### (a) Unseen % [5pt]\n",
        "\n",
        "**Print** the percentages of the **unseen development vocabulary** and **unseen development data** (i.e., token types and tokens that occur in the development data but not in the training data). Percentages should be calculated wrt the development vocabulary/data size and they shouldn't be rounded."
      ]
    },
    {
      "cell_type": "code",
      "execution_count": null,
      "metadata": {
        "id": "o7Fjx4q9vBp9",
        "scrolled": false,
        "colab": {
          "base_uri": "https://localhost:8080/"
        },
        "outputId": "6960cdc1-5b57-42c6-a366-a143b229251c"
      },
      "outputs": [
        {
          "output_type": "stream",
          "name": "stdout",
          "text": [
            "unseen token types: 16.34932724041635%\n",
            "unseen tokens: 3.804323895909471%\n"
          ]
        }
      ],
      "source": [
        "## YOUR CODE HERE ##\n",
        "with open(PTB_FILES['dev'], 'r') as f:\n",
        "\n",
        "    dev_tokens = [w.split('|') for line in f for w in line.split(' ') if w != '\\n']\n",
        "\n",
        "counter_dev = Counter([tok for tok, lab in dev_tokens]) #Count the occurrences of each token in the development data\n",
        "\n",
        "#Find unseen token types in the development data compared to the training data\n",
        "unseen_token_types = set(counter_dev.keys()) - set(counter_original.keys())\n",
        "print(f'unseen token types: {len(unseen_token_types) / len(counter_dev.keys()) * 100}%')\n",
        "\n",
        "# Count the occurrences of unseen tokens and calculate their percentage in the development data\n",
        "unseen_lab_counter = Counter([lab for tok, lab in dev_tokens if tok in unseen_token_types])\n",
        "print(f'unseen tokens: {unseen_lab_counter.total()/len(dev_tokens) * 100}%')\n",
        "\n",
        "# Use PTB_FILES global var\n",
        "# TEST: Difference between the percentages is in the interval 11-14%"
      ]
    },
    {
      "cell_type": "markdown",
      "metadata": {
        "id": "sWXDWzuxvBp-"
      },
      "source": [
        "### (b) Unseen tok tag [2pt]\n",
        "\n",
        "**Print** the top **five** POS tags that the most **unseen tokens** belong to."
      ]
    },
    {
      "cell_type": "code",
      "execution_count": null,
      "metadata": {
        "id": "VgbUb8nHvBp-",
        "scrolled": true,
        "colab": {
          "base_uri": "https://localhost:8080/"
        },
        "outputId": "97117e08-29f5-474e-b0bc-7dc5484e3305"
      },
      "outputs": [
        {
          "output_type": "stream",
          "name": "stdout",
          "text": [
            "NNP (815)\n",
            "JJ (258)\n",
            "NN (210)\n",
            "NNS (146)\n",
            "CD (114)\n"
          ]
        }
      ],
      "source": [
        "## YOUR CODE HERE ##\n",
        "for lab, count in unseen_lab_counter.most_common(5):\n",
        "    print(f'{lab} ({count})')\n",
        "# Print in the following format:\n",
        "# POS_tag (the_number_of_corresponding_unseen_tokens)"
      ]
    },
    {
      "cell_type": "markdown",
      "metadata": {
        "id": "6cbdG9BsdRdh"
      },
      "source": [
        "# 2. Language Models"
      ]
    },
    {
      "cell_type": "markdown",
      "metadata": {
        "id": "jECmv9_BvBp-"
      },
      "source": [
        "\n",
        "\n",
        "The following questions presuppose J&M's [chapter 3 on n-gram language models](https://web.stanford.edu/~jurafsky/slp3/3.pdf).\n",
        "\n",
        "Models that assign **probabilities** to **sequences of words** are called **language\n",
        "models** or **LMs**. The simplest model that assigns probabilities to sentences and sequences of words is the **N-gram** model.\n",
        "\n",
        "Recall that an *N*-gram language model uses **conditional probabilities** of the form\n",
        "    \n",
        "$$P(w_k \\mid w_{k-N+1} \\dots w_{k-1})$$\n",
        "\n",
        "to **approximate** the full **joint probability**\n",
        "\n",
        "$$P(w_1 \\dots w_n)$$\n",
        "\n",
        "of a sequence of words $w_1 \\dots w_n$.\n",
        "\n",
        "The easiest way of obtaining estimates for the probabilities $P(w_k \\mid w_{k-N+1} \\dots w_{k-1})$ is to use the **maximum likelihood estimate** or **MLE**, a widely used statistical estimation method ([read more](https://en.wikipedia.org/wiki/Maximum_likelihood_estimation)). You count and normalize:\n",
        "\n",
        "$$P_{MLE}(w_k \\mid w_{k-N+1} \\dots w_{k-1}) = \\frac{C(w_{k-N+1} \\dots w_{k-1} w_k)}{C(w_{k-N+1} \\dots w_{k-1})}.$$"
      ]
    },
    {
      "cell_type": "markdown",
      "metadata": {
        "id": "zJJRUQLpQIYN"
      },
      "source": [
        "## Ex 2.1 [25pt]\n",
        "\n",
        "In this exercise you will have to train $N$-gram language models with an optional smoothing."
      ]
    },
    {
      "cell_type": "markdown",
      "metadata": {
        "id": "Em9s4OTHfYda"
      },
      "source": [
        "#### Some help\n",
        "\n",
        "The `collections` library has another useful data structure: the `defaultdict`. Some example uses (learn more [here](https://realpython.com/python-defaultdict/) if needed):"
      ]
    },
    {
      "cell_type": "markdown",
      "metadata": {
        "id": "Uy6bNZpedd4a"
      },
      "source": [
        "**[Datastructure hint]** If you store the smoothed language in a naive manner (that is, to store *all* the numbers separately) your datastructure will get huge! If $V$ is the vocabulary then the smoothed bigram model assigns probabilities to $|V|^2$ entries. If $|V|$ is around 80k, the naive way requires you to store more than 64 billion floats. Yet almost all of these are actually just $P(w_n|w_{n-1}) = \\frac{k}{N + k|V|}$, with $k$ the value with which you smooth and $N=C(w_{n-1})$. Think about how you use this fact to make your model work in practice."
      ]
    },
    {
      "cell_type": "code",
      "execution_count": null,
      "metadata": {
        "id": "NEzYDa-GvBp_",
        "colab": {
          "base_uri": "https://localhost:8080/"
        },
        "outputId": "ebbf7ad1-3fb7-412c-a657-001ea5ddcad1"
      },
      "outputs": [
        {
          "output_type": "execute_result",
          "data": {
            "text/plain": [
              "0.0"
            ]
          },
          "metadata": {},
          "execution_count": 11
        }
      ],
      "source": [
        "from collections import defaultdict\n",
        "\n",
        "d = defaultdict(float)\n",
        "d[\"new key\"]"
      ]
    },
    {
      "cell_type": "markdown",
      "metadata": {
        "id": "80cGhiN7vBp_"
      },
      "source": [
        "Compare that to an ordinary dictionary:"
      ]
    },
    {
      "cell_type": "code",
      "execution_count": null,
      "metadata": {
        "id": "hwPC-F7VvBqA"
      },
      "outputs": [],
      "source": [
        "# d = dict()\n",
        "# d[\"new key\"]\n",
        "# Throws an KeyError: 'new key'"
      ]
    },
    {
      "cell_type": "markdown",
      "metadata": {
        "id": "XhC9fVSBvBqA"
      },
      "source": [
        "Other datatypes as `default_factory`:"
      ]
    },
    {
      "cell_type": "code",
      "execution_count": null,
      "metadata": {
        "id": "ANtXMfCDvBqB",
        "colab": {
          "base_uri": "https://localhost:8080/"
        },
        "outputId": "55842877-3f59-4267-8407-79cda5848d3e"
      },
      "outputs": [
        {
          "output_type": "stream",
          "name": "stdout",
          "text": [
            "defaultdict(<class 'int'>, {})\n",
            "0\n",
            "defaultdict(<class 'int'>, {'new key': 0})\n"
          ]
        }
      ],
      "source": [
        "d = defaultdict(int)\n",
        "print(d)\n",
        "print(d[\"new key\"])\n",
        "print(d)"
      ]
    },
    {
      "cell_type": "code",
      "execution_count": null,
      "metadata": {
        "id": "gHIBoHbrvBqB",
        "colab": {
          "base_uri": "https://localhost:8080/"
        },
        "outputId": "f92a6175-a63d-4181-f55c-33064019e210"
      },
      "outputs": [
        {
          "output_type": "stream",
          "name": "stdout",
          "text": [
            "defaultdict(<class 'list'>, {})\n",
            "[]\n",
            "defaultdict(<class 'list'>, {'new key': []})\n"
          ]
        }
      ],
      "source": [
        "d = defaultdict(list)\n",
        "print(d)\n",
        "print(d[\"new key\"])\n",
        "print(d)"
      ]
    },
    {
      "cell_type": "markdown",
      "metadata": {
        "id": "9Obc7SPcRwB9"
      },
      "source": [
        "Note how the defaultdict is modified after getting a value of a non-existing key. If you want to avoid modifying the defaultdict when getting a value for a non-existing key, do the following:"
      ]
    },
    {
      "cell_type": "code",
      "execution_count": null,
      "metadata": {
        "id": "Z9YsnMXZRwIR",
        "colab": {
          "base_uri": "https://localhost:8080/"
        },
        "outputId": "d475879d-3b41-48ae-f1cb-dc7ef21525a7"
      },
      "outputs": [
        {
          "output_type": "stream",
          "name": "stdout",
          "text": [
            "defaultdict(<class 'list'>, {})\n",
            "[]\n",
            "defaultdict(<class 'list'>, {})\n"
          ]
        }
      ],
      "source": [
        "d = defaultdict(list)\n",
        "print(d)\n",
        "print(d.get(\"new key\", d.default_factory()))\n",
        "print(d)"
      ]
    },
    {
      "cell_type": "markdown",
      "metadata": {
        "id": "ReMovWEyvBqC"
      },
      "source": [
        "Converting an already existing `dict`:"
      ]
    },
    {
      "cell_type": "code",
      "execution_count": null,
      "metadata": {
        "id": "eO-PZAXyvBqC",
        "colab": {
          "base_uri": "https://localhost:8080/"
        },
        "outputId": "52ebd163-06a0-47ec-e6ee-fbf8de7f6d68"
      },
      "outputs": [
        {
          "output_type": "stream",
          "name": "stdout",
          "text": [
            "value\n",
            "0.0\n"
          ]
        }
      ],
      "source": [
        "d1 = {k: \"value\" for k in range(1, 11)}\n",
        "d = defaultdict(float, d1) # convert it to a defaultdict\n",
        "print(d[5])\n",
        "print(d[100])"
      ]
    },
    {
      "cell_type": "markdown",
      "metadata": {
        "id": "Qup8dlervBqC"
      },
      "source": [
        "This doesn't work:"
      ]
    },
    {
      "cell_type": "code",
      "execution_count": null,
      "metadata": {
        "id": "vFdSoDb9vBqD"
      },
      "outputs": [],
      "source": [
        "# d = defaultdict(10)\n",
        "# Throws a TypeError: first argument must be callable or None"
      ]
    },
    {
      "cell_type": "markdown",
      "metadata": {
        "id": "WN4bK1eGvBqD"
      },
      "source": [
        "Use a `lambda` to make the number `10` `callable`\":"
      ]
    },
    {
      "cell_type": "code",
      "execution_count": null,
      "metadata": {
        "id": "BS8vozeYvBqD",
        "colab": {
          "base_uri": "https://localhost:8080/"
        },
        "outputId": "bb0a4638-bcab-4db1-d1d7-2c666ead29ef"
      },
      "outputs": [
        {
          "output_type": "stream",
          "name": "stdout",
          "text": [
            "defaultdict(<function <lambda> at 0x7efb260fe710>, {})\n",
            "10\n",
            "defaultdict(<function <lambda> at 0x7efb260fe710>, {'new key': 10})\n"
          ]
        }
      ],
      "source": [
        "d = defaultdict(lambda: 10)\n",
        "print(d)\n",
        "print(d[\"new key\"])\n",
        "print(d)"
      ]
    },
    {
      "cell_type": "code",
      "execution_count": null,
      "metadata": {
        "id": "vegtS6wJvBqE",
        "colab": {
          "base_uri": "https://localhost:8080/"
        },
        "outputId": "239e82a2-1f92-4186-9cb7-641bcf235eb2"
      },
      "outputs": [
        {
          "output_type": "stream",
          "name": "stdout",
          "text": [
            "defaultdict(<function <lambda> at 0x7efb260feb00>, {})\n",
            "defaultdict(<class 'float'>, {})\n",
            "defaultdict(<function <lambda> at 0x7efb260feb00>, {'new key': defaultdict(<class 'float'>, {})})\n"
          ]
        }
      ],
      "source": [
        "d = defaultdict(lambda: defaultdict(float))\n",
        "print(d)\n",
        "print(d[\"new key\"])\n",
        "print(d)"
      ]
    },
    {
      "cell_type": "markdown",
      "metadata": {
        "id": "ThZCgTQTo4KJ"
      },
      "source": [
        "Note that in some cases the behaviour of lambda functions might be counterintuitive. One of such cases is the closure: [link1](https://realpython.com/python-lambda/#closure), [link2](https://stackoverflow.com/questions/2295290/what-do-lambda-function-closures-capture)."
      ]
    },
    {
      "cell_type": "code",
      "execution_count": null,
      "metadata": {
        "id": "NKYpXbk2cEw2",
        "colab": {
          "base_uri": "https://localhost:8080/"
        },
        "outputId": "64daea58-9cd2-471b-9a6a-6fc1f2e62fff"
      },
      "outputs": [
        {
          "output_type": "stream",
          "name": "stdout",
          "text": [
            "defaultdict(<function <lambda> at 0x7efb260fdb40>, {1: defaultdict(<class 'int'>, {1: 2}), 2: defaultdict(<class 'int'>, {1: 3})})\n",
            "2\n",
            "defaultdict(<class 'int'>, {})\n",
            "0\n",
            "defaultdict(<function <lambda> at 0x7efb260fdb40>, {1: defaultdict(<class 'int'>, {1: 2}), 2: defaultdict(<class 'int'>, {1: 3})})\n"
          ]
        }
      ],
      "source": [
        "# making a shortcut for the read-only get for defaultdict that supports several keys\n",
        "# i.e. defget(d, [k1, k2]) will return the value of d[k1][k2] without altering d\n",
        "def defget(d, keys):\n",
        "    for k in keys:\n",
        "        d = d.get(k, d.default_factory() if isinstance(d, defaultdict) else None) #PATCH\n",
        "    return d\n",
        "\n",
        "# testing if it works as intended\n",
        "d = defaultdict(lambda: defaultdict(int))\n",
        "d[1][1] = 2\n",
        "d[2][1] = 3\n",
        "print(d)\n",
        "print(defget(d, [1, 1]))\n",
        "print(defget(d, [3]))\n",
        "print(defget(d, [3, 1]))\n",
        "print(d)"
      ]
    },
    {
      "cell_type": "markdown",
      "metadata": {
        "id": "6WYXdmJXvBqE"
      },
      "source": [
        "Clever use of a `defaultdict` can be the solution to the problem of data-storing in a smoothing $N$-gram pointed out above:\n",
        "    \n",
        "    d = bigram_frequencies[history] = {w1: 120, w2: 340, w3: 7 ...}\n",
        "    N = sum(d.values())\n",
        "    # d_normalized = .... # normalize d with smoothing applied to elements already in the dictionary  \n",
        "    d_smoothed = defaultdict(lambda: k/(N + kV), d_normalized) # add smoothing to 'unseen' words"
      ]
    },
    {
      "cell_type": "markdown",
      "metadata": {
        "id": "5svCtCyDvBqE"
      },
      "source": [
        "The following function is given to assist you with reading the data from the file in a convenient format. Understand how the function works and figure out how to use it for training n-grams.\n",
        "\n",
        "Note that the function uses padding symbols `<s>` and `</s>` to mark sentence boundaries. **When doing smoothing, include `</s>` in the vocabulary (and unigram models)**, otherwise after smoothing certain conditional probabilities will sum up higher than 1.  \n",
        "🤔 It is a good practice to think of why this would be the case.  "
      ]
    },
    {
      "cell_type": "code",
      "execution_count": null,
      "metadata": {
        "id": "1DnP4YcPvBqF"
      },
      "outputs": [],
      "source": [
        "def read_data(fname, h=1, max_lines=np.inf):\n",
        "    \"\"\"\n",
        "    Reads in the data from a file and returns a vocabulary as a set\n",
        "    and the sentence-padded data as a list of list.\n",
        "\n",
        "    :param fname: path to the file\n",
        "    :param max_lines: the number of top lines to read (can be used for debugging)\n",
        "    :param h: the length of n-gram history\n",
        "    :returns: data as a list of lists and vocabulary as a set\n",
        "    \"\"\"\n",
        "    data = []\n",
        "    start = h * [\"<s>\"]\n",
        "    end = [\"</s>\"]\n",
        "\n",
        "    with open(fname, \"r\") as F:\n",
        "        for k, line in enumerate(F):\n",
        "            # an optional cut-off to read a part of the data\n",
        "            if k > max_lines:\n",
        "                break\n",
        "            words = line.strip().split()\n",
        "            # padding the sentence\n",
        "            sent = start + words + end\n",
        "            data.append(sent)\n",
        "    return data"
      ]
    },
    {
      "cell_type": "markdown",
      "metadata": {
        "id": "3dy2LfV1m3Vg"
      },
      "source": [
        "### train_ngram\n",
        "\n",
        "[15pt] **Complete** the function `train_ngram` so that you can train a count-based $N$-gram language model on the data found in `data/ted-train.txt` and train this for $N=2,3$.\n",
        "\n",
        "[10pt] **Extend** the function `train_ngram` so that it accepts a parameter `k` for optional add-$k$ smoothing (upgrade the same function, don't define new)."
      ]
    },
    {
      "cell_type": "code",
      "execution_count": null,
      "metadata": {
        "id": "UCTtBMxWvBqF"
      },
      "outputs": [],
      "source": [
        "def train_ngram(data, N=2, k=0):\n",
        "    \"\"\"\n",
        "    Trains an n-gram language model with optional add-k smoothing\n",
        "    and additionally returns the unigram model\n",
        "\n",
        "    :param data: text-data as returned by the pre-defined function read_data\n",
        "    :param N: (N>1) the order of the ngram e.g. N=2 gives a bigram\n",
        "    :param k: optional add-k smoothing\n",
        "    :returns: ngram and unigram\n",
        "    \"\"\"\n",
        "    ngram = defaultdict(Counter) # ngram[history][word] = #(history,word)\n",
        "    # for history of length >1, join tokens with a singel white space (see tests below)\n",
        "\n",
        "    ## YOUR CODE HERE ##\n",
        "    ## you can have auxiliary functions if needed, inside of outside this function's scope\n",
        "    unigram = Counter()\n",
        "\n",
        "    # counts\n",
        "    for sentence in data:\n",
        "        for i in range(N-1, len(sentence)):\n",
        "            context = ' '.join(sentence[i-N+1:i])\n",
        "            word = sentence[i]\n",
        "            ngram[context][word] += 1\n",
        "            unigram[word] += 1\n",
        "\n",
        "    # smooth and normalize\n",
        "    for context in ngram.keys():\n",
        "        d = ngram[context]\n",
        "        N = sum(d.values())\n",
        "        V = len(unigram.keys())\n",
        "        d_normalized = dict([(key, val/(N + k*V)) for key, val in d.items()])\n",
        "        d_smoothed = defaultdict(lambda: k/(N + k*V), d_normalized) # add smoothing to 'unseen' words\n",
        "        ngram[context] = d_smoothed\n",
        "\n",
        "    for word in unigram:\n",
        "        unigram[word] /= unigram.total()\n",
        "\n",
        "    # the following line might be useful and its use is optional\n",
        "    # unigram = defaultdict(float, Counter(\"SOME VAR HERE\")) # default prob is 0.0\n",
        "\n",
        "    return ngram, unigram"
      ]
    },
    {
      "cell_type": "code",
      "execution_count": null,
      "metadata": {
        "id": "Scw9yzDYc91M"
      },
      "outputs": [],
      "source": [
        "# This shouldn't take more than 2min\n",
        "Data1 = read_data(TED_FILES['train']) ## YOUR CODE HERE ##\n",
        "# use the global variable for the file path\n",
        "# non-smoothed bigram\n",
        "Bigram, Unigram = train_ngram(Data1, N=2, k=0)\n",
        "# smoothed bigram\n",
        "Bigram_sm, Unigram_sm = train_ngram(Data1, N=2, k=1)"
      ]
    },
    {
      "cell_type": "code",
      "execution_count": null,
      "metadata": {
        "id": "CsS5hpWQvBqH"
      },
      "outputs": [],
      "source": [
        "# Running this might take significant amount of memory\n",
        "# Runtime shouldn't take more than 3min\n",
        "Data2 = read_data(TED_FILES['train'], h=2) ## YOUR CODE HERE ##\n",
        "# non-smoothed trigram\n",
        "Trigram, Unigram_ = train_ngram(Data2, N=3, k=0)\n",
        "# smoothed trigram\n",
        "Trigram_sm, Unigram_sm_ = train_ngram(Data2, N=3, k=1)"
      ]
    },
    {
      "cell_type": "code",
      "execution_count": null,
      "metadata": {
        "id": "2TVjxsuyc91N"
      },
      "outputs": [],
      "source": [
        "#TEST 2.1\n",
        "# Be aware that when getting a value of a non-existing key from defaultdict with d[key] method,\n",
        "# the key gets inserted into the defaultdict. That's why tests use defget\n",
        "assert defget(Bigram, ['all','people']) > 0\n",
        "assert defget(Bigram, ['all','all']) == 0\n",
        "assert defget(Bigram_sm, ['all','all']) == defget(Bigram_sm, ['all','asdasda'])\n",
        "assert defget(Bigram_sm, ['all','asdasda']) > 0\n",
        "assert defget(Trigram, ['<s> <s>','The']) > 0\n",
        "assert defget(Trigram, ['<s> <s>','sun']) == 0\n",
        "assert np.isclose(sum(Trigram['All the'].values()), 1) #almost 1, but not 1 because of float point rounding\n",
        "assert defget(Trigram_sm, ['<s> <s>','sun']) > 0\n",
        "assert defget(Unigram, ['</s>']) > 0\n",
        "assert Unigram == Unigram_\n",
        "assert Unigram_sm == Unigram_sm_"
      ]
    },
    {
      "cell_type": "markdown",
      "metadata": {
        "id": "uHqoEt2zvBqJ"
      },
      "source": [
        "## Ex 2.2 [5pt]\n",
        "\n",
        "You can use an *N*-gram language model to **generate text**. The higher the order *N* the better your model will be able to catch the long-range dependencies that occur in actual sentences and the better your chances are at generating sensible text. But beware: **sparsity** of language data will quickly cause your model to reproduce entire lines from your training data; in such cases, only one $w_k$ was observed for the histories $w_{k-N+1}\\dots w_{k-1}$ in the entire training set."
      ]
    },
    {
      "cell_type": "markdown",
      "metadata": {
        "id": "YbOqa3y5hefa"
      },
      "source": [
        "### Some help\n",
        "\n",
        "**[Hint]** You can use the method of [inverse transform sampling](https://en.wikipedia.org/wiki/Inverse_transform_sampling) to generate a sample from a **categorical distribution**, $p_1\\dots p_k$ such that $p_i \\geq 0$ and $\\sum_{i=1}^k p_i = 1$, as follows:"
      ]
    },
    {
      "cell_type": "code",
      "execution_count": null,
      "metadata": {
        "id": "fman6WFYvBqJ",
        "colab": {
          "base_uri": "https://localhost:8080/"
        },
        "outputId": "126ef976-d5c0-4977-f283-061da44d5108"
      },
      "outputs": [
        {
          "output_type": "stream",
          "name": "stdout",
          "text": [
            "1\n",
            "Counter({1: 488, 0: 212, 2: 188, 3: 112})\n"
          ]
        }
      ],
      "source": [
        "import random\n",
        "\n",
        "P = [0.2,0.5,0.2,0.1]\n",
        "\n",
        "def sample(P):\n",
        "    u = random.random() # random number between 0 and 1\n",
        "    p = 0\n",
        "    for i, p_i in enumerate(P):\n",
        "        p += p_i\n",
        "        if p > u:\n",
        "            return i # the first i s.t. p1 + ... + pi > u\n",
        "\n",
        "print(sample(P))\n",
        "\n",
        "print(Counter([sample(P) for i in range(1000)])) # check to see if the law of large numbers is still true"
      ]
    },
    {
      "cell_type": "markdown",
      "metadata": {
        "id": "jZBZ2mxTvBqK"
      },
      "source": [
        "Inverse transform sampling in the words of Jurafsky and Martin:\n",
        "\n",
        "> Imagine all the words of the English language covering the probability space\n",
        "between 0 and 1, each word covering an interval proportional to its frequency. We\n",
        "choose a random value between 0 and 1 and print the word whose interval includes\n",
        "this chosen value.\n",
        "\n",
        "(J&M, [section 3.3](https://web.stanford.edu/~jurafsky/slp3/3.pdf#page=10))"
      ]
    },
    {
      "cell_type": "markdown",
      "metadata": {
        "id": "hQiNLmMQhO9q"
      },
      "source": [
        "### generate_sent\n",
        "\n",
        "**Complete** the function `generate_sent`. It takes a language model `lm` and an order `N` and should generate a **natural language string(!)** (it shouldn't contain padding symbols and might not be a grammatical sentence) by **sampling** from the language model."
      ]
    },
    {
      "cell_type": "code",
      "execution_count": null,
      "metadata": {
        "id": "MCD2ezj_vBqK"
      },
      "outputs": [],
      "source": [
        "def generate_sent(lm, N):\n",
        "    \"\"\"\n",
        "    Generates sentence from a language model based on N-grams\n",
        "    :param lm: language model based on N-grams\n",
        "    :param N: denoting N-gram parameter\n",
        "    :returns: a string of natural language tokens where tokens are separated with a space\n",
        "    \"\"\"\n",
        "\n",
        "    ## YOUR CODE HERE ##\n",
        "    ## you can have auxiliary functions if needed, inside of outside this function's scope\n",
        "\n",
        "    sent = N * ['<s>']\n",
        "\n",
        "    while(1):\n",
        "      ngram = ' '.join(sent[-(N - 1):])\n",
        "      i_next_word = sample(lm[ngram].values())\n",
        "      next_word = list(lm[ngram].keys())[i_next_word]\n",
        "      sent.append(next_word)\n",
        "      if next_word == '</s>':\n",
        "        break\n",
        "\n",
        "    return ' '.join(sent)"
      ]
    },
    {
      "cell_type": "code",
      "execution_count": null,
      "metadata": {
        "id": "D0yKCR2xvBqL",
        "colab": {
          "base_uri": "https://localhost:8080/"
        },
        "outputId": "f0d171d3-4437-45ed-f4e4-bb248b5a099b"
      },
      "outputs": [
        {
          "output_type": "stream",
          "name": "stdout",
          "text": [
            "Bigram:\n",
            "\n",
            "<s> <s> Now , I made women we celebrated . </s>\n",
            "<s> <s> I hope . </s>\n",
            "<s> <s> And there is a thing you , thank you can 't how to get to restore confidence is still are substantial premium on probability . </s>\n",
            "<s> <s> So here . </s>\n",
            "<s> <s> But the nose , I had done . </s>\n",
            "\n",
            "Trigram:\n",
            "\n",
            "<s> <s> <s> But normally we can start making words today , there are problems . </s>\n",
            "<s> <s> <s> And I believe that the extra credit I promised you . </s>\n",
            "<s> <s> <s> But it is possible -- I 've just crossed my mind . </s>\n",
            "<s> <s> <s> Thank you . </s>\n",
            "<s> <s> <s> \" \"Relaxation . </s>\n"
          ]
        }
      ],
      "source": [
        "#TEST Ex2.2\n",
        "random.seed(42) #uncommnet if you want to make the output non-deterministic\n",
        "\n",
        "print(\"Bigram:\\n\")\n",
        "print(\"\\n\".join([generate_sent(Bigram, 2) for _ in range(5)]))\n",
        "\n",
        "print(\"\\nTrigram:\\n\")\n",
        "print(\"\\n\".join([generate_sent(Trigram, 3) for _ in range(5)]))"
      ]
    },
    {
      "cell_type": "markdown",
      "metadata": {
        "id": "mPmwIHiqvBqL"
      },
      "source": [
        "### [Extra]\n",
        "No points for this\n",
        "\n",
        "For how many of the histories $w_{k-N+1}\\dots w_{k-1}$ is the number of continuations $w_n$ equal to **one**? Calculate the percentage of such cases for the different orders *N*.\n",
        "\n",
        "And which history has the **most possible continuations**?"
      ]
    },
    {
      "cell_type": "code",
      "execution_count": null,
      "metadata": {
        "id": "aYGPyRyRc91S"
      },
      "outputs": [],
      "source": [
        "## YOUR CODE HERE ##"
      ]
    },
    {
      "cell_type": "markdown",
      "metadata": {
        "id": "mmREq7Zhc91S"
      },
      "source": [
        "YOUR ANSWER HERE"
      ]
    },
    {
      "cell_type": "markdown",
      "metadata": {
        "id": "NDjAQzkkvBqM"
      },
      "source": [
        "## Ex 2.3 Smoothing effect [5pt]\n",
        "\n",
        "Let $V$ denote our vocabulary. Recall that for any $w \\in V$ `bigram[w]` defines a conditional probability $p(v|w)$ over $v$ in $V$. In the case of an **unsmoothed bigram**, $p(v|w) = 0$ for most $v\\in V$, whereas in the **smoothed bigram** smoothing took care that $p(v|w) > 0$ for *all* $v$.\n",
        "\n",
        "The function `plot_bigram_dist(word, bigram, smoothbigram, k=30)` plots $p(v|word)$ for the `k` and words $v$. One bar shows the probabilities in `bigram` and one in `smoothbigram`.\n",
        "\n",
        "1. Use `plot_bigram_dist` to plot the bigram distributions for two words, frequent $w_1$ and infrequent $w_2$, i.e., the distributions of $p(v|w_1)$ and $p(v|w_2)$. Adjust the cut-off `n` parameter for better visualization.\n",
        "\n",
        "2. **Compare** the effect of `k=1` smoothing on the bigram distributions of the frequent $w_1$ and infrequent $w_2$ words. Give an informative insight instead of literally describing the plots.\n",
        "\n",
        "3. Now plot the same distributions but with $k$ being much smaller than 1 (but greater than 0!). **Explain and contrast** how the value of $k$ affects the distributions of the frequent $w_1$ and infrequent $w_2$ words. Again, give an informative insight instead of literally describing the plots.\n",
        "\n",
        "While providing the insights, try to be concise and right to the point.\n",
        "\n",
        "\n",
        "**[Hint]** Remember that add-1 smoothing turns\n",
        "$$P(w_n\\mid w_{n-1}) = \\frac{C(w_{n-1}w_{n})}{C(w_{n-1})}$$\n",
        "into\n",
        "$$P_{add-1}(w_n\\mid w_{n-1}) = \\frac{C(w_{n-1}w_{n}) + 1}{C(w_{n-1}) + |V|}.$$"
      ]
    },
    {
      "cell_type": "code",
      "execution_count": null,
      "metadata": {
        "id": "A7RiiRRxvBqM"
      },
      "outputs": [],
      "source": [
        "import pandas as pd\n",
        "import seaborn as sns\n",
        "\n",
        "def plot_bigram_dist(word, bigram, smoothbigram, n=30):\n",
        "    d = bigram[word]\n",
        "    #print(type(d))\n",
        "    ds = smoothbigram[word]\n",
        "\n",
        "    # sort the probabilities\n",
        "    d_sort = sorted(d.items(), reverse=True, key=lambda t: t[1])[0:n]\n",
        "    ds_sort = sorted(ds.items(), reverse=True, key=lambda t: t[1])[0:n]\n",
        "\n",
        "    _, probs = zip(*d_sort)\n",
        "    smooth_ws, smooth_probs = zip(*ds_sort)\n",
        "\n",
        "    # make up for the fact that in the unsmoothed case non-0 probs is generally less than n long\n",
        "    probs = probs + (0,) * (n-len(probs))\n",
        "\n",
        "    w_data = pd.DataFrame({f\"{word}\": smooth_ws * 2,\n",
        "                           f\"P(w|{word})\": probs + smooth_probs,\n",
        "                           \"smoothing\": [\"unsmoothed\"]*n + [\"smoothed\"]*n})\n",
        "\n",
        "    fig, ax = plt.subplots(figsize=(12,5))\n",
        "    plt.xticks(rotation=90)\n",
        "    g = sns.barplot(ax=ax, x=f\"{word}\", y=f\"P(w|{word})\", hue=\"smoothing\",\n",
        "                    data=w_data, palette=\"Blues_d\")"
      ]
    },
    {
      "cell_type": "code",
      "execution_count": null,
      "metadata": {
        "id": "rKH3i7FTvBqN",
        "colab": {
          "base_uri": "https://localhost:8080/",
          "height": 1000
        },
        "outputId": "4f63535a-c5d3-4e77-9901-1a3cfac15c31"
      },
      "outputs": [
        {
          "output_type": "display_data",
          "data": {
            "text/plain": [
              "<Figure size 1200x500 with 1 Axes>"
            ],
            "image/png": "[encoded data removed]"
          },
          "metadata": {}
        },
        {
          "output_type": "display_data",
          "data": {
            "text/plain": [
              "<Figure size 1200x500 with 1 Axes>"
            ],
            "image/png": "[encoded data removed]"
          },
          "metadata": {}
        }
      ],
      "source": [
        "# Use these variables\n",
        "Freq_word, Infreq_word = None, None\n",
        "\n",
        "## YOUR CODE HERE ##\n",
        "plot_bigram_dist('The', Bigram, Bigram_sm, n=60)\n",
        "plot_bigram_dist('average', Bigram, Bigram_sm, n=30)"
      ]
    },
    {
      "cell_type": "code",
      "execution_count": null,
      "metadata": {
        "id": "48XochmkvBqO",
        "colab": {
          "base_uri": "https://localhost:8080/",
          "height": 1000
        },
        "outputId": "322ef2c5-a12f-43bb-b927-995e1eb27f11"
      },
      "outputs": [
        {
          "output_type": "display_data",
          "data": {
            "text/plain": [
              "<Figure size 1200x500 with 1 Axes>"
            ],
            "image/png": "[encoded data removed]"
          },
          "metadata": {}
        },
        {
          "output_type": "display_data",
          "data": {
            "text/plain": [
              "<Figure size 1200x500 with 1 Axes>"
            ],
            "image/png": "[encoded data removed]"
          },
          "metadata": {}
        }
      ],
      "source": [
        "# Use this K value and reuse Freq_word, Infreq_word\n",
        "Small_k = 0.01\n",
        "Bigram_sm_smallk, Unigram_sm_smallk = train_ngram(Data1, N=2, k=Small_k)\n",
        "plot_bigram_dist('The', Bigram, Bigram_sm_smallk, n=60)\n",
        "plot_bigram_dist('average', Bigram, Bigram_sm_smallk, n=40)\n"
      ]
    },
    {
      "cell_type": "markdown",
      "metadata": {
        "id": "hN2uU1PxvBqN"
      },
      "source": [
        "█████ YOUR ANSWER HERE █████\n",
        "\n",
        "- **What is the smoothing doing?**\n",
        "\n",
        "Smoothing moves the probability mass towards less frequent words by increasing the denominator by a factor $kV$ and adding $k$ in the numerator of the unseen words. As a consequence already seen words will be relatively less likely and unseen words will be relatively more likely. In general the distribution will be more uniform over the whole vocabulary, hence the entropy will be higher. Finally, smoothing the distribution is a way to ensure unseen words will not get a zero-probability which could cause the entire sequence of word to get a zero probability and an infinite perplexity.\n",
        "\n",
        "- **What is the difference between the effect of smoothing in frequent and infrequent words?**\n",
        "\n",
        "In frequent words the percentage of the vocabulary that is seen is higher than in infrequent words. The influence of the $N$ term in the denominator is way smaller than the added $kV$ term. In unfrequent words the N is low and is not lowering that much the probabilities in the unsmoothed version. In frequent words a higher value of N makes the unsmoothed probabilities much closer to the smoothed ones, having a higher influence on the denominator.\n",
        "\n",
        "- **What is the influence of lowering the k value?**\n",
        "\n",
        "Lowering the k value implies that we move much less mass probability towards unseen words. That's because the added value $kV$ is much smaller. In the plots we can see the effect of this in the smoothed probabilities being much more similar to the unsmoothed ones."
      ]
    },
    {
      "cell_type": "markdown",
      "metadata": {
        "id": "-l9-iEXFvBqP"
      },
      "source": [
        "## Ex 2.4 Train sent. prob. [5pt]\n",
        "\n",
        "**Recall** that if we have a sentence $w_1,\\dots,w_n$ we can write\n",
        "\n",
        "$$P(w_1\\dots w_n) = P(w_1)P(w_2|w_1) \\cdots P(w_n|w_1 \\dots w_{n-1}) \\approx P(w_1)P(w_2|w_1)\\cdots P(w_n|w_{n-(N-1)}\\dots w_{n-1})\\prod_{i=1}^{n} P(w_i|w_{i-(N-1)}\\dots w_{i-1})$$\n",
        "\n",
        "where in the last step we make an $N$-gram approximation of the full conditionals.\n",
        "\n",
        "For example, in the case of a bigram (N=2), the above expression reduces to\n",
        "\n",
        "$$P(w_1 \\dots w_n)\\approx P(w_1)\\prod_{i=2}^{n} P(w_i| w_{i-1}).$$\n",
        "\n",
        "The following sentences are taken from the **training data**. Use your **unsmoothed unigram**, **bigram**, and **trigram** language model to estimate their **probabilities**:\n",
        "\n",
        "    1. Every day was about creating something new .\n",
        "    2. In this machine , a beam of protons and anti-protons are accelerated to near the speed of light and brought together in a collision , producing a burst of pure energy ."
      ]
    },
    {
      "cell_type": "code",
      "execution_count": null,
      "metadata": {
        "id": "UdoNkywsvBqQ"
      },
      "outputs": [],
      "source": [
        "def sent_prob(sent, lm, N):\n",
        "    \"\"\"\n",
        "    Calculates probability of sent based on the N-gram language mode lm\n",
        "    :param sent: tokenized sentence string\n",
        "    :param lm: N-gram language model\n",
        "    :param N: N-gram size\n",
        "    :returns: probabilitity number\n",
        "    \"\"\"\n",
        "    ## YOUR CODE HERE ##\n",
        "    words = sent.split()\n",
        "    start = (N - 1) * ['<s>']\n",
        "    start.extend(words)\n",
        "    prob = 1\n",
        "\n",
        "    for i in range(N, len(words)):\n",
        "      context = ' '.join(words[i-N+1:i])\n",
        "      prob *= (lm[context][words[i]] if N > 1 else lm[words[i]])\n",
        "\n",
        "    return prob"
      ]
    },
    {
      "cell_type": "code",
      "execution_count": null,
      "metadata": {
        "id": "9fIwnQCkc91V",
        "colab": {
          "base_uri": "https://localhost:8080/"
        },
        "outputId": "f4e81747-3bc3-49d2-8225-a61160e0fc8e"
      },
      "outputs": [
        {
          "output_type": "stream",
          "name": "stdout",
          "text": [
            "1-Unigram: 1.7123792209186e-18\n",
            "1-Bigram: 3.389547148477512e-13\n",
            "1-Trigram: 3.3911475072538753e-06\n",
            "2-Unigram: 3.088928633049938e-78\n",
            "2-Bigram: 2.3903628498446325e-69\n",
            "2-Trigram: 5.0271323513722757e-26\n",
            "\n",
            "1-Unigram_sm: 1.7123792209186e-18\n",
            "1-Bigram_sm: 2.316292221598496e-20\n",
            "1-Trigram_sm: 1.4516219208365665e-22\n",
            "2-Unigram_sm: 3.088928633049938e-78\n",
            "2-Bigram_sm: 4.164627166400306e-114\n",
            "2-Trigram_sm: 6.95858442803387e-131\n"
          ]
        }
      ],
      "source": [
        "# Print all the abovemnetioned probabilities.\n",
        "# The cell output should make it clear what number stands for which probability.\n",
        "# Reuse the variables Unigram, Unigram_sm, Bigram, Bigram_sm, Trigram, and Trigram_sm.\n",
        "\n",
        "Sents_from_train = (\n",
        "    \"Every day was about creating something new .\",\n",
        "    \"In this machine , a beam of protons and anti-protons are accelerated to near the speed of light and brought together in a collision , producing a burst of pure energy .\"\n",
        ")\n",
        "\n",
        "## YOUR CODE HERE ##\n",
        "print(f\"1-Unigram: {sent_prob(Sents_from_train[0], Unigram, 1)}\")\n",
        "print(f\"1-Bigram: {sent_prob(Sents_from_train[0], Bigram, 2)}\")\n",
        "print(f\"1-Trigram: {sent_prob(Sents_from_train[0], Trigram, 3)}\")\n",
        "print(f\"2-Unigram: {sent_prob(Sents_from_train[1], Unigram, 1)}\")\n",
        "print(f\"2-Bigram: {sent_prob(Sents_from_train[1], Bigram, 2)}\")\n",
        "print(f\"2-Trigram: {sent_prob(Sents_from_train[1], Trigram, 3)}\")\n",
        "print(\"\")\n",
        "print(f\"1-Unigram_sm: {sent_prob(Sents_from_train[0], Unigram_sm, 1)}\")\n",
        "print(f\"1-Bigram_sm: {sent_prob(Sents_from_train[0], Bigram_sm, 2)}\")\n",
        "print(f\"1-Trigram_sm: {sent_prob(Sents_from_train[0], Trigram_sm, 3)}\")\n",
        "print(f\"2-Unigram_sm: {sent_prob(Sents_from_train[1], Unigram_sm, 1)}\")\n",
        "print(f\"2-Bigram_sm: {sent_prob(Sents_from_train[1], Bigram_sm, 2)}\")\n",
        "print(f\"2-Trigram_sm: {sent_prob(Sents_from_train[1], Trigram_sm, 3)}\")"
      ]
    },
    {
      "cell_type": "markdown",
      "metadata": {
        "id": "uMS37P4azImr"
      },
      "source": [
        "**Repeat** this with the **smoothed (add-1)** versions of the N-grams (in the same above code cell).   \n",
        "**What** is the effect of smoothing on the probabilities and **how** the effect compare across the different $N$-grams models? Provide explanations for the effect and the comparison."
      ]
    },
    {
      "cell_type": "markdown",
      "metadata": {
        "id": "qC_RnO1_vBqQ"
      },
      "source": [
        "█████ YOUR ANSWER HERE █████\n",
        "\n",
        "In the Unigram lm the smoothing does not have any effect, therefore the probability of the sentence stays the same.\n",
        "\n",
        "For Bigram and Trigram the smoothing decreases the probability of the sentence. This happens because those two sentences are taken from the train set, so bigrams and trigrams in the sentences are already part of the seen contexts. This probabilities get lowered after the application of smoothing as explained before.\n",
        "\n",
        "In Trigram the smoothing effect is even higher because there are much more unseen contexts in the vocabulary, indeed we can see that the decrease is stronger compared to the Bigrams."
      ]
    },
    {
      "cell_type": "markdown",
      "metadata": {
        "id": "6YFJJ2ThvBqR"
      },
      "source": [
        "## Ex 2.5 Test sent. prob. [3pt]\n",
        "\n",
        "The above sentences were taken from the training set, hence they will all have a probability greater than 0. The big challenge for our language model are of course with the sentences that contain unseen N-grams: if such an N-gram occurs our model immediately assigns the sentence probability zero.\n",
        "\n",
        "The following sentences are taken from the **test set** available in the file **ted-test.txt**.  \n",
        "**Print** the probabilities of the sentences based on the smoothed and unsmoothed language models.\n",
        "\n",
        "    1. Because these robots are really safe .\n",
        "    2. We have sheer nothingness on one side , and we have this vision of a reality that encompasses every conceivable world at the other extreme : the fullest possible reality , nothingness , the simplest possible reality ."
      ]
    },
    {
      "cell_type": "code",
      "execution_count": null,
      "metadata": {
        "id": "g3_00-2qvBqR",
        "colab": {
          "base_uri": "https://localhost:8080/"
        },
        "outputId": "27791d86-9c6c-4199-8076-22094cd400d2"
      },
      "outputs": [
        {
          "output_type": "stream",
          "name": "stdout",
          "text": [
            "1-Unigram: 2.7694126808667543e-15\n",
            "1-Bigram: 5.879157300957153e-11\n",
            "1-Trigram: 0.0\n",
            "2-Unigram: 5.148590375620244e-96\n",
            "2-Bigram: 0.0\n",
            "2-Trigram: 0.0\n",
            "\n",
            "1-Unigram_sm: 2.7694126808667543e-15\n",
            "1-Bigram_sm: 5.887801666793447e-18\n",
            "1-Trigram_sm: 8.182265592463942e-20\n",
            "2-Unigram_sm: 5.148590375620244e-96\n",
            "2-Bigram_sm: 6.492435321354228e-125\n",
            "2-Trigram_sm: 0.0\n"
          ]
        }
      ],
      "source": [
        "# Print all the abovemnetioned probabilities.\n",
        "# The cell output should make it clear what number stands for which probability.\n",
        "# Reuse the variables Unigram, Unigram_sm, Bigram, Bigram_sm, Trigram, and Trigram_sm.\n",
        "\n",
        "Sents_from_test = (\n",
        "    \"Because these robots are really safe .\",\n",
        "    \"We have sheer nothingness on one side , and we have this vision of a reality that encompasses every conceivable world at the other extreme : the fullest possible reality , nothingness , the simplest possible reality .\"\n",
        ")\n",
        "### YOUR CODE HERE ###\n",
        "print(f\"1-Unigram: {sent_prob(Sents_from_test[0], Unigram, 1)}\")\n",
        "print(f\"1-Bigram: {sent_prob(Sents_from_test[0], Bigram, 2)}\")\n",
        "print(f\"1-Trigram: {sent_prob(Sents_from_test[0], Trigram, 3)}\")\n",
        "print(f\"2-Unigram: {sent_prob(Sents_from_test[1], Unigram, 1)}\")\n",
        "print(f\"2-Bigram: {sent_prob(Sents_from_test[1], Bigram, 2)}\")\n",
        "print(f\"2-Trigram: {sent_prob(Sents_from_test[1], Trigram, 3)}\")\n",
        "print(\"\")\n",
        "print(f\"1-Unigram_sm: {sent_prob(Sents_from_test[0], Unigram_sm, 1)}\")\n",
        "print(f\"1-Bigram_sm: {sent_prob(Sents_from_test[0], Bigram_sm, 2)}\")\n",
        "print(f\"1-Trigram_sm: {sent_prob(Sents_from_test[0], Trigram_sm, 3)}\")\n",
        "print(f\"2-Unigram_sm: {sent_prob(Sents_from_test[1], Unigram_sm, 1)}\")\n",
        "print(f\"2-Bigram_sm: {sent_prob(Sents_from_test[1], Bigram_sm, 2)}\")\n",
        "print(f\"2-Trigram_sm: {sent_prob(Sents_from_test[1], Trigram_sm, 3)}\")"
      ]
    },
    {
      "cell_type": "markdown",
      "metadata": {
        "id": "yXJZrc6bD3X-"
      },
      "source": [
        "**Contrast** the smoothed and unsmoothed probabilities and **explain** the drastic changes (if any) in terms of unseen tokens and sequences."
      ]
    },
    {
      "cell_type": "markdown",
      "metadata": {
        "id": "wy10zAGgvBqR"
      },
      "source": [
        "█████ YOUR ANSWER HERE █████\n",
        "\n",
        "As already seen before, the probabilities for the Unigram lm models do not change.\n",
        "\n",
        "We see some zeros in the unsmoothed version of the models. This happens because unseen tokens have probabilities zero, which makes the probability of the whole sentence zero.\n",
        "\n",
        "In the smoothed version the zeros are substituted by very small probabilities obtained by the smoothing process. The final probabilities are therefore very small, so small that for the smoothed version of the Trigram model the value is probably so small that it cannot be stored in a float."
      ]
    },
    {
      "cell_type": "markdown",
      "metadata": {
        "id": "9x4nV5NVvBqS"
      },
      "source": [
        "### [Extra]\n",
        "\n",
        "**Optional** What percentage of the sentences in the test set get assigned probability 0 under your smoothed and unsmoothed language models?"
      ]
    },
    {
      "cell_type": "code",
      "execution_count": null,
      "metadata": {
        "collapsed": true,
        "id": "RZY0PfSlvBqS"
      },
      "outputs": [],
      "source": [
        "### ANSWER HERE ###"
      ]
    },
    {
      "cell_type": "markdown",
      "metadata": {
        "id": "u7HXaUKivBqS"
      },
      "source": [
        "## Ex 2.6 Perplexity [5pt]\n",
        "\n",
        "**Perplexity** is very frequently used **metric** for evaluating probabilistic models such as language models. The perplexity (sometimes called **PP** for short) of a language model on a sentence is the **inverse probability** of the sentence, **normalized** by the number of words:\n",
        "\n",
        "$$PP(w_1 \\dots w_n) = P(w_1\\dots w_n)^{-\\frac{1}{n}}.$$\n",
        "\n",
        "Here we can again approximate $P(w_1 \\dots w_n)$ with N-gram probabilities, as above.\n",
        "\n",
        "Note: Calculation of perplexity has resemblance with the **geometric mean** $(x_1\\cdots x_n)^{-\\frac{1}{n}}$ of the numbers $x_1,\\dots,x_n$. It is like the (regular) arithmetic mean, but with **products** instead of **sums**. The geometric mean is a more natural choice in the case of *PP* because behind $P(w_1\\dots w_n)$ is a series of $n$ products ([more here](https://en.wikipedia.org/wiki/Geometric_mean)).\n",
        "\n",
        "\n",
        "\n",
        "Compute the perplexity of the sentences in the training data (from exercise 2.1) based on the smoothed bigram language model. It is recommended to use `sent_prob` from Ex2.4.\n",
        "\n",
        "What big difference between the **probabilities** of the sentences and the **perplexities** of the sentences do you notice?  \n",
        "**Provide** a strong evidence (e.g., a concrete example or a plot) and **explain** the difference."
      ]
    },
    {
      "cell_type": "code",
      "execution_count": null,
      "metadata": {
        "id": "8kPgFt0SvBqS",
        "outputId": "b9d456c4-bf98-489b-88c8-d87b455ce2c5",
        "colab": {
          "base_uri": "https://localhost:8080/"
        }
      },
      "outputs": [
        {
          "output_type": "stream",
          "name": "stdout",
          "text": [
            "Low complexity sentence:\n",
            "Probability: 0.0011075223990933396\n",
            "Perplexity: 5.481657166183083\n",
            "\n",
            "High complexity sentence:\n",
            "Probability: 2.6879802008885824e-95\n",
            "Perplexity: 1420.2096671024117\n"
          ]
        }
      ],
      "source": [
        "# Feel free to reuse functions and variables form the previous exercises\n",
        "\n",
        "### YOUR CODE HERE ###\n",
        "sent_probability = defaultdict()\n",
        "sent_perplexity = defaultdict()\n",
        "\n",
        "# Calculate probability and perplexity for each sentence in the dataset using a bigram language model\n",
        "for line in Data1:\n",
        "  sent = ' '.join(line)\n",
        "  prob = sent_prob(sent, Bigram_sm, 2)\n",
        "  sent_probability[sent] = prob\n",
        "  sent_perplexity[sent] = pow(prob, (-1/len(line))) if prob != 0 else 0\n",
        "\n",
        "low_complexity_sent = \"<s> Yes . </s>\"\n",
        "high_complexity_sent = \"<s> ♫ ♫ Ooh , I’ve not tried to run away from song , ♫ ♫ I hear a persistent voice , more powerful than the enemy bombs . </s>\"\n",
        "print(\"Low complexity sentence:\")\n",
        "print(f\"Probability: {sent_probability[low_complexity_sent]}\")\n",
        "print(f\"Perplexity: {sent_perplexity[low_complexity_sent]}\")\n",
        "print(\"\")\n",
        "print(\"High complexity sentence:\")\n",
        "print(f\"Probability: {sent_probability[high_complexity_sent]}\")\n",
        "print(f\"Perplexity: {sent_perplexity[high_complexity_sent]}\")"
      ]
    },
    {
      "cell_type": "markdown",
      "metadata": {
        "id": "2bWMxWTwvBqT"
      },
      "source": [
        "█████ YOUR ANSWER HERE █████\n",
        "\n",
        "The biggest difference is that when the complexity of the sentence increases (higher number of infrequently used words or longer sentence), the probability decreases, while the perplexity increases. In fact, the low probabilities given by this test sentence cause its perplexity to be high which indicates poor performance of the Bi-gram model trained on that corpus. This difference is highlighted in the cell above, where probability and perplexity of a highly complex and a simple sentence are printed."
      ]
    },
    {
      "cell_type": "markdown",
      "metadata": {
        "id": "_lZOzaX5vBqT"
      },
      "source": [
        "# That's it!\n",
        "\n",
        "Congratulations, you have made it to the end of the tutorial. Here we will recap the gist of this notebook.\n",
        "\n",
        "**Make sure all your cells can be executed and all your answers are there. Then, read on if you're interested!**\n",
        "\n",
        "-----\n",
        "\n",
        "By now you should have a solid feeling for the problem of **sparsity in language data**; there's just never enough data. For the task of language modelling, we saw that sparsity is a serious challenge.\n",
        "\n",
        "It would be great to be able to model $p(w_n|w_1 \\dots w_{n-1})$ for unlimited $n$: the larger $n$ the better our language model should become at capturing the long-range dependencies between words that characterize actual human sentences, and the more probability our model will assign to such sentences as opposed to sentences that are word-soup. But in the N-gram approach, increasing $n$ will quickly kill all generalizing abilities of the model: the model will start to assign probabilities only to sentences it has seen in the training data.\n",
        "\n",
        "So, where to go from here? Here are three directions that we could head in.\n",
        "\n",
        "### Smoothing\n",
        "\n",
        "We have seen one example of smoothing in this lab: add-k smoothing. This is an easy method, both conceptually and implementation-wise. But the results are not great, and the effects it has on the distributions can be extreme.\n",
        "\n",
        "A much more sophisticated method of smoothing is **Kneser-Ney smoothing**. The method is described in detail in section 4.5 of J&M (3rd edition). This is one of the best-performing N-gram smoothing methods, and up to a few years ago, a popular implementation of it called [KenLM](https://kheafield.com/code/kenlm/) gave state-of-the-art results.\n",
        "\n",
        "### From words to characters\n",
        "\n",
        "In this lab we have considered language modeling as the task of predicting a **word** $w_n$ based on a history of **words** $w_1\\cdots w_n$. What if instead we let our basic units of modelling be **characters**? The task then becomes to model $p(c_k\\mid c_{k-N-1}\\dots c_{k-1})$ where each $c_i$ is now an ASCII character instead of an entire word.\n",
        "\n",
        "Suddenly sparsity of data is no longer a problem! The set of characters to use is tiny (< 100) compared to even a small-sized vocabulary as today. Have a look at this very illustrative notebook written by Yoav Golberg to see such a method in action: [The unreasonable effectiveness of Character-level Language Models](http://nbviewer.jupyter.org/gist/yoavg/d76121dfde2618422139).\n",
        "\n",
        "(So what is the downside?)\n",
        "\n",
        "\n",
        "### Neural language models\n",
        "\n",
        "The above notebook was actually written as a response to this blog post by Andrej Karpathy: [The Unreasonable Effectiveness of Recurrent Neural Networks](http://karpathy.github.io/2015/05/21/rnn-effectiveness/). Go ahead and read it if you haven't already: it is a superb introduction to the topic of Recurrent Neural Networks.\n",
        "\n",
        "Neural language models solve the problem of data sparsity in a different manner. Instead of estimating the probabilities $p(w_k\\mid w_{k-N-1}\\dots w_{k-1})$ by counting occurrences in the data, they use a neural network $f_{\\theta}$ parametrized by parameters $\\theta$ to predict this probability. The parameters $\\theta$ are learned through optimization.\n",
        "\n",
        "The simplest approach goes like this: each word in the history $w_{k-N-1}\\dots w_{k-1}$ is embedded separately giving vectors $e_{k-N-1}\\dots e_{k-1}$ and then concatenated into one long vector $[e_{k-N-1};\\dots ;e_{k-1}]$. The network then uses this history vector to predict a probability distribution over words $w$ in the vocabulary $V$:\n",
        "\n",
        "$$p(w \\mid w_{k-N-1}\\dots w_{k-1}) = f_{\\theta}([e_{k-N-1};\\dots;e_{k-1}]).$$\n",
        "\n",
        "(In order to produce legitimate probabilities the final layer of such a network will be for example a $softmax$.)\n",
        "\n",
        "This provides a solution to the sparsity problem by having the network let the individual embeddings of the words in the history interact through its non-linear transformation. We are letting the network figure out the smoothing itself!\n",
        "\n",
        "RNNs are a clever extension of this idea, where a hidden state vector $h$ is re-used and updated at each step $k$ in order to store the information of the entire history up to step $k-1$. That is, an RNN actually does away with the N-order approximation; it tries to model the full conditional directly! That means that\n",
        "\n",
        "$$p(w \\mid w_1\\dots w_{k-1}) \\approx RNN_{\\theta}([e_{k-1};h_{k-1}])$$\n",
        "\n",
        "where the hidden state $h_{k-1}$ is a compression of the *entire history* $w_1\\dots w_{k-1}$.\n",
        "\n",
        "Another great place to learn about RNNs, their problems, and solutions to those, is on the blog of [Christopher Olah](http://colah.github.io/posts/2015-08-Understanding-LSTMs/).\n",
        "\n",
        "-----------\n",
        "(And now, it's time to read the classic essay by Eugene Wigner that gave both of the posts their title: [The Unreasonable Effectiveness of Mathematics in the Natural Sciences](http://www.dartmouth.edu/~matc/MathDrama/reading/Wigner.html))"
      ]
    },
    {
      "cell_type": "markdown",
      "metadata": {
        "id": "acBrUUTFFdHr"
      },
      "source": [
        "# Acknowledgments\n",
        "\n",
        "Most of this lab was developed in collaboration with Joost Bastings and Dan Douwe.  \n",
        "Later it was revised by a couple of people.  \n",
        "The recent updates by Lasha Abzianidze make the notebook more streamlined and foolproof from the grading and the large course perspectives."
      ]
    }
  ],
  "metadata": {
    "anaconda-cloud": {},
    "colab": {
      "provenance": []
    },
    "kernelspec": {
      "display_name": "Python 3 (ipykernel)",
      "language": "python",
      "name": "python3"
    },
    "language_info": {
      "codemirror_mode": {
        "name": "ipython",
        "version": 3
      },
      "file_extension": ".py",
      "mimetype": "text/x-python",
      "name": "python",
      "nbconvert_exporter": "python",
      "pygments_lexer": "ipython3",
      "version": "3.8.10"
    },
    "toc": {
      "base_numbering": 1,
      "nav_menu": {},
      "number_sections": true,
      "sideBar": true,
      "skip_h1_title": false,
      "title_cell": "Table of Contents",
      "title_sidebar": "Contents",
      "toc_cell": false,
      "toc_position": {},
      "toc_section_display": true,
      "toc_window_display": false
    }
  },
  "nbformat": 4,
  "nbformat_minor": 0
}