{
  "cells": [
    {
      "cell_type": "markdown",
      "metadata": {
        "id": "OHUHsaYZf29e"
      },
      "source": [
        "# Lab 4: Recurrent models\n",
        "\n",
        "This lab represents the practice with embeddings (word vectors, in this case) and recurrent neural models in NLP. The first part focuses on embeddings as input to a recurrent model, and the second part focuses on contextual embeddings derived from transformer models, applying them to the task of word sense disambiguation following the approach from the original paper by [Peters et al. (2018)](https://aclanthology.org/N18-1202.pdf)"
      ]
    },
    {
      "cell_type": "markdown",
      "metadata": {
        "id": "-T11u_DzP4K6"
      },
      "source": [
        "# Rules\n",
        "* The assignment should submitted to **Blackboard** as `.ipynb`. Only **one submission per group**.\n",
        "\n",
        "* The **filename** should be the group number, e.g., `01.ipynb` or `31.ipynb`.\n",
        "\n",
        "* The questions marked **Extra** or **Optional** are an additional challenge for those interested in going the extra mile. There are no points for them.\n",
        "\n",
        "**Rules for implementation**\n",
        "\n",
        "* You should **write your code and answers in this iPython Notebook**. (See http://ipython.org/notebook.html for reference material.) If you have problems, please contact your teaching assistant.\n",
        "\n",
        "* Use only **one cell for code** and **one cell for markdown** answers!    \n",
        "\n",
        "    * Put all code in the cell with the `## YOUR CODE HERE ##` comment.\n",
        "    * Provide brief comments on what the code does at crucial points.\n",
        "    * For theoretical questions, put your solution in the `█████ YOUR ANSWER HERE █████` cell and keep the header.\n",
        "\n",
        "* Don't change or delete any initially provided cells, either text or code, unless explicitly instructed to do so.\n",
        "* Don't delete the comment lines `#TEST...` or edit their code cells.\n",
        "* Don't change the names of provided functions and variables or arguments of the functions.\n",
        "* Leave the output of your code in the output cells.\n",
        "* **Don't output unnecessary info** (e.g., printing variables for debugging purposes) or **add extra code cells** (e.g., for mounting your google drive). This clutters the notebook and slows down the grading.\n",
        "* Test your code and **make sure we can run your notebook** in the colab environment.\n",
        "* Don't forget to fill in the contribution information.\n",
        "\n",
        "<font color=\"red\">You following these rules helps us to grade the submissions relatively efficiently. If these rules are violated, a submission will be subject to penalty points.</font>  "
      ]
    },
    {
      "cell_type": "markdown",
      "metadata": {
        "id": "nNT1WNEnlkBC"
      },
      "source": [
        "# <font color=\"red\">Contributions</font>\n",
        "\n",
        "\n",
        "* Samuele Milanese, Matteo Di Bari, Riccardo Campanella\n",
        "* we all contributed equally"
      ]
    },
    {
      "cell_type": "markdown",
      "metadata": {
        "id": "UXUCfBV-9l7-"
      },
      "source": [
        "# General instructions\n",
        "\n",
        "Before diving into the exercises, keep in mind that the variables defined previously can be reused in the subsequent cells. So there is no need to redefine the same variable in multiple sections, e.g., it is sufficient to read the file in a variable once and later reuse the value of the variable, instead of re-reading the file.   \n",
        "\n",
        "If your code is too long and using several code cells instead of a single code cell. Rethink how to organize data in variables that you can easily access required info. Reading about [list comprehension](https://realpython.com/list-comprehension-python/#leverage-list-comprehensions) can be useful.\n",
        "\n",
        "Your code will often be evaluated based on its behaviour. So, during the grading some code cells are executed. If code runtime is too long than expected, this will hinder grading.\n",
        "\n",
        "<font color=\"red\">**The cases similar to the above-mentioned ones, will be subject to penalty points.**</font>\n",
        "\n",
        "<font color=\"red\">**Pay attention to test units**</font> that are either provided as assert cases or as comments. Test units help you by giving you a hint about a correct answer. Note that **passing test units doesn't guarantee the full points** for an execise because test units are incomplete and the code might fail on other test units."
      ]
    },
    {
      "cell_type": "markdown",
      "metadata": {
        "id": "vH8nlrr0adyB"
      },
      "source": [
        "# Part 1: POS tagging with LSTM\n",
        "\n",
        "In the first part of lab 4, we will play with training a recurrent model for part of speech tagging. We start with implementing the evaluation and training procedures for LSTM-based tagger. Initially we will work on the toy data so that you understand the procedures. Later we use the Brown corpus with Universal POS tags. We will train a tagger on the data and analyse the training dynamics. Then we will use pre-trained word embeddings to initialize an LSTM. We will experiment with training taggers with and without pre-trained word vectors."
      ]
    },
    {
      "cell_type": "markdown",
      "metadata": {
        "id": "n2bCocjNWhJe"
      },
      "source": [
        "## Setup"
      ]
    },
    {
      "cell_type": "code",
      "execution_count": 1,
      "metadata": {
        "id": "veXo1-nEgRcM"
      },
      "outputs": [],
      "source": [
        "import random, math\n",
        "import nltk\n",
        "from collections import defaultdict, Counter\n",
        "import matplotlib.pyplot as plt\n",
        "import numpy as np\n",
        "# from sklearn.metrics import confusion_matrix, accuracy_score, ConfusionMatrixDisplay\n",
        "from tqdm import tqdm\n",
        "\n",
        "# if any cell errors with \"A UTF-8 locale is required. Got ANSI_X3.4-1968\"\n",
        "# uncomment and run the next two lines\n",
        "import locale\n",
        "locale.getpreferredencoding = lambda: \"UTF-8\""
      ]
    },
    {
      "cell_type": "code",
      "execution_count": 2,
      "metadata": {
        "id": "4RJvGiFM7M46"
      },
      "outputs": [],
      "source": [
        "# torch-specific code\n",
        "import torch\n",
        "import torch.nn as nn\n",
        "import torch.nn.functional as F\n",
        "import torch.optim as optim\n",
        "import torchtext\n",
        "torchtext.disable_torchtext_deprecation_warning()"
      ]
    },
    {
      "cell_type": "code",
      "execution_count": 3,
      "metadata": {
        "colab": {
          "base_uri": "https://localhost:8080/"
        },
        "id": "H0x8eXNmcUXT",
        "outputId": "7ac5df40-64bb-47f5-a08d-700c9efa33ef"
      },
      "outputs": [
        {
          "output_type": "stream",
          "name": "stdout",
          "text": [
            "NLTK version: 3.8.1\n",
            "torch version: 2.3.0+cu121\n"
          ]
        }
      ],
      "source": [
        "print(f\"NLTK version: {nltk.__version__}\")\n",
        "print(f\"torch version: {torch.__version__}\")"
      ]
    },
    {
      "cell_type": "code",
      "execution_count": 4,
      "metadata": {
        "colab": {
          "base_uri": "https://localhost:8080/"
        },
        "id": "4xazspBAgWsY",
        "outputId": "091e2497-6e17-4413-fbe9-26456de1ba53"
      },
      "outputs": [
        {
          "output_type": "stream",
          "name": "stderr",
          "text": [
            "[nltk_data] Downloading package brown to /root/nltk_data...\n",
            "[nltk_data]   Unzipping corpora/brown.zip.\n",
            "[nltk_data] Downloading package universal_tagset to /root/nltk_data...\n",
            "[nltk_data]   Unzipping taggers/universal_tagset.zip.\n",
            "[nltk_data] Downloading package semcor to /root/nltk_data...\n",
            "[nltk_data] Downloading package wordnet to /root/nltk_data...\n"
          ]
        },
        {
          "output_type": "execute_result",
          "data": {
            "text/plain": [
              "True"
            ]
          },
          "metadata": {},
          "execution_count": 4
        }
      ],
      "source": [
        "# download several data incorporated in NLTK\n",
        "nltk.download('brown')\n",
        "nltk.download('universal_tagset')\n",
        "nltk.download('semcor')\n",
        "nltk.download('wordnet')"
      ]
    },
    {
      "cell_type": "code",
      "execution_count": 5,
      "metadata": {
        "id": "0UkhrxK27K4y"
      },
      "outputs": [],
      "source": [
        "# Some auxiliary functions that will be reused throughout the notebook\n",
        "\n",
        "def plot_numbers(num_listm, xlabel=\"Epochs\", ylabel=\"Loss\", label=None):\n",
        "    \"\"\" Visualizes a list of numbers as a line plot\n",
        "    \"\"\"\n",
        "    plt.plot(np.arange(len(num_listm)), num_listm, 'o-', markersize=2, label=label)\n",
        "    plt.ylabel(ylabel)\n",
        "    plt.xlabel(xlabel)\n",
        "    if label: plt.legend()\n",
        "\n",
        "# Let's plot the loss values and see how training on more epochs decreases the loss value\n",
        "def plot_results(res, parts=(\"train\", \"valid\"), metrics=(\"loss\", \"acc\"), title=None):\n",
        "    \"\"\" Shorthand for contrasting loss and accuracy numbers obtained on different datasets\n",
        "    \"\"\"\n",
        "    for m in metrics:\n",
        "        for p in parts:\n",
        "            plot_numbers(res[p][m], label=f\"{p} {m}\", ylabel=m)\n",
        "        if title: plt.title(title)\n",
        "        plt.show()\n",
        "\n",
        "def train_validation_split(sequence, train_ratio, valid_ratio, seed=0, seperate_tags=False):\n",
        "    \"\"\" returns two non-overlapping subpart of the input sequence.\n",
        "        The sizes of the parts satisfy the size ration constraint.\n",
        "        If seperate_tags is on, this means the input has format of [(w1,pos1), (w2,pos2)]\n",
        "        and it will be converted to [(w1,w2), (pos1,pos2)]\n",
        "    \"\"\"\n",
        "    assert train_ratio + valid_ratio <= 1\n",
        "    population = list(sequence)\n",
        "    n = len(population)\n",
        "    train_num, valid_num = math.floor(n * train_ratio), math.floor(n * valid_ratio)\n",
        "    random.seed(seed)\n",
        "    data = random.sample(population, train_num + valid_num)\n",
        "    if seperate_tags:\n",
        "        data = [ list(zip(*sent)) for sent in data ]\n",
        "    return data[:train_num], data[train_num:]"
      ]
    },
    {
      "cell_type": "markdown",
      "metadata": {
        "id": "imOSUJaxMUG1"
      },
      "source": [
        "## LSTM tagger\n",
        "\n",
        "Read the [pytorch tutorial](https://pytorch.org/tutorials/beginner/nlp/sequence_models_tutorial.html) on sequence tagging with LSTM. It is very important that you practice how to read and understand the tutorials on web. Not all tutorials are written in a clear way, and understanding the overlooked parts requires practice and effort.\n",
        "Fortunately, the aforementioned tutorial is very well written. Though it uses many new operations related to tensors (=a multi-dimensional matrix containing elements of a single data type).\n",
        "\n",
        "Pytorch is well documented and almost any function, method, or class can be looked up [here](https://pytorch.org/docs/stable/index.html), in the top-left corner. For example, `torch.randn` is defined [here](https://pytorch.org/docs/stable/generated/torch.randn.html#torch.randn). Note that keywords in the code of the tutorial are hyperlinks with links to the corresponding documentation.\n",
        "\n",
        "The code below is copied from the tutorial page as we will reuse certain variables and functions. We only renamed the data variable name to indicate that it is toy data."
      ]
    },
    {
      "cell_type": "code",
      "execution_count": 6,
      "metadata": {
        "colab": {
          "base_uri": "https://localhost:8080/"
        },
        "id": "VA_7zF4cNAkh",
        "outputId": "09cfa3e2-07a6-4637-d257-14b18a8c9ca6"
      },
      "outputs": [
        {
          "output_type": "stream",
          "name": "stdout",
          "text": [
            "{'The': 0, 'dog': 1, 'ate': 2, 'the': 3, 'apple': 4, 'Everybody': 5, 'read': 6, 'that': 7, 'book': 8}\n"
          ]
        }
      ],
      "source": [
        "def prepare_sequence(seq, to_ix):\n",
        "    idxs = [to_ix[w] for w in seq]\n",
        "    return torch.tensor(idxs, dtype=torch.long)\n",
        "\n",
        "\n",
        "toy_training_data = [\n",
        "    # Tags are: DET - determiner; NN - noun; V - verb\n",
        "    # For example, the word \"The\" is a determiner\n",
        "    (\"The dog ate the apple\".split(), [\"DET\", \"NN\", \"V\", \"DET\", \"NN\"]),\n",
        "    (\"Everybody read that book\".split(), [\"NN\", \"V\", \"DET\", \"NN\"])\n",
        "]\n",
        "word_to_ix = {}\n",
        "# For each words-list (sentence) and tags-list in each tuple of training_data\n",
        "for sent, tags in toy_training_data:\n",
        "    for word in sent:\n",
        "        if word not in word_to_ix:  # word has not been assigned an index yet\n",
        "            word_to_ix[word] = len(word_to_ix)  # Assign each word with a unique index\n",
        "print(word_to_ix)\n",
        "tag_to_ix = {\"DET\": 0, \"NN\": 1, \"V\": 2}  # Assign each tag with a unique index\n",
        "\n",
        "# These will usually be more like 32 or 64 dimensional.\n",
        "# We will keep them small, so we can see how the weights change as we train.\n",
        "EMBEDDING_DIM = 6\n",
        "HIDDEN_DIM = 6"
      ]
    },
    {
      "cell_type": "markdown",
      "metadata": {
        "id": "20NvL5eTcwbI"
      },
      "source": [
        "The code below is also copied from the tutorial but it incorporates two additions:\n",
        "\n",
        "1.   Fixing the torch's random generator seeds: see `nn_seed` and `em_seed`. These seeds control the initialization of `self.word_embeddings` from [Embedding](https://pytorch.org/docs/stable/generated/torch.nn.Embedding.html#torch.nn.Embedding) and `self.lstm` from [LSTM](https://pytorch.org/docs/stable/generated/torch.nn.LSTM.html#torch.nn.LSTM). In the first case, the `vocab_size` number of `embedding_dim`-dimensional tensors are generated, while in the second case the LSTM network is initialized with random weights (note that `self.hidden2tag` is also randomized weights denoting `V` matrix, from J&M chapter 9, that is used to obtain output from the hidden layer for each time step). We make the LSTM initialization based on the seed to maintain replicability of the same results.\n",
        "\n",
        "2.   Making the class flexible to allow initialization from pre-trained word embeddings. `embedding` input can be a tuple that specifies the dimensions of the embedding layer or a ready tensor that records pre-trained word embeddings."
      ]
    },
    {
      "cell_type": "code",
      "execution_count": 7,
      "metadata": {
        "id": "KuWNTJXRMN8j"
      },
      "outputs": [],
      "source": [
        "class LSTMTagger(nn.Module):\n",
        "\n",
        "    def __init__(self, embedding, hidden_dim, tagset_size, nn_seed=0, em_seed=0):\n",
        "        super(LSTMTagger, self).__init__()\n",
        "        self.hidden_dim = hidden_dim\n",
        "\n",
        "        if isinstance(embedding, torch.Tensor):\n",
        "            self.word_embeddings = nn.Embedding.from_pretrained(embedding)\n",
        "            embedding_dim = self.word_embeddings.weight.size(1)\n",
        "        else:\n",
        "            torch.manual_seed(em_seed)\n",
        "            vocab_size, embedding_dim = embedding\n",
        "            self.word_embeddings = nn.Embedding(vocab_size, embedding_dim)\n",
        "\n",
        "        # The LSTM takes word embeddings as inputs, and outputs hidden states\n",
        "        # with dimensionality hidden_dim.\n",
        "        torch.manual_seed(nn_seed)\n",
        "        self.lstm = nn.LSTM(embedding_dim, hidden_dim)\n",
        "\n",
        "        # The linear layer that maps from hidden state space to tag space\n",
        "        self.hidden2tag = nn.Linear(hidden_dim, tagset_size)\n",
        "\n",
        "    def forward(self, sentence):\n",
        "        embeds = self.word_embeddings(sentence)\n",
        "        lstm_out, _ = self.lstm(embeds.view(len(sentence), 1, -1))\n",
        "        tag_space = self.hidden2tag(lstm_out.view(len(sentence), -1))\n",
        "        tag_scores = F.log_softmax(tag_space, dim=1)\n",
        "        return tag_scores"
      ]
    },
    {
      "cell_type": "markdown",
      "metadata": {
        "id": "yYGkk1OghOjh"
      },
      "source": [
        "## Ex1.1a [7pt] Evaluation\n",
        "\n",
        "The training (i.e. last) code in the [tutorial](https://pytorch.org/tutorials/beginner/nlp/sequence_models_tutorial.html#example-an-lstm-for-part-of-speech-tagging) contains lines of code that we will reuse several times. That's why we are going to make specific functions out of them. The first function we will make takes a model and data (and other stuff) and returns predictions and metrics wrapped in a dictionary. read the function definition carefully for more details."
      ]
    },
    {
      "cell_type": "code",
      "execution_count": 8,
      "metadata": {
        "id": "k0OyOdUIZen_"
      },
      "outputs": [],
      "source": [
        "def evaluate_tagger(model, data, w2i=None, t2i=None, get_tags=False, get_scores=False):\n",
        "    \"\"\" model - an NN model, in particular an LSTMTagger object\n",
        "        data - a sequence of pairs of a list of tokens and a list of POS tags\n",
        "        w2i - a dict mapping words to indices, when w2i is not specified this means that\n",
        "            tokens are already mapped to indices in data and no mapping is needed. This option\n",
        "            will be handy when evaluating a tagger several times on a data during the training.\n",
        "        t2i - a dict mapping POS tags to indices. When t2i is not specified this means that\n",
        "            pos tags are already mapped to indices in data, and also when returning tags\n",
        "            as an output, they won't be mapped to human readable tags, but instead returned\n",
        "            as indices.\n",
        "        get_tags - whether return predicted tags (i.e., most probable tag per token)\n",
        "        get_scores - whether to return actual tag scores for each token\n",
        "    return:\n",
        "        a dictionary with keys 'loss', 'acc', 'scores', 'tags'.\n",
        "        Note that the loss value is averaged across sentences: (loss_sen_1+...loss_sen_N)/N.\n",
        "        The keys are present in the dictionary for certain values according to the input.\n",
        "        For example, if get_tags=False, there shouldn't be 'tags' key in the dictionary.\n",
        "        As an example, see the reference output below.\n",
        "    \"\"\"\n",
        "    ### YOUR CODE HERE ###\n",
        "    loss_function = nn.NLLLoss()\n",
        "\n",
        "    losses = []\n",
        "    score_list = []\n",
        "    tag_list = []\n",
        "\n",
        "    correct_predictions = 0\n",
        "    total_tags = 0\n",
        "\n",
        "    with torch.no_grad():\n",
        "        for sentence, tags in data:\n",
        "            # Preparing input and target tags\n",
        "            sentence_in = prepare_sequence(sentence, w2i) if w2i else sentence\n",
        "            targets = prepare_sequence(tags, t2i) if t2i else tags\n",
        "\n",
        "            score = model(sentence_in)\n",
        "            losses.append(loss_function(score, targets))\n",
        "            score_list.append(score)\n",
        "\n",
        "            # Finding the predictions (most probable tag per token)\n",
        "            probabilities = F.softmax(score, dim=1)\n",
        "            predicted_tags = torch.argmax(probabilities, dim=1)\n",
        "\n",
        "            # Updating the number of correctly predicted tags\n",
        "            correct_predictions += (predicted_tags == targets).sum().item()\n",
        "            total_tags += len(targets)\n",
        "\n",
        "            # I translate the predicted tags indices in human readable tags (if t2i is given)\n",
        "            if t2i:\n",
        "              predicted_tags_list = predicted_tags.tolist()\n",
        "              readable_tags = []\n",
        "              for _ in predicted_tags_list:\n",
        "                readable_tags.append(list(t2i.keys())[_])\n",
        "              predicted_tags = readable_tags\n",
        "\n",
        "            tag_list.append(predicted_tags)\n",
        "\n",
        "    # Loss value is averaged across sentences\n",
        "    loss_avg = np.mean(np.array(losses), dtype = float)\n",
        "\n",
        "    # Computing the accuracy\n",
        "    acc = correct_predictions / total_tags\n",
        "\n",
        "    ret = {'loss': loss_avg, 'acc' : acc}\n",
        "    if get_tags:\n",
        "      ret['tags'] = tag_list\n",
        "    if get_scores:\n",
        "      ret['scores'] = score_list\n",
        "\n",
        "    return ret"
      ]
    },
    {
      "cell_type": "code",
      "execution_count": 9,
      "metadata": {
        "colab": {
          "base_uri": "https://localhost:8080/"
        },
        "id": "frZtHkpsl43t",
        "outputId": "ace3ad8c-6c66-4bd9-dde4-b53eaf5689cd"
      },
      "outputs": [
        {
          "output_type": "stream",
          "name": "stdout",
          "text": [
            "{'loss': 1.0800790786743164, 'acc': 0.5555555555555556, 'tags': [['NN', 'NN', 'DET', 'NN', 'NN'], ['NN', 'DET', 'DET', 'NN']], 'scores': [tensor([[-1.0546, -1.0076, -1.2498],\n",
            "        [-1.0310, -1.0182, -1.2656],\n",
            "        [-0.9870, -1.0311, -1.3069],\n",
            "        [-1.1044, -0.9940, -1.2090],\n",
            "        [-1.0882, -0.9960, -1.2248]]), tensor([[-1.0523, -0.9922, -1.2727],\n",
            "        [-0.9906, -0.9994, -1.3451],\n",
            "        [-0.9478, -1.0155, -1.3856],\n",
            "        [-1.0980, -0.9716, -1.2449]])]}\n",
            "Tokens, gold tags, and predicetd most probable tag per token\n",
            "  The     dog     ate     the    apple  \n",
            "  DET      NN      V      DET      NN   \n",
            "   NN      NN     DET      NN      NN   \n",
            "Everybody  read    that    book  \n",
            "   NN      V      DET      NN   \n",
            "   NN     DET     DET      NN   \n"
          ]
        }
      ],
      "source": [
        "# TEST Ex1.1\n",
        "# deterministically initialize LSTM tagger and predict the tags for the data\n",
        "toy_tagger = LSTMTagger((len(word_to_ix), EMBEDDING_DIM), HIDDEN_DIM, len(tag_to_ix))\n",
        "# evaluate tagger\n",
        "pred = evaluate_tagger(toy_tagger, toy_training_data, w2i=word_to_ix, t2i=tag_to_ix, get_tags=True, get_scores=True)\n",
        "print(pred)\n",
        "\n",
        "print(\"Tokens, gold tags, and predicetd most probable tag per token\")\n",
        "for (sent, tags1), tags2 in zip(toy_training_data, pred['tags']):\n",
        "    for seq in (sent, tags1, tags2):\n",
        "        print(''.join([ f\"{el:^8}\" for el in seq ]))"
      ]
    },
    {
      "cell_type": "markdown",
      "metadata": {
        "id": "vk7AUpG9YqbB"
      },
      "source": [
        "Reference output:\n",
        "\n",
        "```\n",
        "{'loss': 1.0800790786743164, 'acc': 0.5555555555555556, 'tags': [['NN', 'NN', 'DET', 'NN', 'NN'], ['NN', 'DET', 'DET', 'NN']], 'scores': [tensor([[-1.0546, -1.0076, -1.2498],\n",
        "        [-1.0310, -1.0182, -1.2656],\n",
        "        [-0.9870, -1.0311, -1.3069],\n",
        "        [-1.1044, -0.9940, -1.2090],\n",
        "        [-1.0882, -0.9960, -1.2248]]), tensor([[-1.0523, -0.9922, -1.2727],\n",
        "        [-0.9906, -0.9994, -1.3451],\n",
        "        [-0.9478, -1.0155, -1.3856],\n",
        "        [-1.0980, -0.9716, -1.2449]])]}\n",
        "Tokens, gold tags, and predicetd most probable tag per token\n",
        "  The     dog     ate     the    apple\n",
        "  DET      NN      V      DET      NN\n",
        "   NN      NN     DET      NN      NN\n",
        "Everybody  read    that    book\n",
        "   NN      V      DET      NN\n",
        "   NN     DET     DET      NN\n",
        "```"
      ]
    },
    {
      "cell_type": "markdown",
      "metadata": {
        "id": "9jLZ7Rx0sftx"
      },
      "source": [
        "## Q1.1b [3pt] Explain predictions\n",
        "\n",
        "\n",
        "\n",
        "1.   *Given the above predictions from the tagger, is there any rationale for why the tagger predicts NN often?*\n",
        "2.   *What is the predicted probability distribution over the tags for \"that\" in the data*? In case your tagger's output is different from the reference output, make clear which output your answer is based on.\n",
        "\n",
        "\n",
        "\n",
        "<font color=\"red\">█████ YOUR ANSWER HERE █████</font>\n",
        "\n",
        "1 - The tagger predicts NN often because it is the most common tag in the toy training data.\n",
        "\n",
        "2 - These are the scores for \"that\": [-0.9478, -1.0155, -1.3856]. This is the probability distribution computed using them: [0.3876, 0.3622, 0.2502]"
      ]
    },
    {
      "cell_type": "markdown",
      "metadata": {
        "id": "fbR99UKAqIJz"
      },
      "source": [
        "## Ex1.2: [8pt] Training\n",
        "\n",
        "We need to write a function that trains a model on the data. This function later will be reused for training the tagger on different training sets. Again, reuse the code from the tutorial page to complete the body of the function. *Keep the learning rate same*. During training the training data is isually shuffled, but here, for simplicity, *don't shuffle the data*, keep it as it is.\n",
        "Note that the function has to return the list of loss and accuracy values that is one item longer than the number of epochs.\n",
        "Don't forget to **reuse** `evaluate_tagger` function.\n",
        "Read the function definition for more details.\n",
        "\n",
        "**Hints**: the function presupposes training and evaluating a model on the same data several times. Make sure that you convert the data into tensors once and not for every epoch.\n",
        "Feel free to define sub-functions that will be reused for train and valid parts. This will make the code less redundant.\n",
        "The tqdm module gives a nice way to report the progress of training."
      ]
    },
    {
      "cell_type": "code",
      "execution_count": 10,
      "metadata": {
        "id": "ptqbum92joqK"
      },
      "outputs": [],
      "source": [
        "def train_tagger(model, train, w2i, t2i,\n",
        "                 valid=None, epoch_num=10, verbose=False):\n",
        "    \"\"\" model - an NN model, in particular an LSTMTagger object\n",
        "        train - a sequence of pairs of a list of tokens and a list of POS tags\n",
        "        w2i - a dict mapping words to indices\n",
        "        t2i - a dict mapping POS tags to indices\n",
        "        valid - optional validation data structurally identical to train.\n",
        "            When the validation data is provided, the output also records results about it.\n",
        "        epoch_num - the number of times to train the model on the train data\n",
        "        verbose - a flag that makes the function print various useful info. For example,\n",
        "            it can be used to turn on/off the tqdm progress bar during the training.\n",
        "\n",
        "        return:\n",
        "            a dictionary with keys 'train' and 'valid', the existence of the latter depends\n",
        "            on whether the valid arg is provided. The values of the keys are dictionaries\n",
        "            with keys 'loss', 'acc', 'best_acc'. The first two have a list value of length epoch_num + 1.\n",
        "            This is because it includes the loss & acc of the initial model and the final too.\n",
        "            Note that the loss value should be averaged across sentences: (loss_sen_1+...loss_sen_N)/N.\n",
        "            'best_acc' keeps the max values from the 'acc' list.\n",
        "            See the reference output below as an example.\n",
        "    \"\"\"\n",
        "    ### YOUR CODE HERE ###\n",
        "    loss_function = nn.NLLLoss()\n",
        "    optimizer = optim.SGD(model.parameters(), lr=0.1)\n",
        "    n_sentences = len(train)\n",
        "    ret = {}\n",
        "    ret['train'] = {'loss': [], 'acc': [], 'best_acc': None}\n",
        "    if valid: ret['valid'] = {'loss': [], 'acc': [], 'best_acc': None}\n",
        "\n",
        "    # Evaluating the initial model\n",
        "    train_evaluations = evaluate_tagger(model, train, w2i=w2i, t2i=t2i, get_tags=False, get_scores=False)\n",
        "    ret['train']['loss'].append(train_evaluations['loss'])\n",
        "    ret['train']['acc'].append(train_evaluations['acc'])\n",
        "    if valid:\n",
        "        val_evaluations = evaluate_tagger(model, valid, w2i=w2i, t2i=t2i, get_tags=False, get_scores=False)\n",
        "        ret['valid']['loss'].append(val_evaluations['loss'])\n",
        "        ret['valid']['acc'].append(val_evaluations['acc'])\n",
        "\n",
        "    # This loop goes for epoch_num + 1 times because the first iteration\n",
        "    # is dedicated to the evaluation of the initial model (with no trainig)\n",
        "    rng = tqdm(range(epoch_num)) if verbose else range(epoch_num)\n",
        "    for epoch in rng:\n",
        "        for sentence, tags in train:\n",
        "            # Clearing the gradients before each\n",
        "            model.zero_grad()\n",
        "\n",
        "            # Preparing the inputs\n",
        "            sentence_in = prepare_sequence(sentence, w2i)\n",
        "            targets = prepare_sequence(tags, t2i)\n",
        "\n",
        "            # Running the forward pass\n",
        "            tag_scores = model(sentence_in)\n",
        "\n",
        "            # Updating the parameters\n",
        "            loss = loss_function(tag_scores, targets)\n",
        "            loss.backward()\n",
        "            optimizer.step()\n",
        "\n",
        "        # Evaluating with train and validation set and updating the returned dictionary\n",
        "        train_evaluations = evaluate_tagger(model, train, w2i=w2i, t2i=t2i, get_tags=False, get_scores=False)\n",
        "        ret['train']['loss'].append(train_evaluations['loss'])\n",
        "        ret['train']['acc'].append(train_evaluations['acc'])\n",
        "        if valid:\n",
        "            val_evaluations = evaluate_tagger(model, valid, w2i=w2i, t2i=t2i, get_tags=False, get_scores=False)\n",
        "            ret['valid']['loss'].append(val_evaluations['loss'])\n",
        "            ret['valid']['acc'].append(val_evaluations['acc'])\n",
        "\n",
        "    # Computing the best accuracy for train and validation set\n",
        "    ret['train']['best_acc'] = np.max(ret['train']['acc'])\n",
        "    if valid: ret['valid']['best_acc'] = np.max(ret['valid']['acc'])\n",
        "\n",
        "    return ret"
      ]
    },
    {
      "cell_type": "code",
      "execution_count": 11,
      "metadata": {
        "colab": {
          "base_uri": "https://localhost:8080/"
        },
        "id": "LSvoKxNPwdqc",
        "outputId": "4a45955e-00b1-4996-89b4-9e32e1c6cfe4"
      },
      "outputs": [
        {
          "output_type": "stream",
          "name": "stdout",
          "text": [
            "results: {'train': {'loss': [1.0800790786743164, 1.0762487053871155, 1.072744369506836, 1.069520890712738, 1.0665384531021118, 1.0637630820274353, 1.0611646175384521, 1.0587173104286194, 1.0563986897468567, 1.0541892051696777, 1.052071988582611, 1.0500323176383972, 1.048057198524475, 1.0461354851722717, 1.0442574620246887, 1.0424144864082336, 1.04059898853302, 1.0388041734695435, 1.0370243191719055, 1.0352540016174316, 1.0334884524345398, 1.0317234992980957, 1.0299551486968994, 1.0281798839569092, 1.0263945758342743, 1.0245959162712097, 1.0227813720703125, 1.0209480822086334, 1.0190935730934143, 1.0172154307365417, 1.0153113901615143, 1.0133792757987976, 1.0114167928695679, 1.0094218254089355, 1.0073922872543335, 1.0053260922431946, 1.0032211244106293, 1.0010755360126495, 0.9988870024681091, 0.9966534376144409, 0.9943730235099792, 0.9920433461666107, 0.9896624088287354, 0.9872280955314636, 0.9847381114959717, 0.9821901917457581, 0.9795820713043213, 0.9769113957881927, 0.974175900220871, 0.971373051404953, 0.968500405550003, 0.9655555188655853, 0.9625357389450073, 0.9594384133815765, 0.9562608897686005, 0.9530004262924194, 0.9496542811393738, 0.9462195336818695, 0.9426933825016022, 0.9390727877616882, 0.9353549182415009, 0.9315364360809326, 0.9276146292686462, 0.9235861897468567, 0.9194479286670685, 0.9151967763900757, 0.9108293950557709, 0.9063427448272705, 0.9017335474491119, 0.8969986140727997, 0.8921345770359039, 0.8871385455131531, 0.8820073008537292, 0.8767377138137817, 0.8713269233703613, 0.8657719492912292, 0.8600700199604034, 0.854218602180481, 0.8482151329517365, 0.8420574069023132, 0.8357434272766113, 0.8292713165283203, 0.8226395547389984, 0.8158470094203949, 0.8088926374912262, 0.8017761707305908, 0.7944974899291992, 0.7870568633079529, 0.7794551849365234, 0.7716937363147736, 0.7637743949890137, 0.75569948554039, 0.7474720180034637, 0.7390954494476318, 0.7305739521980286, 0.7219122648239136, 0.7131155133247375, 0.7041897773742676, 0.6951413750648499, 0.685977429151535, 0.6767054200172424, 0.6673334836959839, 0.6578699946403503, 0.64832404255867, 0.6387049555778503, 0.6290224492549896, 0.6192863881587982, 0.609507143497467, 0.5996949076652527, 0.5898602306842804, 0.5800137519836426, 0.5701659023761749, 0.5603272616863251, 0.5505081415176392, 0.5407186597585678, 0.5309689044952393, 0.5212685465812683, 0.5116268545389175, 0.5020530521869659, 0.49255552887916565, 0.483142614364624, 0.47382208704948425, 0.4646011292934418, 0.4554864913225174, 0.44648462533950806, 0.4376011937856674, 0.42884138226509094, 0.4202100783586502, 0.4117113947868347, 0.4033491611480713, 0.395126610994339, 0.38704653084278107, 0.379111185669899, 0.37132251262664795, 0.36368197202682495, 0.35619066655635834, 0.34884923696517944, 0.3416581004858017, 0.3346172571182251, 0.32772640883922577, 0.3209850490093231, 0.3143923431634903, 0.30794723331928253, 0.3016485273838043, 0.2954947054386139, 0.28948405385017395, 0.28361502289772034, 0.27788547426462173, 0.27229341119527817, 0.2668366879224777, 0.2615130618214607, 0.25632015615701675, 0.251255564391613, 0.24631685763597488, 0.24150147289037704, 0.23680688440799713, 0.23223049938678741, 0.22776976227760315, 0.22342193126678467, 0.2191844955086708, 0.21505482494831085, 0.21103033423423767, 0.20710834860801697, 0.20328643172979355, 0.19956189393997192, 0.1959322690963745, 0.19239509105682373, 0.18894782662391663, 0.18558817356824875, 0.18231367319822311, 0.17912206798791885, 0.17601101845502853, 0.17297828942537308, 0.17002176493406296, 0.16713915765285492, 0.16432850807905197, 0.16158772259950638, 0.15891476720571518, 0.15630778670310974, 0.15376485884189606, 0.1512840986251831, 0.1488637924194336, 0.14650212973356247, 0.14419739693403244, 0.14194804430007935, 0.13975240662693977, 0.13760893791913986, 0.13551614433526993, 0.13347257673740387, 0.1314767748117447, 0.12952743843197823, 0.12762318551540375, 0.12576273828744888, 0.12394480407238007, 0.12216820195317268, 0.12043175473809242, 0.11873431131243706, 0.11707476153969765, 0.11545208096504211, 0.1138651855289936, 0.11231310293078423], 'acc': [0.5555555555555556, 0.5555555555555556, 0.5555555555555556, 0.5555555555555556, 0.4444444444444444, 0.4444444444444444, 0.4444444444444444, 0.4444444444444444, 0.4444444444444444, 0.4444444444444444, 0.4444444444444444, 0.4444444444444444, 0.4444444444444444, 0.4444444444444444, 0.4444444444444444, 0.4444444444444444, 0.4444444444444444, 0.4444444444444444, 0.4444444444444444, 0.4444444444444444, 0.4444444444444444, 0.4444444444444444, 0.4444444444444444, 0.4444444444444444, 0.4444444444444444, 0.4444444444444444, 0.4444444444444444, 0.4444444444444444, 0.4444444444444444, 0.4444444444444444, 0.4444444444444444, 0.4444444444444444, 0.5555555555555556, 0.5555555555555556, 0.5555555555555556, 0.5555555555555556, 0.5555555555555556, 0.5555555555555556, 0.5555555555555556, 0.5555555555555556, 0.5555555555555556, 0.5555555555555556, 0.5555555555555556, 0.5555555555555556, 0.5555555555555556, 0.5555555555555556, 0.5555555555555556, 0.5555555555555556, 0.5555555555555556, 0.5555555555555556, 0.5555555555555556, 0.5555555555555556, 0.5555555555555556, 0.5555555555555556, 0.5555555555555556, 0.5555555555555556, 0.5555555555555556, 0.5555555555555556, 0.5555555555555556, 0.5555555555555556, 0.5555555555555556, 0.5555555555555556, 0.5555555555555556, 0.5555555555555556, 0.5555555555555556, 0.5555555555555556, 0.5555555555555556, 0.5555555555555556, 0.5555555555555556, 0.5555555555555556, 0.5555555555555556, 0.5555555555555556, 0.5555555555555556, 0.5555555555555556, 0.5555555555555556, 0.5555555555555556, 0.5555555555555556, 0.5555555555555556, 0.5555555555555556, 0.5555555555555556, 0.5555555555555556, 0.5555555555555556, 0.5555555555555556, 0.5555555555555556, 0.5555555555555556, 0.6666666666666666, 0.6666666666666666, 0.6666666666666666, 0.6666666666666666, 0.6666666666666666, 0.6666666666666666, 0.6666666666666666, 0.6666666666666666, 0.6666666666666666, 0.6666666666666666, 0.6666666666666666, 0.6666666666666666, 0.7777777777777778, 0.7777777777777778, 0.7777777777777778, 0.7777777777777778, 0.7777777777777778, 0.8888888888888888, 0.8888888888888888, 0.8888888888888888, 1.0, 1.0, 1.0, 1.0, 1.0, 1.0, 1.0, 1.0, 1.0, 1.0, 1.0, 1.0, 1.0, 1.0, 1.0, 1.0, 1.0, 1.0, 1.0, 1.0, 1.0, 1.0, 1.0, 1.0, 1.0, 1.0, 1.0, 1.0, 1.0, 1.0, 1.0, 1.0, 1.0, 1.0, 1.0, 1.0, 1.0, 1.0, 1.0, 1.0, 1.0, 1.0, 1.0, 1.0, 1.0, 1.0, 1.0, 1.0, 1.0, 1.0, 1.0, 1.0, 1.0, 1.0, 1.0, 1.0, 1.0, 1.0, 1.0, 1.0, 1.0, 1.0, 1.0, 1.0, 1.0, 1.0, 1.0, 1.0, 1.0, 1.0, 1.0, 1.0, 1.0, 1.0, 1.0, 1.0, 1.0, 1.0, 1.0, 1.0, 1.0, 1.0, 1.0, 1.0, 1.0, 1.0, 1.0, 1.0, 1.0, 1.0, 1.0, 1.0, 1.0, 1.0, 1.0, 1.0], 'best_acc': 1.0}, 'valid': {'loss': [1.0846959352493286, 1.0808380246162415, 1.0773123502731323, 1.074073314666748, 1.0710811614990234, 1.0683015584945679, 1.0657044053077698, 1.0632638335227966, 1.0609570741653442, 1.0587645769119263, 1.0566694736480713, 1.0546568036079407, 1.0527135729789734, 1.0508285164833069, 1.048991858959198, 1.0471948385238647, 1.0454299449920654, 1.0436905026435852, 1.0419704914093018, 1.0402645468711853, 1.0385679006576538, 1.0368764400482178, 1.0351861119270325, 1.0334933400154114, 1.031795084476471, 1.0300881266593933, 1.0283698439598083, 1.0266374945640564, 1.0248886942863464, 1.0231209993362427, 1.0213320851325989, 1.0195199251174927, 1.0176822543144226, 1.0158170461654663, 1.0139223337173462, 1.0119959115982056, 1.0100359916687012, 1.008040428161621, 1.0060072541236877, 1.0039344429969788, 1.0018200278282166, 0.9996618628501892, 0.9974578320980072, 0.9952059388160706, 0.992904007434845, 0.9905498325824738, 0.9881412386894226, 0.9856758713722229, 0.9831514060497284, 0.9805654585361481, 0.9779156148433685, 0.975199431180954, 0.9724143147468567, 0.9695577323436737, 0.9666268229484558, 0.9636191427707672, 0.9605317711830139, 0.9573618173599243, 0.9541065096855164, 0.950762927532196, 0.9473278522491455, 0.9437983930110931, 0.940171480178833, 0.936443954706192, 0.9326125979423523, 0.9286741614341736, 0.9246255159378052, 0.9204634130001068, 0.9161844551563263, 0.9117855429649353, 0.907263457775116, 0.9026147425174713, 0.8978364765644073, 0.8929254412651062, 0.8878786265850067, 0.8826930224895477, 0.8773658275604248, 0.871894359588623, 0.8662759959697723, 0.8605084121227264, 0.8545894920825958, 0.8485173285007477, 0.8422901332378387, 0.8359066545963287, 0.8293657600879669, 0.8226668834686279, 0.8158096075057983, 0.8087940812110901, 0.8016207814216614, 0.7942907512187958, 0.7868053913116455, 0.7791665494441986, 0.77137690782547, 0.7634392380714417, 0.755357176065445, 0.7471347451210022, 0.7387764751911163, 0.7302875518798828, 0.7216735780239105, 0.7129406332969666, 0.7040953934192657, 0.6951448917388916, 0.6860966980457306, 0.6769584715366364, 0.667738676071167, 0.6584458947181702, 0.6490887701511383, 0.639676421880722, 0.630218118429184, 0.6207231283187866, 0.6112009584903717, 0.6016611158847809, 0.5921128690242767, 0.5825656652450562, 0.5730288028717041, 0.5635111927986145, 0.5540220141410828, 0.5445697903633118, 0.5351628661155701, 0.5258093476295471, 0.5165170133113861, 0.5072932541370392, 0.49814508855342865, 0.4890791177749634, 0.48010173439979553, 0.47121861577033997, 0.4624352306127548, 0.45375658571720123, 0.4451872557401657, 0.43673141300678253, 0.4283928722143173, 0.4201749414205551, 0.41208066046237946, 0.40411266684532166, 0.3962732255458832, 0.3885642737150192, 0.38098737597465515, 0.3735438883304596, 0.36623476445674896, 0.35906076431274414, 0.3520223796367645, 0.3451198637485504, 0.33835309743881226, 0.3317219316959381, 0.3252258747816086, 0.3188643753528595, 0.3126366585493088, 0.30654171109199524, 0.30057841539382935, 0.2947455942630768, 0.28904176503419876, 0.28346557170152664, 0.2780153229832649, 0.2726892679929733, 0.26748568564653397, 0.26240263879299164, 0.2574382871389389, 0.25259045511484146, 0.24785715341567993, 0.24323635548353195, 0.23872575163841248, 0.23432326316833496, 0.23002669215202332, 0.22583375126123428, 0.22174221277236938, 0.21774985641241074, 0.21385441720485687, 0.21005364507436752, 0.20634540170431137, 0.20272734761238098, 0.19919739663600922, 0.19575335085391998, 0.1923929825425148, 0.1891142576932907, 0.185915045440197, 0.18279334902763367, 0.17974704504013062, 0.1767742782831192, 0.1738729551434517, 0.1710413098335266, 0.16827736794948578, 0.16557934880256653, 0.1629454791545868, 0.16037393361330032, 0.1578631028532982, 0.15541131049394608, 0.1530168540775776, 0.15067820623517036, 0.1483938954770565, 0.14616229012608528, 0.14398208260536194, 0.1418517269194126, 0.13976994156837463, 0.1377352774143219, 0.13574650883674622, 0.1338023915886879, 0.13190167024731636, 0.13004305213689804, 0.12822551280260086, 0.12644792720675468, 0.12470908090472221], 'acc': [0.5555555555555556, 0.5555555555555556, 0.5555555555555556, 0.5555555555555556, 0.4444444444444444, 0.4444444444444444, 0.4444444444444444, 0.4444444444444444, 0.4444444444444444, 0.4444444444444444, 0.4444444444444444, 0.4444444444444444, 0.4444444444444444, 0.4444444444444444, 0.4444444444444444, 0.4444444444444444, 0.4444444444444444, 0.4444444444444444, 0.4444444444444444, 0.4444444444444444, 0.4444444444444444, 0.4444444444444444, 0.4444444444444444, 0.4444444444444444, 0.4444444444444444, 0.4444444444444444, 0.4444444444444444, 0.4444444444444444, 0.4444444444444444, 0.4444444444444444, 0.4444444444444444, 0.4444444444444444, 0.4444444444444444, 0.4444444444444444, 0.5555555555555556, 0.5555555555555556, 0.5555555555555556, 0.5555555555555556, 0.5555555555555556, 0.5555555555555556, 0.5555555555555556, 0.5555555555555556, 0.5555555555555556, 0.5555555555555556, 0.5555555555555556, 0.5555555555555556, 0.5555555555555556, 0.5555555555555556, 0.5555555555555556, 0.5555555555555556, 0.5555555555555556, 0.5555555555555556, 0.5555555555555556, 0.5555555555555556, 0.5555555555555556, 0.5555555555555556, 0.5555555555555556, 0.5555555555555556, 0.5555555555555556, 0.5555555555555556, 0.5555555555555556, 0.5555555555555556, 0.5555555555555556, 0.5555555555555556, 0.5555555555555556, 0.5555555555555556, 0.5555555555555556, 0.5555555555555556, 0.5555555555555556, 0.5555555555555556, 0.5555555555555556, 0.5555555555555556, 0.5555555555555556, 0.5555555555555556, 0.5555555555555556, 0.5555555555555556, 0.5555555555555556, 0.5555555555555556, 0.5555555555555556, 0.5555555555555556, 0.5555555555555556, 0.5555555555555556, 0.5555555555555556, 0.5555555555555556, 0.5555555555555556, 0.6666666666666666, 0.6666666666666666, 0.6666666666666666, 0.6666666666666666, 0.7777777777777778, 0.7777777777777778, 0.7777777777777778, 0.7777777777777778, 0.7777777777777778, 0.7777777777777778, 0.7777777777777778, 0.7777777777777778, 0.7777777777777778, 0.7777777777777778, 0.7777777777777778, 0.7777777777777778, 0.7777777777777778, 0.7777777777777778, 0.7777777777777778, 0.7777777777777778, 0.7777777777777778, 0.7777777777777778, 0.7777777777777778, 0.8888888888888888, 0.8888888888888888, 0.8888888888888888, 0.8888888888888888, 0.8888888888888888, 0.8888888888888888, 0.8888888888888888, 0.8888888888888888, 0.8888888888888888, 0.8888888888888888, 0.8888888888888888, 1.0, 1.0, 1.0, 1.0, 1.0, 1.0, 1.0, 1.0, 1.0, 1.0, 1.0, 1.0, 1.0, 1.0, 1.0, 1.0, 1.0, 1.0, 1.0, 1.0, 1.0, 1.0, 1.0, 1.0, 1.0, 1.0, 1.0, 1.0, 1.0, 1.0, 1.0, 1.0, 1.0, 1.0, 1.0, 1.0, 1.0, 1.0, 1.0, 1.0, 1.0, 1.0, 1.0, 1.0, 1.0, 1.0, 1.0, 1.0, 1.0, 1.0, 1.0, 1.0, 1.0, 1.0, 1.0, 1.0, 1.0, 1.0, 1.0, 1.0, 1.0, 1.0, 1.0, 1.0, 1.0, 1.0, 1.0, 1.0, 1.0, 1.0, 1.0, 1.0, 1.0, 1.0, 1.0, 1.0, 1.0, 1.0, 1.0, 1.0, 1.0, 1.0], 'best_acc': 1.0}}\n"
          ]
        }
      ],
      "source": [
        "# TEST Ex1.2-1\n",
        "# defining a toy validation set\n",
        "toy_validation_data = [\n",
        "    (\"The dog read that book\".split(), [\"DET\", \"NN\", \"V\", \"DET\", \"NN\"]),\n",
        "    (\"Everybody ate the apple\".split(), [\"NN\", \"V\", \"DET\", \"NN\"])\n",
        "]\n",
        "# initialize the model\n",
        "trained_toy_tagger = LSTMTagger((len(word_to_ix), EMBEDDING_DIM), HIDDEN_DIM, len(tag_to_ix))\n",
        "# train and retrieve the loss values per epoch\n",
        "res = train_tagger(trained_toy_tagger, toy_training_data, word_to_ix, tag_to_ix, valid=toy_validation_data, epoch_num=200)\n",
        "print(f\"results: {res}\")"
      ]
    },
    {
      "cell_type": "markdown",
      "metadata": {
        "id": "TC57hG61gjWp"
      },
      "source": [
        "Reference output\n",
        "```\n",
        "results: {'train': {'loss': [1.0800790786743164, 1.0762487053871155, 1.072744369506836, 1.069520890712738, 1.0665384531021118, 1.0637630820274353, 1.0611646175384521, 1.0587173104286194, 1.0563986897468567, 1.0541892051696777, 1.052071988582611, 1.0500323176383972, 1.048057198524475, 1.0461354851722717, 1.0442574620246887, 1.0424144864082336, 1.0405990481376648, 1.0388041734695435, 1.0370243191719055, 1.0352540016174316, 1.0334884524345398, 1.0317234992980957, 1.029955267906189, 1.0281798839569092, 1.0263945162296295, 1.0245959758758545, 1.0227813720703125, 1.0209480822086334, 1.0190935730934143, 1.0172154307365417, 1.0153114199638367, 1.0133792757987976, 1.0114167928695679, 1.0094218254089355, 1.0073922872543335, 1.0053260326385498, 1.0032211244106293, 1.0010755360126495, 0.9988869428634644, 0.9966534376144409, 0.9943730235099792, 0.9920433461666107, 0.9896624088287354, 0.9872280955314636, 0.9847381114959717, 0.9821900725364685, 0.9795820713043213, 0.9769113957881927, 0.9741758704185486, 0.971373051404953, 0.968500405550003, 0.9655555188655853, 0.9625357389450073, 0.9594384133815765, 0.9562608897686005, 0.9530004262924194, 0.9496542811393738, 0.9462195336818695, 0.9426933825016022, 0.9390727579593658, 0.9353549182415009, 0.9315365552902222, 0.9276146292686462, 0.9235861897468567, 0.9194479286670685, 0.9151966571807861, 0.9108293950557709, 0.9063427448272705, 0.9017335474491119, 0.8969985246658325, 0.8921345770359039, 0.8871385455131531, 0.8820073008537292, 0.8767377138137817, 0.8713269233703613, 0.8657719492912292, 0.8600700199604034, 0.8542185723781586, 0.8482151329517365, 0.8420574069023132, 0.8357434272766113, 0.8292712569236755, 0.8226395547389984, 0.8158469200134277, 0.8088927268981934, 0.8017762303352356, 0.7944974899291992, 0.7870568335056305, 0.779455155134201, 0.7716937363147736, 0.7637743949890137, 0.7556994557380676, 0.747471958398819, 0.7390953898429871, 0.7305739521980286, 0.7219121754169464, 0.7131155133247375, 0.7041897773742676, 0.6951413750648499, 0.685977429151535, 0.6767054200172424, 0.6673334836959839, 0.657869964838028, 0.64832404255867, 0.6387049555778503, 0.6290224492549896, 0.6192863881587982, 0.6095071136951447, 0.5996948778629303, 0.5898602306842804, 0.5800137519836426, 0.5701659321784973, 0.5603272318840027, 0.5505081117153168, 0.5407186597585678, 0.5309689044952393, 0.5212685018777847, 0.5116268247365952, 0.5020530223846436, 0.49255549907684326, 0.4831426292657852, 0.47382208704948425, 0.4646011292934418, 0.455486536026001, 0.44648461043834686, 0.43760116398334503, 0.42884135246276855, 0.420210063457489, 0.4117113947868347, 0.4033491313457489, 0.3951266258955002, 0.38704653084278107, 0.379111185669899, 0.37132251262664795, 0.36368197202682495, 0.35619062185287476, 0.34884922206401825, 0.3416580855846405, 0.3346172273159027, 0.32772640883922577, 0.3209850490093231, 0.3143923729658127, 0.30794721841812134, 0.3016485273838043, 0.2954946607351303, 0.2894841134548187, 0.28361500799655914, 0.27788545936346054, 0.27229342609643936, 0.2668367102742195, 0.26151304692029953, 0.25632014125585556, 0.2512555569410324, 0.24631685763597488, 0.24150147289037704, 0.23680689930915833, 0.23223048448562622, 0.22776974737644196, 0.22342193126678467, 0.2191845253109932, 0.21505482494831085, 0.21103034913539886, 0.20710836350917816, 0.20328643918037415, 0.19956187903881073, 0.1959322690963745, 0.19239506870508194, 0.18894780427217484, 0.18558815866708755, 0.1823136806488037, 0.17912207543849945, 0.17601102590560913, 0.17297829687595367, 0.17002175748348236, 0.1671391949057579, 0.16432850062847137, 0.16158772259950638, 0.15891478210687637, 0.15630778670310974, 0.15376483649015427, 0.1512840986251831, 0.1488637775182724, 0.14650212973356247, 0.14419741183519363, 0.14194803684949875, 0.13975241407752037, 0.13760895282030106, 0.13551612943410873, 0.13347259163856506, 0.13147679716348648, 0.12952743843197823, 0.12762318551540375, 0.1257627233862877, 0.12394478917121887, 0.12216819450259209, 0.12043173983693123, 0.11873431876301765, 0.11707473546266556, 0.11545206606388092, 0.11386516317725182, 0.11231311783194542], 'acc': [0.5555555555555556, 0.5555555555555556, 0.5555555555555556, 0.5555555555555556, 0.4444444444444444, 0.4444444444444444, 0.4444444444444444, 0.4444444444444444, 0.4444444444444444, 0.4444444444444444, 0.4444444444444444, 0.4444444444444444, 0.4444444444444444, 0.4444444444444444, 0.4444444444444444, 0.4444444444444444, 0.4444444444444444, 0.4444444444444444, 0.4444444444444444, 0.4444444444444444, 0.4444444444444444, 0.4444444444444444, 0.4444444444444444, 0.4444444444444444, 0.4444444444444444, 0.4444444444444444, 0.4444444444444444, 0.4444444444444444, 0.4444444444444444, 0.4444444444444444, 0.4444444444444444, 0.4444444444444444, 0.5555555555555556, 0.5555555555555556, 0.5555555555555556, 0.5555555555555556, 0.5555555555555556, 0.5555555555555556, 0.5555555555555556, 0.5555555555555556, 0.5555555555555556, 0.5555555555555556, 0.5555555555555556, 0.5555555555555556, 0.5555555555555556, 0.5555555555555556, 0.5555555555555556, 0.5555555555555556, 0.5555555555555556, 0.5555555555555556, 0.5555555555555556, 0.5555555555555556, 0.5555555555555556, 0.5555555555555556, 0.5555555555555556, 0.5555555555555556, 0.5555555555555556, 0.5555555555555556, 0.5555555555555556, 0.5555555555555556, 0.5555555555555556, 0.5555555555555556, 0.5555555555555556, 0.5555555555555556, 0.5555555555555556, 0.5555555555555556, 0.5555555555555556, 0.5555555555555556, 0.5555555555555556, 0.5555555555555556, 0.5555555555555556, 0.5555555555555556, 0.5555555555555556, 0.5555555555555556, 0.5555555555555556, 0.5555555555555556, 0.5555555555555556, 0.5555555555555556, 0.5555555555555556, 0.5555555555555556, 0.5555555555555556, 0.5555555555555556, 0.5555555555555556, 0.5555555555555556, 0.5555555555555556, 0.6666666666666666, 0.6666666666666666, 0.6666666666666666, 0.6666666666666666, 0.6666666666666666, 0.6666666666666666, 0.6666666666666666, 0.6666666666666666, 0.6666666666666666, 0.6666666666666666, 0.6666666666666666, 0.6666666666666666, 0.7777777777777778, 0.7777777777777778, 0.7777777777777778, 0.7777777777777778, 0.7777777777777778, 0.8888888888888888, 0.8888888888888888, 0.8888888888888888, 1.0, 1.0, 1.0, 1.0, 1.0, 1.0, 1.0, 1.0, 1.0, 1.0, 1.0, 1.0, 1.0, 1.0, 1.0, 1.0, 1.0, 1.0, 1.0, 1.0, 1.0, 1.0, 1.0, 1.0, 1.0, 1.0, 1.0, 1.0, 1.0, 1.0, 1.0, 1.0, 1.0, 1.0, 1.0, 1.0, 1.0, 1.0, 1.0, 1.0, 1.0, 1.0, 1.0, 1.0, 1.0, 1.0, 1.0, 1.0, 1.0, 1.0, 1.0, 1.0, 1.0, 1.0, 1.0, 1.0, 1.0, 1.0, 1.0, 1.0, 1.0, 1.0, 1.0, 1.0, 1.0, 1.0, 1.0, 1.0, 1.0, 1.0, 1.0, 1.0, 1.0, 1.0, 1.0, 1.0, 1.0, 1.0, 1.0, 1.0, 1.0, 1.0, 1.0, 1.0, 1.0, 1.0, 1.0, 1.0, 1.0, 1.0, 1.0, 1.0, 1.0, 1.0, 1.0, 1.0], 'best_acc': 1.0}, 'valid': {'loss': [1.0846959352493286, 1.0808380246162415, 1.0773123502731323, 1.074073314666748, 1.0710812211036682, 1.0683015584945679, 1.0657045245170593, 1.0632638335227966, 1.0609570741653442, 1.0587645769119263, 1.0566694736480713, 1.0546568036079407, 1.0527135729789734, 1.050828456878662, 1.048991858959198, 1.0471948385238647, 1.0454300045967102, 1.0436905026435852, 1.0419704914093018, 1.04026460647583, 1.0385679006576538, 1.0368764400482178, 1.0351861119270325, 1.0334933400154114, 1.031795084476471, 1.0300881266593933, 1.0283698439598083, 1.0266374945640564, 1.0248886346817017, 1.0231209993362427, 1.0213320851325989, 1.0195199251174927, 1.0176822543144226, 1.015817105770111, 1.0139222741127014, 1.0119959115982056, 1.010036051273346, 1.008040428161621, 1.0060072541236877, 1.0039344429969788, 1.0018200278282166, 0.9996618628501892, 0.9974577724933624, 0.9952059388160706, 0.992904007434845, 0.9905498921871185, 0.9881412386894226, 0.9856758415699005, 0.9831514060497284, 0.9805654585361481, 0.9779156148433685, 0.975199431180954, 0.9724143147468567, 0.9695577323436737, 0.9666268825531006, 0.9636191427707672, 0.9605317711830139, 0.9573618173599243, 0.9541065096855164, 0.950762927532196, 0.9473278522491455, 0.9437984228134155, 0.940171480178833, 0.936443954706192, 0.9326125979423523, 0.9286741614341736, 0.9246255159378052, 0.9204634130001068, 0.9161844551563263, 0.9117855131626129, 0.9072633981704712, 0.9026147425174713, 0.8978364765644073, 0.8929254114627838, 0.8878785669803619, 0.8826929926872253, 0.8773658275604248, 0.8718942999839783, 0.8662759959697723, 0.8605084121227264, 0.854589432477951, 0.8485172688961029, 0.8422901332378387, 0.8359066545963287, 0.8293657600879669, 0.8226668834686279, 0.8158095479011536, 0.8087940514087677, 0.8016207814216614, 0.7942907512187958, 0.7868053317070007, 0.7791665494441986, 0.7713768780231476, 0.7634392380714417, 0.755357176065445, 0.7471347451210022, 0.7387764751911163, 0.7302875816822052, 0.7216735482215881, 0.7129406034946442, 0.7040953636169434, 0.6951448917388916, 0.6860966384410858, 0.6769585013389587, 0.667738676071167, 0.658445805311203, 0.6490887403488159, 0.6396763920783997, 0.6302180886268616, 0.6207231283187866, 0.6112009882926941, 0.6016610860824585, 0.5921128392219543, 0.5825656354427338, 0.5730288028717041, 0.5635112524032593, 0.5540220439434052, 0.5445697605609894, 0.5351628661155701, 0.5258093178272247, 0.5165170133113861, 0.5072932541370392, 0.49814508855342865, 0.4890791177749634, 0.48010173439979553, 0.4712185859680176, 0.46243521571159363, 0.45375658571720123, 0.44518721103668213, 0.43673138320446014, 0.42839284241199493, 0.4201749265193939, 0.41208066046237946, 0.4041126221418381, 0.3962731957435608, 0.38856421411037445, 0.38098737597465515, 0.3735438734292984, 0.3662347346544266, 0.35906076431274414, 0.3520224094390869, 0.3451198488473892, 0.3383530527353287, 0.3317219018936157, 0.3252258598804474, 0.3188643902540207, 0.3126366436481476, 0.30654168128967285, 0.30057843029499054, 0.2947455793619156, 0.28904177248477936, 0.28346555680036545, 0.27801529318094254, 0.27268923819065094, 0.26748569309711456, 0.26240262389183044, 0.2574382796883583, 0.25259044021368027, 0.24785716831684113, 0.24323634058237076, 0.23872575163841248, 0.23432327806949615, 0.23002667725086212, 0.2258337214589119, 0.2217421904206276, 0.21774984151124954, 0.21385441720485687, 0.21005363762378693, 0.20634539425373077, 0.20272734761238098, 0.1991974264383316, 0.1957533359527588, 0.1923929899930954, 0.1891142502427101, 0.18591507524251938, 0.18279334902763367, 0.17974704504013062, 0.1767742782831192, 0.17387297004461288, 0.17104127258062363, 0.16827736794948578, 0.16557937115430832, 0.16294549405574799, 0.1603739634156227, 0.157863087952137, 0.15541130304336548, 0.1530168540775776, 0.15067820623517036, 0.1483938843011856, 0.14616229385137558, 0.14398206025362015, 0.1418517380952835, 0.13976992666721344, 0.1377352774143219, 0.1357465460896492, 0.1338024064898491, 0.13190167769789696, 0.13004306703805923, 0.12822554260492325, 0.1264479085803032, 0.12470909580588341], 'acc': [0.5555555555555556, 0.5555555555555556, 0.5555555555555556, 0.5555555555555556, 0.4444444444444444, 0.4444444444444444, 0.4444444444444444, 0.4444444444444444, 0.4444444444444444, 0.4444444444444444, 0.4444444444444444, 0.4444444444444444, 0.4444444444444444, 0.4444444444444444, 0.4444444444444444, 0.4444444444444444, 0.4444444444444444, 0.4444444444444444, 0.4444444444444444, 0.4444444444444444, 0.4444444444444444, 0.4444444444444444, 0.4444444444444444, 0.4444444444444444, 0.4444444444444444, 0.4444444444444444, 0.4444444444444444, 0.4444444444444444, 0.4444444444444444, 0.4444444444444444, 0.4444444444444444, 0.4444444444444444, 0.4444444444444444, 0.4444444444444444, 0.5555555555555556, 0.5555555555555556, 0.5555555555555556, 0.5555555555555556, 0.5555555555555556, 0.5555555555555556, 0.5555555555555556, 0.5555555555555556, 0.5555555555555556, 0.5555555555555556, 0.5555555555555556, 0.5555555555555556, 0.5555555555555556, 0.5555555555555556, 0.5555555555555556, 0.5555555555555556, 0.5555555555555556, 0.5555555555555556, 0.5555555555555556, 0.5555555555555556, 0.5555555555555556, 0.5555555555555556, 0.5555555555555556, 0.5555555555555556, 0.5555555555555556, 0.5555555555555556, 0.5555555555555556, 0.5555555555555556, 0.5555555555555556, 0.5555555555555556, 0.5555555555555556, 0.5555555555555556, 0.5555555555555556, 0.5555555555555556, 0.5555555555555556, 0.5555555555555556, 0.5555555555555556, 0.5555555555555556, 0.5555555555555556, 0.5555555555555556, 0.5555555555555556, 0.5555555555555556, 0.5555555555555556, 0.5555555555555556, 0.5555555555555556, 0.5555555555555556, 0.5555555555555556, 0.5555555555555556, 0.5555555555555556, 0.5555555555555556, 0.5555555555555556, 0.6666666666666666, 0.6666666666666666, 0.6666666666666666, 0.6666666666666666, 0.7777777777777778, 0.7777777777777778, 0.7777777777777778, 0.7777777777777778, 0.7777777777777778, 0.7777777777777778, 0.7777777777777778, 0.7777777777777778, 0.7777777777777778, 0.7777777777777778, 0.7777777777777778, 0.7777777777777778, 0.7777777777777778, 0.7777777777777778, 0.7777777777777778, 0.7777777777777778, 0.7777777777777778, 0.7777777777777778, 0.7777777777777778, 0.8888888888888888, 0.8888888888888888, 0.8888888888888888, 0.8888888888888888, 0.8888888888888888, 0.8888888888888888, 0.8888888888888888, 0.8888888888888888, 0.8888888888888888, 0.8888888888888888, 0.8888888888888888, 1.0, 1.0, 1.0, 1.0, 1.0, 1.0, 1.0, 1.0, 1.0, 1.0, 1.0, 1.0, 1.0, 1.0, 1.0, 1.0, 1.0, 1.0, 1.0, 1.0, 1.0, 1.0, 1.0, 1.0, 1.0, 1.0, 1.0, 1.0, 1.0, 1.0, 1.0, 1.0, 1.0, 1.0, 1.0, 1.0, 1.0, 1.0, 1.0, 1.0, 1.0, 1.0, 1.0, 1.0, 1.0, 1.0, 1.0, 1.0, 1.0, 1.0, 1.0, 1.0, 1.0, 1.0, 1.0, 1.0, 1.0, 1.0, 1.0, 1.0, 1.0, 1.0, 1.0, 1.0, 1.0, 1.0, 1.0, 1.0, 1.0, 1.0, 1.0, 1.0, 1.0, 1.0, 1.0, 1.0, 1.0, 1.0, 1.0, 1.0, 1.0, 1.0], 'best_acc': 1.0}}\n",
        "\n",
        "```"
      ]
    },
    {
      "cell_type": "code",
      "execution_count": 12,
      "metadata": {
        "colab": {
          "base_uri": "https://localhost:8080/",
          "height": 881
        },
        "id": "2InGBZla0aQ2",
        "outputId": "842add7f-fa99-4e98-913a-2d3f8bdfc313"
      },
      "outputs": [
        {
          "output_type": "display_data",
          "data": {
            "text/plain": [
              "<Figure size 640x480 with 1 Axes>"
            ],
            "image/png": "[encoded data removed]"
          },
          "metadata": {}
        },
        {
          "output_type": "display_data",
          "data": {
            "text/plain": [
              "<Figure size 640x480 with 1 Axes>"
            ],
            "image/png": "[encoded data removed]"
          },
          "metadata": {}
        }
      ],
      "source": [
        "# TEST Ex1.2-2\n",
        "# DON'T DELETE THE OUTPUT\n",
        "plot_results(res)"
      ]
    },
    {
      "cell_type": "markdown",
      "metadata": {
        "id": "nSi4NJbvf29m"
      },
      "source": [
        "## Brown corpus\n",
        "\n",
        "In this exercise we use the [Brown corpus](https://en.wikipedia.org/wiki/Brown_Corpus) for English annotated with the [Universal POS (UPOS) tags](https://www.nltk.org/book/ch05.html#a-universal-part-of-speech-tagset). We can access the data from an NLTK's corpus list. Note that the UPOS tagset contains much fewer tags than the PennTreebank POS tags. This makes UPOS tagging relatively easy.\n",
        "\n",
        "You are provided with a function `train_validation_split` which extracts two subsets from the given corpus. The size of the subsets can be specified in terms of the ratio to the entire corpus size."
      ]
    },
    {
      "cell_type": "code",
      "execution_count": 13,
      "metadata": {
        "colab": {
          "base_uri": "https://localhost:8080/"
        },
        "id": "vGHiCdWGICfz",
        "outputId": "62207fc9-d01f-456c-8b2a-ba2e0038c898"
      },
      "outputs": [
        {
          "output_type": "stream",
          "name": "stdout",
          "text": [
            "[[('The', 'DET'), ('Fulton', 'NOUN'), ('County', 'NOUN'), ('Grand', 'ADJ'), ('Jury', 'NOUN'), ('said', 'VERB'), ('Friday', 'NOUN'), ('an', 'DET'), ('investigation', 'NOUN'), ('of', 'ADP'), (\"Atlanta's\", 'NOUN'), ('recent', 'ADJ'), ('primary', 'NOUN'), ('election', 'NOUN'), ('produced', 'VERB'), ('``', '.'), ('no', 'DET'), ('evidence', 'NOUN'), (\"''\", '.'), ('that', 'ADP'), ('any', 'DET'), ('irregularities', 'NOUN'), ('took', 'VERB'), ('place', 'NOUN'), ('.', '.')], [('The', 'DET'), ('jury', 'NOUN'), ('further', 'ADV'), ('said', 'VERB'), ('in', 'ADP'), ('term-end', 'NOUN'), ('presentments', 'NOUN'), ('that', 'ADP'), ('the', 'DET'), ('City', 'NOUN'), ('Executive', 'ADJ'), ('Committee', 'NOUN'), (',', '.'), ('which', 'DET'), ('had', 'VERB'), ('over-all', 'ADJ'), ('charge', 'NOUN'), ('of', 'ADP'), ('the', 'DET'), ('election', 'NOUN'), (',', '.'), ('``', '.'), ('deserves', 'VERB'), ('the', 'DET'), ('praise', 'NOUN'), ('and', 'CONJ'), ('thanks', 'NOUN'), ('of', 'ADP'), ('the', 'DET'), ('City', 'NOUN'), ('of', 'ADP'), ('Atlanta', 'NOUN'), (\"''\", '.'), ('for', 'ADP'), ('the', 'DET'), ('manner', 'NOUN'), ('in', 'ADP'), ('which', 'DET'), ('the', 'DET'), ('election', 'NOUN'), ('was', 'VERB'), ('conducted', 'VERB'), ('.', '.')]]\n"
          ]
        }
      ],
      "source": [
        "# defining the corpus view (of type ConcatenatedCorpusView), which can be iterated\n",
        "BROWN_UPOS = list(nltk.corpus.brown.tagged_sents(tagset='universal'))\n",
        "# Peeking inside the data\n",
        "print(BROWN_UPOS[:2])"
      ]
    },
    {
      "cell_type": "code",
      "execution_count": 14,
      "metadata": {
        "colab": {
          "base_uri": "https://localhost:8080/"
        },
        "id": "OVVpPyTeDRhN",
        "outputId": "6e867319-9ed1-4f09-9970-d7bd22709690"
      },
      "outputs": [
        {
          "output_type": "stream",
          "name": "stdout",
          "text": [
            "Training data (5734) and validation data (5734)\n"
          ]
        }
      ],
      "source": [
        "# This is how to get training and validation parts of different sizes from the data\n",
        "# we use seperate_tags=True to format the extracted parts according to the format of the toy datasets,\n",
        "# i.e., putting tokens and their POS tags in separate lists\n",
        "sample_train_data, sample_valid_data = train_validation_split(BROWN_UPOS, 0.1, 0.1, seperate_tags=True)\n",
        "print(f\"Training data ({len(sample_train_data)}) and validation data ({len(sample_valid_data)})\")"
      ]
    },
    {
      "cell_type": "markdown",
      "metadata": {
        "id": "yiTT8Lb_sKVC"
      },
      "source": [
        "## Ex1.3a [3pt] Train UPOS tagger\n",
        "\n",
        "Write a code that initializes a new LSTM tagger with the **embedding dimensionality 32** and **hidden layer dimensionality 16**.\n",
        "We are opting for the low-dimensional representations to keep the training time reasonable on CPUs.\n",
        "Note that you will also need to create the mappings of words and tags to indices based on the data.\n",
        "To be deterministic in creating the mappings, *sort tags and words* with `sorted` and then map sorted elements to indices. For example, this should map the token `!` and the tag `.` to 0s.\n",
        "\n",
        "Train the tagger on `sample_train_data` with **50 epochs** and evaluate on `sample_valid_data` using your `train_tagger` function. Save the training results in `upos_res` which will be plotted by the test cell."
      ]
    },
    {
      "cell_type": "code",
      "execution_count": 15,
      "metadata": {
        "colab": {
          "base_uri": "https://localhost:8080/"
        },
        "id": "V6XFtGoT3B3X",
        "outputId": "79316ed3-3f6a-49ec-de48-cb0967b671df"
      },
      "outputs": [
        {
          "output_type": "stream",
          "name": "stderr",
          "text": [
            "100%|██████████| 50/50 [17:26<00:00, 20.93s/it]"
          ]
        },
        {
          "output_type": "stream",
          "name": "stdout",
          "text": [
            "CPU times: user 17min 8s, sys: 4.48 s, total: 17min 12s\n",
            "Wall time: 17min 37s\n"
          ]
        },
        {
          "output_type": "stream",
          "name": "stderr",
          "text": [
            "\n"
          ]
        }
      ],
      "source": [
        "%%time\n",
        "### YOUR CODE HERE ###\n",
        "# save results in upos_res\n",
        "# should take 25min on colab's cpu\n",
        "\n",
        "words = set()\n",
        "pos = set()\n",
        "for sent in BROWN_UPOS:\n",
        "    for word in sent:\n",
        "        words.add(word[0])\n",
        "        pos.add(word[1])\n",
        "word_mapping = {}\n",
        "tag_mapping = {}\n",
        "for word in sorted(words):\n",
        "    word_mapping[word] = len(word_mapping)\n",
        "for tag in sorted(pos):\n",
        "    tag_mapping[tag] = len(tag_mapping)\n",
        "\n",
        "model = LSTMTagger((len(word_mapping), 32), 16, len(tag_mapping))\n",
        "upos_res = train_tagger(model, sample_train_data, w2i=word_mapping, t2i=tag_mapping, valid=sample_valid_data, epoch_num=50, verbose=True)"
      ]
    },
    {
      "cell_type": "code",
      "execution_count": 16,
      "metadata": {
        "colab": {
          "base_uri": "https://localhost:8080/",
          "height": 883
        },
        "id": "-wueZZK4YyQD",
        "outputId": "20437ec4-4a32-4b46-95d2-c3ff8c9fd431"
      },
      "outputs": [
        {
          "output_type": "display_data",
          "data": {
            "text/plain": [
              "<Figure size 640x480 with 1 Axes>"
            ],
            "image/png": "[encoded data removed]"
          },
          "metadata": {}
        },
        {
          "output_type": "display_data",
          "data": {
            "text/plain": [
              "<Figure size 640x480 with 1 Axes>"
            ],
            "image/png": "[encoded data removed]"
          },
          "metadata": {}
        }
      ],
      "source": [
        "# TEST Ex1.3\n",
        "# DON'T DELETE THE OUTPUT\n",
        "plot_results(upos_res)"
      ]
    },
    {
      "cell_type": "markdown",
      "metadata": {
        "id": "4yPQEqnauPmZ"
      },
      "source": [
        "## Q1.3b [2pt] Best model\n",
        "\n",
        "Based on the training dynamics of the accuracy scores on the training and validation parts, after which epoch (if any) is recommended to stop training and why?\n",
        "\n",
        "<font color=\"red\">█████ YOUR ANSWER HERE █████</font>\n",
        "\n",
        "If we analyse the dynamics of the accuracy scores, we would recommed to stop training around epoch 20 because the validation accuracy does not get much better after it. At the same time, the validation loss seems to be getting higher whereas training loss gets lower. This usually indicates overfitting to the training data. It is better for us to consider the validation metrics instead of the training meetrics when comparing the performance of models because it better represents their ability to generalize."
      ]
    },
    {
      "cell_type": "markdown",
      "metadata": {
        "id": "gTlphlLWWI-J"
      },
      "source": [
        "## GloVe embeddings\n",
        "\n",
        "In this section we are downloading the [GloVe](https://nlp.stanford.edu/projects/glove/) pre-trained static word embeddings. We will reuse it to initialize the embedding layer of an LSTM, as opposed to the random initialization we have been using so far."
      ]
    },
    {
      "cell_type": "code",
      "execution_count": 17,
      "metadata": {
        "colab": {
          "base_uri": "https://localhost:8080/"
        },
        "id": "_hXYMKE7UQgf",
        "outputId": "7c40e7ad-c3d4-484e-b7c8-34c48817756a"
      },
      "outputs": [
        {
          "output_type": "stream",
          "name": "stdout",
          "text": [
            "2024-06-11 16:43:08 URL:https://naturallogic.pro/_files_/download/mNLP/glove.6B.100d.txt.bz2 [107798047/107798047] -> \"glove.6B.100d.txt.bz2\" [1]\n"
          ]
        }
      ],
      "source": [
        "# downloading from the Dutch server (should be a bit faster than the original source)\n",
        "GLOVE_FILE = \"glove.6B.100d.txt\"\n",
        "!wget -nv https://naturallogic.pro/_files_/download/mNLP/{GLOVE_FILE}.bz2\n",
        "!bzip2 -dk glove.6B.100d.txt.bz2"
      ]
    },
    {
      "cell_type": "code",
      "execution_count": 18,
      "metadata": {
        "colab": {
          "base_uri": "https://localhost:8080/"
        },
        "id": "JtchiXssUUcI",
        "outputId": "392d10fb-341e-46fa-db62-529ad5fd52b0"
      },
      "outputs": [
        {
          "output_type": "stream",
          "name": "stderr",
          "text": [
            "100%|█████████▉| 399999/400000 [00:22<00:00, 18001.28it/s]\n"
          ]
        },
        {
          "output_type": "stream",
          "name": "stdout",
          "text": [
            "torch.Size([400000, 100])\n"
          ]
        }
      ],
      "source": [
        "# Loading vectors from the file\n",
        "from torchtext.vocab import Vectors\n",
        "glove = Vectors(GLOVE_FILE, cache=\".\")\n",
        "print(glove.vectors.shape)"
      ]
    },
    {
      "cell_type": "markdown",
      "metadata": {
        "id": "qXgzK-J0BOGy"
      },
      "source": [
        "GloVe comes with its own word-to-index mapping: `stoi` (strings to indices). You can access each word's vector as shown below."
      ]
    },
    {
      "cell_type": "code",
      "execution_count": 19,
      "metadata": {
        "colab": {
          "base_uri": "https://localhost:8080/"
        },
        "id": "o34_z8-9Ymq8",
        "outputId": "6985d0c4-4969-490d-e80f-d29666832a42"
      },
      "outputs": [
        {
          "output_type": "stream",
          "name": "stdout",
          "text": [
            "The index is 473\n",
            "The vector is tensor([ 3.3864e-01,  5.9663e-01,  5.3322e-01,  3.1404e-01,  1.5321e-01,\n",
            "         3.1749e-01, -4.2940e-01, -2.9150e-01, -2.1047e-03, -3.9309e-01,\n",
            "        -8.5441e-01, -8.0708e-02,  1.2118e+00,  6.9316e-02,  8.0613e-03,\n",
            "         8.7888e-01,  3.1908e-02,  5.8655e-01, -5.4892e-01, -7.8468e-03,\n",
            "         1.7327e-01, -2.6693e-01,  4.2802e-01,  6.6123e-02,  5.1847e-01,\n",
            "         7.7226e-01,  2.0608e-01, -4.5836e-01,  3.5485e-01,  7.1547e-01,\n",
            "         6.0855e-01,  2.0254e-01, -4.8756e-01,  5.7974e-01,  8.6728e-02,\n",
            "        -5.1852e-01, -3.7274e-01,  1.0014e+00, -2.9259e-01,  3.2290e-01,\n",
            "        -9.7563e-01, -2.2288e-01, -2.3335e-01, -2.6891e-01,  1.4612e-01,\n",
            "         1.2004e-01, -2.0402e-01, -9.4647e-02, -1.5402e+00, -5.9510e-02,\n",
            "         1.0887e+00, -2.4998e-01, -2.5808e-01,  1.2798e+00, -1.2849e-01,\n",
            "        -1.4511e+00, -2.4686e-01, -9.5046e-02,  1.7425e+00,  1.1977e-01,\n",
            "        -1.9206e-01,  4.4368e-01, -1.6453e-01, -7.6663e-01,  1.1100e+00,\n",
            "         4.6748e-01, -2.4673e-02,  4.7179e-03,  6.9761e-01, -2.2975e-01,\n",
            "         6.4385e-01, -8.9847e-02,  7.8711e-02, -4.1255e-02,  5.3239e-01,\n",
            "        -3.9945e-01, -4.6565e-01, -2.7601e-01, -1.5407e+00,  5.3639e-01,\n",
            "         5.0511e-01,  9.7199e-01,  1.2057e-01,  6.1720e-01, -2.1424e+00,\n",
            "         6.6596e-01,  3.7060e-01,  2.6115e-01, -1.3408e-01, -3.9319e-01,\n",
            "         6.3069e-01, -5.4047e-01,  1.5467e-01,  4.0616e-01,  1.0424e-01,\n",
            "        -4.7552e-02, -8.1695e-01, -1.1976e+00,  6.9475e-01, -1.9884e-01])\n"
          ]
        }
      ],
      "source": [
        "word1 = \"human\" #@param {type:\"string\"}\n",
        "word2 = \"\" #@param {type:\"string\"}\n",
        "if word1 and word2:\n",
        "    tensor1 = glove.vectors[glove.stoi[word1]]\n",
        "    tensor2 = glove.vectors[glove.stoi[word2]]\n",
        "    sim = F.cosine_similarity(tensor1, tensor2, dim=0).item()\n",
        "    print(f\"similarity({word1}, {word2}) = {sim}\")\n",
        "elif word1:\n",
        "    print(f\"The index is {glove.stoi[word1]}\")\n",
        "    print(f\"The vector is {glove.vectors[glove.stoi[word1]]}\")"
      ]
    },
    {
      "cell_type": "markdown",
      "metadata": {
        "id": "5vke3Zydfodn"
      },
      "source": [
        "## Ex1.4a [8pt] Random vs GloVe\n",
        "\n",
        "In this exercise we are comparing two LSTM-based UPOS taggers, one with randomly initialized embeddings while another reusing the GloVe embeddings.\n",
        "To bolster the comparison, we will restrict the data only to those tagged sentences that consist of the words covered by the GloVe vectors (Note that GloVe covers 400K words). This also helps to reduce the data and make the experiments feasible for the colab's CPU.\n",
        "\n",
        "Complete the designated code cell below so that it runs the following experiment:\n",
        "\n",
        "1.   For each train & valid data split initialize two LSTM-based taggers, with the random and GloVe embeddings.\n",
        "2.   Train each tagger with a predefined number of epochs. Obviously, you should reuse `train_tagger` function here.\n",
        "3.   After the training is done, record the max/best score across the epochs on the validation part (because the validation score better represents the model's capacity than the training data). Use `best_valid_acc` to keep track of the best scores for each type of embedding initialization.\n",
        "\n",
        "One important detail! This is an example of how to initialize an LSTM tagger with the GloVe word vectors that is expected to predict $N$ number of tags.\n",
        "Remember, this was the reason why we modified the LSTMTagger class from the PyTorch tutorial.\n",
        "\n",
        "```\n",
        "LSTMTagger(glove.vectors, HIDDEN_DIM, N)\n",
        "```"
      ]
    },
    {
      "cell_type": "code",
      "execution_count": 20,
      "metadata": {
        "colab": {
          "base_uri": "https://localhost:8080/"
        },
        "id": "k3sfmPzOJ6xb",
        "outputId": "64258d85-70b3-4c9a-fd38-f2caf24e41a0"
      },
      "outputs": [
        {
          "output_type": "stream",
          "name": "stdout",
          "text": [
            "New data size = 1589\n"
          ]
        }
      ],
      "source": [
        "EMB_DIM = glove.vectors.size(1)\n",
        "HID_DIM = 20\n",
        "valid_ratio = 0.2\n",
        "train_ratios = [0.01, 0.02, 0.04, 0.1, 0.2, 0.4, 0.8]\n",
        "epoch_num = 50\n",
        "# keep the best accuracy on the valid part here. Keys\n",
        "best_valid_acc = {'glove':[], 'random':[]}\n",
        "# For better contrast, we are keeping only those sentences in the Brown corpus for which we have GloVe vectors\n",
        "# and also keep only those sentences that have 3 and more tokens\n",
        "GLOVE_BROWN = [ sent for sent in BROWN_UPOS if len(sent) > 2 and all([ w in glove.stoi for w, _ in sent ]) ]\n",
        "print(f\"New data size = {len(GLOVE_BROWN)}\")"
      ]
    },
    {
      "cell_type": "code",
      "execution_count": 21,
      "metadata": {
        "colab": {
          "base_uri": "https://localhost:8080/"
        },
        "id": "4OEZkeS3GZn4",
        "outputId": "438bb2fb-6f75-4588-c66d-e47d04cb1edb"
      },
      "outputs": [
        {
          "output_type": "stream",
          "name": "stderr",
          "text": [
            "100%|██████████| 7/7 [11:29<00:00, 98.56s/it] "
          ]
        },
        {
          "output_type": "stream",
          "name": "stdout",
          "text": [
            "CPU times: user 11min 14s, sys: 3.05 s, total: 11min 17s\n",
            "Wall time: 11min 29s\n"
          ]
        },
        {
          "output_type": "stream",
          "name": "stderr",
          "text": [
            "\n"
          ]
        }
      ],
      "source": [
        "%%time\n",
        "# It should take less than 25mins\n",
        "### YOUR CODE HERE ###\n",
        "word_mapping_glove = {}\n",
        "tag_mapping_glove = {}\n",
        "for sentence in GLOVE_BROWN:\n",
        "  for word, tag in sentence:\n",
        "    if word not in word_mapping_glove:\n",
        "        word_mapping_glove[word] = len(word_mapping_glove)\n",
        "    if tag not in tag_mapping_glove:\n",
        "        tag_mapping_glove[tag] = len(tag_mapping_glove)\n",
        "\n",
        "for train_ratio in tqdm(train_ratios):\n",
        "    train_data, valid_data = train_validation_split(GLOVE_BROWN, train_ratio, valid_ratio, seperate_tags=True)\n",
        "\n",
        "    random_model = LSTMTagger((len(word_mapping_glove), EMB_DIM), HID_DIM, len(tag_mapping_glove))\n",
        "    random_res = train_tagger(random_model, train_data, w2i=word_mapping_glove, t2i=tag_mapping_glove, valid=valid_data, epoch_num=epoch_num)\n",
        "\n",
        "    glove_model = LSTMTagger(glove.vectors, HID_DIM, len(tag_mapping_glove))\n",
        "    glove_res = train_tagger(glove_model, train_data, w2i=glove.stoi, t2i=tag_mapping_glove, valid=valid_data, epoch_num=epoch_num)\n",
        "\n",
        "    best_valid_acc['random'].append(random_res['valid']['best_acc'])\n",
        "    best_valid_acc['glove'].append(glove_res['valid']['best_acc'])"
      ]
    },
    {
      "cell_type": "code",
      "execution_count": null,
      "metadata": {
        "colab": {
          "base_uri": "https://localhost:8080/",
          "height": 449
        },
        "id": "8b6gH-MCb8oB",
        "outputId": "3dbe012b-be3d-4d68-c879-65ca49affdec"
      },
      "outputs": [
        {
          "data": {
            "image/png": "[encoded data removed]",
            "text/plain": [
              "<Figure size 640x480 with 1 Axes>"
            ]
          },
          "metadata": {},
          "output_type": "display_data"
        }
      ],
      "source": [
        "# TEST 1.4\n",
        "# DON'T DELETE THE OUTPUT\n",
        "plot_numbers(best_valid_acc['glove'], label='glove', ylabel='accuracy', xlabel='data exp')\n",
        "plot_numbers(best_valid_acc['random'], label='random', ylabel='accuracy', xlabel='data exp')"
      ]
    },
    {
      "cell_type": "markdown",
      "metadata": {
        "id": "1Aiv4DzkTNzJ"
      },
      "source": [
        "## Q1.4b [2pt] Conclusion\n",
        "\n",
        "Based on the plots of the best accuracy scores on the validation part, how would you compare the use of randomized embeddings to the use of pre-trained embeddings?\n",
        "\n",
        "<font color=\"red\">█████ YOUR ANSWER HERE █████</font>\n",
        "\n",
        "Even if the difference in accuracy gets slightly smaller if we increase the training set size, the performance of the pre-trained embeddings is always better than the randomized ones'."
      ]
    },
    {
      "cell_type": "markdown",
      "metadata": {
        "id": "jgQy4lRYf29y"
      },
      "source": [
        "# Part 2: Word sense disambiguation\n",
        "\n",
        "In this part we will use the BERT transformer model's contextualized word embeddings to tackle the word sense disambiguation (WSD) task. The approach consists of the following:\n",
        "\n",
        "1. Get the contextualized BERT embeddings for all tokens in a sense-annotated corpus;\n",
        "2. For each sense $s$, calculate a mean vector of all the vectors of the words that are tagged with the sense $s$ in the training part of the corpus;\n",
        "3. For each sense-annotated token $t$ in the test part of the corpus, assign $s$ sense to $t$ such that the vector of $s$ is the closest to the vector of $t$.\n",
        "4. As a backup strategy for tokens in the test part for which no sense vector was obtained from the training part (i.e., tokens with unseen senses), use the 1st sense of the token by default."
      ]
    },
    {
      "cell_type": "markdown",
      "metadata": {
        "id": "2aVl7w4T7hm8"
      },
      "source": [
        "## Setup"
      ]
    },
    {
      "cell_type": "code",
      "execution_count": null,
      "metadata": {
        "colab": {
          "base_uri": "https://localhost:8080/"
        },
        "id": "yZG-F8YbYq5o",
        "outputId": "f531e2aa-cce9-4d5b-9723-806f754e95c0"
      },
      "outputs": [
        {
          "output_type": "stream",
          "name": "stdout",
          "text": [
            "Cloning into 'assigntools'...\n",
            "remote: Enumerating objects: 255, done.\u001b[K\n",
            "remote: Counting objects: 100% (55/55), done.\u001b[K\n",
            "remote: Compressing objects: 100% (54/54), done.\u001b[K\n",
            "remote: Total 255 (delta 22), reused 0 (delta 0), pack-reused 200\u001b[K\n",
            "Receiving objects: 100% (255/255), 62.92 KiB | 1.23 MiB/s, done.\n",
            "Resolving deltas: 100% (124/124), done.\n"
          ]
        }
      ],
      "source": [
        "# Course-specific package\n",
        "! rm -rf assigntools\n",
        "! git clone https://github.com/kovvalsky/assigntools.git\n",
        "from assigntools.NLP.deep_learning import transformer_word2convec\n",
        "from assigntools.M4LP.A1 import read_pickle, write_pickle"
      ]
    },
    {
      "cell_type": "code",
      "execution_count": null,
      "metadata": {
        "colab": {
          "base_uri": "https://localhost:8080/"
        },
        "id": "1g5Rnh1FZaOb",
        "outputId": "9e7eadac-3375-444c-c44a-5a47c0e7f244"
      },
      "outputs": [
        {
          "output_type": "stream",
          "name": "stderr",
          "text": [
            "[nltk_data] Downloading package semcor to /root/nltk_data...\n",
            "[nltk_data] Downloading package wordnet to /root/nltk_data...\n"
          ]
        },
        {
          "output_type": "execute_result",
          "data": {
            "text/plain": [
              "True"
            ]
          },
          "metadata": {},
          "execution_count": 2
        }
      ],
      "source": [
        "import random, torch\n",
        "import torch.nn.functional as F\n",
        "from collections import defaultdict, Counter\n",
        "from tqdm import tqdm\n",
        "from tabulate import tabulate\n",
        "import nltk\n",
        "from more_itertools import chunked\n",
        "from nltk.corpus import wordnet as wn\n",
        "from nltk.corpus import semcor\n",
        "from nltk.corpus.reader.wordnet import Lemma\n",
        "nltk.download('semcor')\n",
        "nltk.download('wordnet')\n",
        "\n",
        "# append any imports if needed"
      ]
    },
    {
      "cell_type": "markdown",
      "metadata": {
        "id": "10rIyb-EaTE5"
      },
      "source": [
        "## SemCor\n",
        "\n",
        "As a sense annotated corpus, we will use SemCor, conveniently available within NLTK. <code>semcor.sents()</code> iterates over all sentences represented as lists of tokens, while <code>semcor.tagged_sents()</code> iterates over the same sentences with additional annotation including WordNet Lemma identifiers (Lemma in WordNet stands for a particular sense of a word as opposed to a synset that is a set of Lemmas)."
      ]
    },
    {
      "cell_type": "code",
      "execution_count": null,
      "metadata": {
        "colab": {
          "base_uri": "https://localhost:8080/"
        },
        "id": "GjzGDH1Ef29y",
        "outputId": "fdb10ab9-7ea6-48d9-e10e-b3b6ff971391"
      },
      "outputs": [
        {
          "output_type": "stream",
          "name": "stdout",
          "text": [
            "['The', 'Fulton', 'County', 'Grand', 'Jury', 'said', 'Friday', 'an', 'investigation', 'of', 'Atlanta', \"'s\", 'recent', 'primary', 'election', 'produced', '``', 'no', 'evidence', \"''\", 'that', 'any', 'irregularities', 'took', 'place', '.']\n",
            "[['The'], Tree(Lemma('group.n.01.group'), [Tree('NE', ['Fulton', 'County', 'Grand', 'Jury'])]), Tree(Lemma('state.v.01.say'), ['said']), Tree(Lemma('friday.n.01.Friday'), ['Friday']), ['an'], Tree(Lemma('probe.n.01.investigation'), ['investigation']), ['of'], Tree(Lemma('atlanta.n.01.Atlanta'), ['Atlanta']), [\"'s\"], Tree(Lemma('late.s.03.recent'), ['recent']), Tree(Lemma('primary.n.01.primary_election'), ['primary', 'election']), Tree(Lemma('produce.v.04.produce'), ['produced']), ['``'], ['no'], Tree(Lemma('evidence.n.01.evidence'), ['evidence']), [\"''\"], ['that'], ['any'], Tree(Lemma('abnormality.n.04.irregularity'), ['irregularities']), Tree(Lemma('happen.v.01.take_place'), ['took', 'place']), ['.']]\n",
            "['His', 'petition', 'charged', 'mental', 'cruelty', '.']\n",
            "[['His'], Tree(Lemma('request.n.01.petition'), ['petition']), Tree(Lemma('charge.v.06.charge'), ['charged']), Tree(Lemma('mental.a.02.mental'), ['mental']), Tree(Lemma('cruelty.n.02.cruelty'), ['cruelty']), ['.']]\n"
          ]
        }
      ],
      "source": [
        "# two sample sentence from the semcor corpus\n",
        "# with their corresponding sense-annotated versions\n",
        "for i in [0, 27]:\n",
        "    print(semcor.sents()[i])\n",
        "    print(semcor.tagged_sents(tag=\"sem\")[i])"
      ]
    },
    {
      "cell_type": "markdown",
      "metadata": {
        "id": "0xz-BK46f29z"
      },
      "source": [
        "Let's prepare SemCor data for the disambiguation task. Since this is just an educational exercise and we don't aim at replicating the full results, we can use only a subset of SemCor. Take the first $N$ sentences of SemCor, pre-process the data, shuffle the sample in the data **randomly**, and finally split the data into the training and test sets."
      ]
    },
    {
      "cell_type": "code",
      "execution_count": null,
      "metadata": {
        "id": "lJxPaNl0f29z"
      },
      "outputs": [],
      "source": [
        "# Extract a part of the data for experiments\n",
        "N = 10_000\n",
        "semcor_annotated = list(semcor.tagged_sents(tag='sem')[:N])\n",
        "semcor_tokenized = list(semcor.sents()[:N])\n",
        "random.Random(42).shuffle(semcor_annotated)\n",
        "random.Random(42).shuffle(semcor_tokenized)"
      ]
    },
    {
      "cell_type": "markdown",
      "metadata": {
        "id": "CCMYa2O6f29z"
      },
      "source": [
        "## Ex2.1 [9pt] Preprocessing data\n",
        "\n",
        "Create a function that takes as input a collection of sense-annotated sentences from SemCor and extracts the sense annotation. For each token of the sentence get either the corresponding WordNet sense or <code>None</code>.\n",
        "<code>None</code> corresponds to tokens that are: (1) not annotated with a Lemma object sense (e.g. articles); (2) representing a part of a larger phrase that is annotated with a sense. The latter represents a simplification of the task.  \n",
        "More info about NLTK's Lemma and Tree objects can be found here: [Lemma](https://www.nltk.org/api/nltk.corpus.reader.wordnet.html) and [Tree](https://www.nltk.org/api/nltk.tree.tree.html)."
      ]
    },
    {
      "cell_type": "code",
      "execution_count": null,
      "metadata": {
        "id": "BIBT0eNff29z"
      },
      "outputs": [],
      "source": [
        "def get_sns_annotations(data):\n",
        "    \"\"\" data - sense tagged data from semcor\n",
        "        return\n",
        "            the sense annotations as a list of lists.\n",
        "            The structure follows to semcor sentences and tokenization\n",
        "            The elements of the list are None or a tuple of strings\n",
        "            representing a synset and a lemma.\n",
        "            None annotation means that a word token has no sense annotation\n",
        "    \"\"\"\n",
        "    ### YOUR CODE HERE ###\n",
        "\n",
        "    all_sentences = []\n",
        "    for sentence in data:\n",
        "        curr_sentence = []\n",
        "        for tok in sentence:\n",
        "            if type(tok) is nltk.tree.tree.Tree:\n",
        "\n",
        "                if len(tok.leaves()) == 1 and tok.height() <= 2: # token must not be a part of a longer phrase\n",
        "                    if type(tok.label()) is str:\n",
        "                        curr_sentence.append(None)\n",
        "                    else:\n",
        "                        curr_sentence.append((tok.label().synset().name(), tok.label().name()))\n",
        "                else:\n",
        "                    curr_sentence.extend(len(tok.leaves())*[None])\n",
        "            else:\n",
        "                curr_sentence.extend(len(tok)*[None])\n",
        "        all_sentences.append(curr_sentence)\n",
        "    return all_sentences\n"
      ]
    },
    {
      "cell_type": "code",
      "execution_count": null,
      "metadata": {
        "colab": {
          "base_uri": "https://localhost:8080/"
        },
        "id": "6vcRK1QMhHXR",
        "outputId": "8bbeb188-70d4-46db-95e2-f37fe31e936f"
      },
      "outputs": [
        {
          "output_type": "stream",
          "name": "stdout",
          "text": [
            "sample sentence: ['The', 'bronchial', 'artery', ',', 'except', 'for', 'a', 'small', 'number', 'of', 'short', 'branches', 'in', 'the', 'hilum', ',', 'contributes', 'none', 'of', 'the', 'pleural', 'blood', 'supply', '.']\n",
            "sample annotation: [None, None, None, None, None, None, None, ('small.a.01', 'small'), ('number.n.02', 'number'), None, ('short.a.02', 'short'), ('branch.n.03', 'branch'), None, None, ('hilus.n.01', 'hilum'), None, ('contribute.v.02', 'contribute'), None, None, None, ('pleural.a.01', 'pleural'), ('blood.n.01', 'blood'), ('supply.n.01', 'supply'), None]\n",
            "sample sentence: ['It', 'just', 'did', \"n't\", 'occur', 'to', 'Trig', 'that', 'anything', 'serious', 'would', 'happen', 'to', 'him', '.']\n",
            "sample annotation: [None, ('merely.r.01', 'just'), None, None, ('occur.v.02', 'occur'), None, None, None, None, ('dangerous.s.02', 'serious'), None, ('happen.v.02', 'happen'), None, None, None]\n",
            "Total number of senses in the data = 84296\n"
          ]
        }
      ],
      "source": [
        "# TEST Ex2.1\n",
        "semcor_senses = get_sns_annotations(semcor_annotated)\n",
        "\n",
        "print(\"sample sentence:\", semcor_tokenized[0])\n",
        "print(\"sample annotation:\", semcor_senses[0])\n",
        "\n",
        "print(\"sample sentence:\", semcor_tokenized[13])\n",
        "print(\"sample annotation:\", semcor_senses[13])\n",
        "\n",
        "print(\"Total number of senses in the data =\", len([ t for s in semcor_senses for t in s if t ]))\n",
        "\n",
        "# test that for all sentences token number and annotation length are the same\n",
        "for i, (senses, tokenized) in enumerate(zip(semcor_senses, semcor_tokenized, strict=True)):\n",
        "    assert len(senses) == len(tokenized), \\\n",
        "        f\"mismatch for {i}th sentence\\n{senses}\\n{tokenized}\""
      ]
    },
    {
      "cell_type": "markdown",
      "metadata": {
        "id": "JMldhpzYEnXq"
      },
      "source": [
        "Reference output:\n",
        "```\n",
        "sample sentence: ['The', 'bronchial', 'artery', ',', 'except', 'for', 'a', 'small', 'number', 'of', 'short', 'branches', 'in', 'the', 'hilum', ',', 'contributes', 'none', 'of', 'the', 'pleural', 'blood', 'supply', '.']\n",
        "sample annotation: [None, None, None, None, None, None, None, ('small.a.01', 'small'), ('number.n.02', 'number'), None, ('short.a.02', 'short'), ('branch.n.03', 'branch'), None, None, ('hilus.n.01', 'hilum'), None, ('contribute.v.02', 'contribute'), None, None, None, ('pleural.a.01', 'pleural'), ('blood.n.01', 'blood'), ('supply.n.01', 'supply'), None]\n",
        "sample sentence: ['It', 'just', 'did', \"n't\", 'occur', 'to', 'Trig', 'that', 'anything', 'serious', 'would', 'happen', 'to', 'him', '.']\n",
        "sample annotation: [None, ('merely.r.01', 'just'), None, None, ('occur.v.02', 'occur'), None, None, None, None, ('dangerous.s.02', 'serious'), None, ('happen.v.02', 'happen'), None, None, None]\n",
        "Total number of senses in the data = 84296\n",
        "```"
      ]
    },
    {
      "cell_type": "code",
      "execution_count": null,
      "metadata": {
        "id": "qL_hd1y1es7z"
      },
      "outputs": [],
      "source": [
        "# Run the following to get a reference data for comparison\n",
        "# If your data differs from the reference, use the reference data in the subsequent parts\n",
        "# !rm -f semcor_senses.pkl\n",
        "# !wget -nv https://naturallogic.pro/_files_/download/mNLP/semcor_senses.pkl\n",
        "# semcor_senses = read_pickle(\"semcor_senses.pkl\")"
      ]
    },
    {
      "cell_type": "code",
      "execution_count": null,
      "metadata": {
        "id": "xboZFvxBf290"
      },
      "outputs": [],
      "source": [
        "# create training and test sets\n",
        "train_N = 9_000\n",
        "semcor_X = {'train':semcor_tokenized[:train_N], 'test':semcor_tokenized[train_N:]}\n",
        "semcor_Y = {'train':semcor_senses[:train_N], 'test':semcor_senses[train_N:]}"
      ]
    },
    {
      "cell_type": "markdown",
      "metadata": {
        "id": "I8RjCtWAnkOw"
      },
      "source": [
        "## BERT's contextualized vectors"
      ]
    },
    {
      "cell_type": "markdown",
      "metadata": {
        "id": "7JyNoPGWf290"
      },
      "source": [
        "After we have the training and test sets prepared with their gold sense annotations, it is time to get sense vectors for those senses that are occurring in the training set. Note that **contextualized vectors are crucial for the task** as a word (e.g., \"book\", \"plant\", \"figure\") can have different senses in different contexts.\n",
        "\n",
        "We will use BERT transformer model to get contextualized word vectors for the words in the training and test sets. We will use the implementation of BERT in pytorch from the [transformers library](https://huggingface.co/docs/transformers/index).\n",
        "\n",
        "Getting word vectors from BERT is not trivial as it uses a different type of tokenization than the traditional one. For example, the base-uncased version of BERT expects `Jupyter` tokenized as `ju`, `##py`, `##ter` while `Notebook` as `notebook` (note the lower casing of tokens due to the uncased version of BERT). To distinguish these two versions of tokenization and tokens, we will use `tokens` for BERT tokens and words for traditional tokenization. For example, the SemCor sentences use traditional tokenization.\n",
        "\n",
        "If you want to learn more about BERT, [this](http://mccormickml.com/2019/05/14/BERT-word-embeddings-tutorial/) represents a gentle intro to BERT's wordpiece-based tokenizatio and contextualized word vectors."
      ]
    },
    {
      "cell_type": "code",
      "execution_count": null,
      "metadata": {
        "id": "9Aah2bg9sAja"
      },
      "outputs": [],
      "source": [
        "# if this cell errors with \"A UTF-8 locale is required. Got ANSI_X3.4-1968\"\n",
        "# uncomment and run the next two lines\n",
        "import locale\n",
        "locale.getpreferredencoding = lambda: \"UTF-8\"\n",
        "# install transformer library\n",
        "# !pip install transformers"
      ]
    },
    {
      "cell_type": "code",
      "execution_count": null,
      "metadata": {
        "id": "__NtRqd_f291",
        "colab": {
          "base_uri": "https://localhost:8080/"
        },
        "outputId": "3525b858-8dcb-4b6d-c938-ea82220996be"
      },
      "outputs": [
        {
          "output_type": "stream",
          "name": "stdout",
          "text": [
            "4.41.2\n"
          ]
        }
      ],
      "source": [
        "import transformers\n",
        "from transformers import BertModel, AutoTokenizer\n",
        "print(transformers.__version__) # 4.41.0"
      ]
    },
    {
      "cell_type": "code",
      "execution_count": null,
      "metadata": {
        "id": "0I2kwYUXk4Uo",
        "colab": {
          "base_uri": "https://localhost:8080/",
          "height": 304,
          "referenced_widgets": [
            "f2f3c0e8925f46daa6eed7da724905f4",
            "e3b90829f7a34a0b9ca50b9174c8ae30",
            "11d048c8461247a0ab97963ec54ed78c",
            "087f368e8cdf40e5a6f517993cbfa46e",
            "77e29f0a41764dfbaddda7e20c0c4d1f",
            "032828568fe94cf280b995d59406a19e",
            "bc7debd482eb4f5497c7752173f3cc8c",
            "2527da33f7c046b0a70e4f02a7b6944e",
            "8d520176e52d4a688f98e84a91e37054",
            "d1ca9ad5b8914312878e90622493f27a",
            "b6558fcf53d94a879349d4797d027570",
            "bbbfbd5fa6c84198843c5754ca1ca590",
            "34512cc626e243a3a969bcccd1f88621",
            "ff91a872e9b94788b04140d8ce1c57f3",
            "30f643b45e31459e80c2f3768ea09f54",
            "a90ba42b7f2543718d66165efcb25b39",
            "4ef20179a6bb48fd955883e960fb61e1",
            "92651f7655c74975ae57b3097ec88f07",
            "ccdadf9bcab74be785c30c18eee03530",
            "edd666b023b9414a80f3dd54bc83c544",
            "06c71f3b23cb424e885449ebd5d97ed8",
            "81c4c58b27374603aa4880b0db45d97f",
            "337c73d6fca6451a986162d9baf18fcb",
            "67e5d8fb4f14403ea796790d6cb62f64",
            "52d18aa50e0a4c44a98afe561ac4c997",
            "0b1dfba05a9b463da7ef9f99bf91c0d9",
            "d0b795948ef24f278baf4b04f841fad2",
            "18599e817792486b837ba256f273e55e",
            "62cc48c3846546a185dd542e876f8318",
            "de01a43cbbf14bc782bf3a3303d860ed",
            "afe2052365764b82a41b90184ee792bd",
            "6f77b2200aa942e18d710041948e7e34",
            "74e2ca142029411293b9ede4d69609e2",
            "e16e7af9d08a48e18bac13f410faa038",
            "299e581195f8430ea453d6fee6aee69d",
            "3a393a93ba49494581a94bee9dc58a2b",
            "9bf4a2341e504bf685fef49689e8f99a",
            "adbfb42ca77d423ab0569fdeaf6252a7",
            "a69ba8b89dd841b39601aa21b8916963",
            "5ef308e709134247a0af987197c4dac7",
            "c9906a3fcc9649f0883aa44e0c7ebdfc",
            "bc5a5b1c248a448ea5a26c081afa2ead",
            "9a99d15b0fd04bfe965001660b7229b5",
            "ae5ddc93b19c4b45b8b68c60750d5d71"
          ]
        },
        "outputId": "e23e1e12-efcb-4def-cf45-e6387bbb14df"
      },
      "outputs": [
        {
          "output_type": "stream",
          "name": "stderr",
          "text": [
            "/usr/local/lib/python3.10/dist-packages/huggingface_hub/utils/_token.py:89: UserWarning: \n",
            "The secret `HF_TOKEN` does not exist in your Colab secrets.\n",
            "To authenticate with the Hugging Face Hub, create a token in your settings tab (https://huggingface.co/settings/tokens), set it as secret in your Google Colab and restart your session.\n",
            "You will be able to reuse this secret in all of your notebooks.\n",
            "Please note that authentication is recommended but still optional to access public models or datasets.\n",
            "  warnings.warn(\n"
          ]
        },
        {
          "output_type": "display_data",
          "data": {
            "text/plain": [
              "tokenizer_config.json:   0%|          | 0.00/48.0 [00:00<?, ?B/s]"
            ],
            "application/vnd.jupyter.widget-view+json": {
              "version_major": 2,
              "version_minor": 0,
              "model_id": "f2f3c0e8925f46daa6eed7da724905f4"
            }
          },
          "metadata": {}
        },
        {
          "output_type": "stream",
          "name": "stderr",
          "text": [
            "/usr/local/lib/python3.10/dist-packages/huggingface_hub/file_download.py:1132: FutureWarning: `resume_download` is deprecated and will be removed in version 1.0.0. Downloads always resume when possible. If you want to force a new download, use `force_download=True`.\n",
            "  warnings.warn(\n"
          ]
        },
        {
          "output_type": "display_data",
          "data": {
            "text/plain": [
              "config.json:   0%|          | 0.00/570 [00:00<?, ?B/s]"
            ],
            "application/vnd.jupyter.widget-view+json": {
              "version_major": 2,
              "version_minor": 0,
              "model_id": "bbbfbd5fa6c84198843c5754ca1ca590"
            }
          },
          "metadata": {}
        },
        {
          "output_type": "display_data",
          "data": {
            "text/plain": [
              "vocab.txt:   0%|          | 0.00/232k [00:00<?, ?B/s]"
            ],
            "application/vnd.jupyter.widget-view+json": {
              "version_major": 2,
              "version_minor": 0,
              "model_id": "337c73d6fca6451a986162d9baf18fcb"
            }
          },
          "metadata": {}
        },
        {
          "output_type": "display_data",
          "data": {
            "text/plain": [
              "tokenizer.json:   0%|          | 0.00/466k [00:00<?, ?B/s]"
            ],
            "application/vnd.jupyter.widget-view+json": {
              "version_major": 2,
              "version_minor": 0,
              "model_id": "e16e7af9d08a48e18bac13f410faa038"
            }
          },
          "metadata": {}
        }
      ],
      "source": [
        "# Load tokenizer (vocabulary)\n",
        "MODEL_NAME = 'bert-base-uncased'\n",
        "tokenizer = AutoTokenizer.from_pretrained(MODEL_NAME)"
      ]
    },
    {
      "cell_type": "code",
      "execution_count": null,
      "metadata": {
        "id": "TniSOKjXsSYi",
        "colab": {
          "base_uri": "https://localhost:8080/"
        },
        "outputId": "e2a7d1e1-5334-4862-b8ed-0ba10e781b3c"
      },
      "outputs": [
        {
          "output_type": "stream",
          "name": "stdout",
          "text": [
            "The size of the token vocabulary 30522\n",
            "'dog' has index 3899\n",
            "'##tion' has index 3508\n",
            "Reverse mapping: 3899 --> dog\n",
            "Reverse mapping: 3508 --> ##tion\n"
          ]
        }
      ],
      "source": [
        "# As usual, tokens are mapped to indices\n",
        "print(\"The size of the token vocabulary\", len(tokenizer.vocab))\n",
        "for tok in (\"dog\", \"##tion\"):\n",
        "    print(f\"'{tok}' has index {tokenizer.vocab[tok]}\")\n",
        "\n",
        "for i in (3899, 3508):\n",
        "    print(f\"Reverse mapping: {i} --> {tokenizer.convert_ids_to_tokens(i)}\")"
      ]
    },
    {
      "cell_type": "code",
      "execution_count": null,
      "metadata": {
        "id": "LL1wil6ctdNB",
        "colab": {
          "base_uri": "https://localhost:8080/"
        },
        "outputId": "c13ff8ae-5bd0-42c7-94f6-33562a2a402f"
      },
      "outputs": [
        {
          "output_type": "stream",
          "name": "stdout",
          "text": [
            "Output of a tokenizer:  {'input_ids': [101, 19081, 1999, 18414, 7685, 3334, 14960, 102], 'token_type_ids': [0, 0, 0, 0, 0, 0, 0, 0], 'attention_mask': [1, 1, 1, 1, 1, 1, 1, 1]}\n",
            "Tokens as word pieces:  ['[CLS]', 'transformers', 'in', 'ju', '##py', '##ter', 'notebook', '[SEP]']\n"
          ]
        }
      ],
      "source": [
        "example_input = \"Transformers in Jupyter Notebook\"\n",
        "tok_result = tokenizer(example_input)\n",
        "print(\"Output of a tokenizer: \", tok_result)\n",
        "print(\"Tokens as word pieces: \", tokenizer.convert_ids_to_tokens(tok_result.input_ids))"
      ]
    },
    {
      "cell_type": "markdown",
      "metadata": {
        "id": "N3sMSQztupXy"
      },
      "source": [
        "`[CLS]` and `[SEP]` are special tokens use by BERT. `[CLS]` gets a vector that models the meaning of the entire input text sequence while `[SEP]` indicates sequence delimiters. Note that one of the tasks BERT was pre-trained on was guessing the next sentence, hence it was trained on sequence modeling, where elements of the sequence are sentences. Note that the output of `tokenizer([S1, S2])` and `tokenizer(S1, S2)` differ as in the first case the input is interpreted as a batch of two independent texts while in the second it is a sequence of texts.\n",
        "\n",
        "The output of the tokenizer provides a sufficient input for BERT to process the input and assign contextualized embeddings."
      ]
    },
    {
      "cell_type": "code",
      "execution_count": null,
      "metadata": {
        "id": "-mdwEKBcf291",
        "colab": {
          "base_uri": "https://localhost:8080/",
          "height": 219,
          "referenced_widgets": [
            "ac5931fee8524aa58b274682a75212b3",
            "00270567f1dd4cd5bc5bd8db65dbc42c",
            "287df987777c4ba982266cca05bab0d0",
            "bd9a2414a77d4dafa95581f2a6d4dccb",
            "efdacddd8fee41c58835150891349ec5",
            "f39b44aeb1bf437687143bf95b7286f8",
            "85fb1297f3ab4ffcbbe15684e241ea3b",
            "88e28258c321415da7f83c5ec7daa576",
            "5c824d9129694efba9a24fc6323cca4a",
            "f561ebd822624157944d2944b70d3a69",
            "bd9c3d878bbf4d1ba854474d21a6934f"
          ]
        },
        "outputId": "768fe766-9aa2-4146-b8f3-ff3872118db9"
      },
      "outputs": [
        {
          "output_type": "display_data",
          "data": {
            "text/plain": [
              "model.safetensors:   0%|          | 0.00/440M [00:00<?, ?B/s]"
            ],
            "application/vnd.jupyter.widget-view+json": {
              "version_major": 2,
              "version_minor": 0,
              "model_id": "ac5931fee8524aa58b274682a75212b3"
            }
          },
          "metadata": {}
        },
        {
          "output_type": "execute_result",
          "data": {
            "text/plain": [
              "<bound method Module.parameters of BertModel(\n",
              "  (embeddings): BertEmbeddings(\n",
              "    (word_embeddings): Embedding(30522, 768, padding_idx=0)\n",
              "    (position_embeddings): Embedding(512, 768)\n",
              "    (token_type_embeddings): Embedding(2, 768)\n",
              "    (LayerNorm): LayerNorm((768,), eps=1e-12, elementwise_affine=True)\n",
              "    (dropout): Dropout(p=0.1, inplace=False)\n",
              "  )\n",
              "  (encoder): BertEncoder(\n",
              "    (layer): ModuleList(\n",
              "      (0-11): 12 x BertLayer(\n",
              "        (attention): BertAttention(\n",
              "          (self): BertSdpaSelfAttention(\n",
              "            (query): Linear(in_features=768, out_features=768, bias=True)\n",
              "            (key): Linear(in_features=768, out_features=768, bias=True)\n",
              "            (value): Linear(in_features=768, out_features=768, bias=True)\n",
              "            (dropout): Dropout(p=0.1, inplace=False)\n",
              "          )\n",
              "          (output): BertSelfOutput(\n",
              "            (dense): Linear(in_features=768, out_features=768, bias=True)\n",
              "            (LayerNorm): LayerNorm((768,), eps=1e-12, elementwise_affine=True)\n",
              "            (dropout): Dropout(p=0.1, inplace=False)\n",
              "          )\n",
              "        )\n",
              "        (intermediate): BertIntermediate(\n",
              "          (dense): Linear(in_features=768, out_features=3072, bias=True)\n",
              "          (intermediate_act_fn): GELUActivation()\n",
              "        )\n",
              "        (output): BertOutput(\n",
              "          (dense): Linear(in_features=3072, out_features=768, bias=True)\n",
              "          (LayerNorm): LayerNorm((768,), eps=1e-12, elementwise_affine=True)\n",
              "          (dropout): Dropout(p=0.1, inplace=False)\n",
              "        )\n",
              "      )\n",
              "    )\n",
              "  )\n",
              "  (pooler): BertPooler(\n",
              "    (dense): Linear(in_features=768, out_features=768, bias=True)\n",
              "    (activation): Tanh()\n",
              "  )\n",
              ")>"
            ],
            "text/html": [
              "<div style=\"max-width:800px; border: 1px solid var(--colab-border-color);\"><style>\n",
              "      pre.function-repr-contents {\n",
              "        overflow-x: auto;\n",
              "        padding: 8px 12px;\n",
              "        max-height: 500px;\n",
              "      }\n",
              "\n",
              "      pre.function-repr-contents.function-repr-contents-collapsed {\n",
              "        cursor: pointer;\n",
              "        max-height: 100px;\n",
              "      }\n",
              "    </style>\n",
              "    <pre style=\"white-space: initial; background:\n",
              "         var(--colab-secondary-surface-color); padding: 8px 12px;\n",
              "         border-bottom: 1px solid var(--colab-border-color);\"><b>torch.nn.modules.module.Module.parameters</b><br/>def parameters(recurse: bool=True) -&gt; Iterator[Parameter]</pre><pre class=\"function-repr-contents function-repr-contents-collapsed\" style=\"\"><a class=\"filepath\" style=\"display:none\" href=\"#\">/usr/local/lib/python3.10/dist-packages/torch/nn/modules/module.py</a>Return an iterator over module parameters.\n",
              "\n",
              "This is typically passed to an optimizer.\n",
              "\n",
              "Args:\n",
              "    recurse (bool): if True, then yields parameters of this module\n",
              "        and all submodules. Otherwise, yields only parameters that\n",
              "        are direct members of this module.\n",
              "\n",
              "Yields:\n",
              "    Parameter: module parameter\n",
              "\n",
              "Example::\n",
              "\n",
              "    &gt;&gt;&gt; # xdoctest: +SKIP(&quot;undefined vars&quot;)\n",
              "    &gt;&gt;&gt; for param in model.parameters():\n",
              "    &gt;&gt;&gt;     print(type(param), param.size())\n",
              "    &lt;class &#x27;torch.Tensor&#x27;&gt; (20L,)\n",
              "    &lt;class &#x27;torch.Tensor&#x27;&gt; (20L, 1L, 5L, 5L)</pre>\n",
              "      <script>\n",
              "      if (google.colab.kernel.accessAllowed && google.colab.files && google.colab.files.view) {\n",
              "        for (const element of document.querySelectorAll('.filepath')) {\n",
              "          element.style.display = 'block'\n",
              "          element.onclick = (event) => {\n",
              "            event.preventDefault();\n",
              "            event.stopPropagation();\n",
              "            google.colab.files.view(element.textContent, 2207);\n",
              "          };\n",
              "        }\n",
              "      }\n",
              "      for (const element of document.querySelectorAll('.function-repr-contents')) {\n",
              "        element.onclick = (event) => {\n",
              "          event.preventDefault();\n",
              "          event.stopPropagation();\n",
              "          element.classList.toggle('function-repr-contents-collapsed');\n",
              "        };\n",
              "      }\n",
              "      </script>\n",
              "      </div>"
            ]
          },
          "metadata": {},
          "execution_count": 14
        }
      ],
      "source": [
        "# Load pre-trained model (weights)\n",
        "bert = BertModel.from_pretrained(MODEL_NAME)\n",
        "\n",
        "#print parameters\n",
        "bert.parameters"
      ]
    },
    {
      "cell_type": "code",
      "execution_count": null,
      "metadata": {
        "id": "-AsRE_wvw5aU",
        "colab": {
          "base_uri": "https://localhost:8080/"
        },
        "outputId": "0308035d-80e8-48ce-ff0b-107dd8d268d5"
      },
      "outputs": [
        {
          "output_type": "stream",
          "name": "stdout",
          "text": [
            "Dimension of the last (12th) hidden states (batch size X token number X vector dim):  torch.Size([1, 8, 768])\n"
          ]
        }
      ],
      "source": [
        "# let bert output hidden states\n",
        "bert.config.output_hidden_states = True\n",
        "# bert expects tensors as an input\n",
        "tok_result = tokenizer(example_input, return_tensors='pt')\n",
        "bert_output = bert(**tok_result)\n",
        "print(\"Dimension of the last (12th) hidden states (batch size X token number X vector dim): \", bert_output.hidden_states[-1].shape)"
      ]
    },
    {
      "cell_type": "markdown",
      "metadata": {
        "id": "D0mDqT17zOTE"
      },
      "source": [
        "Due to non-trivial correspondence between BERT tokens and words, we provide you with a ready function that takes a batch/list of word-tokenized sentences and processes them with the BERT model. In the end, it returns contextualized word vectors for each input word. The vector of the words that consist of several tokens is obtained by collating token vectors (e.g., taking the mean by default). The function allows to indicate from which layer the vectors should be extracted. For more details you can read the function definition [here](https://github.com/kovvalsky/assigntools/blob/main/NLP/deep_learning.py)."
      ]
    },
    {
      "cell_type": "code",
      "execution_count": null,
      "metadata": {
        "id": "aLvl8jTZ0J3C",
        "colab": {
          "base_uri": "https://localhost:8080/"
        },
        "outputId": "81b104d6-d396-475d-ae43-2c54d4387520"
      },
      "outputs": [
        {
          "output_type": "stream",
          "name": "stdout",
          "text": [
            "we are using cuda\n",
            "'Transformers' tokenized as ['transformers'] with tensor (first 3 components) tensor([-0.2651, -0.0888, -0.1850])\n",
            "'in' tokenized as ['in'] with tensor (first 3 components) tensor([ 0.8255,  0.1081, -0.4694])\n",
            "'Jupyter' tokenized as ['ju', '##py', '##ter'] with tensor (first 3 components) tensor([-0.1719, -0.5191,  0.3761])\n",
            "'Notebook' tokenized as ['notebook'] with tensor (first 3 components) tensor([-0.2273, -0.4334,  0.7509])\n",
            "\n",
            "'Transformers' tokenized as ['transformers'] with tensor (first 3 components) tensor([-0.4967,  0.0918, -0.0243])\n",
            "'visited' tokenized as ['visited'] with tensor (first 3 components) tensor([ 1.2033, -0.1839, -0.5399])\n",
            "'the' tokenized as ['the'] with tensor (first 3 components) tensor([-0.8393,  0.1038,  0.2743])\n",
            "'earth' tokenized as ['earth'] with tensor (first 3 components) tensor([-0.8355, -0.2884, -0.1953])\n",
            "\n",
            "tensor([-0.2651, -0.0888, -0.1850,  0.4485,  0.1538])... != tensor([-0.4967,  0.0918, -0.0243,  0.1993, -0.2419])...\n",
            "vectors cosine similarity = 0.9091211557388306\n"
          ]
        }
      ],
      "source": [
        "# Batches with GPU accelerates the process ~30 times when used T4 GPU of colab compared to CPU\n",
        "# Obviously for this toy example, efficiency doesn't matter\n",
        "# this identifies whether GPU is present\n",
        "device = torch.device(\"cuda\") if torch.cuda.is_available() else torch.device(\"cpu\")\n",
        "print(\"we are using\", device)\n",
        "\n",
        "sample_batch = [ \"Transformers in Jupyter Notebook\".split(), \"Transformers visited the earth\".split() ]\n",
        "sample_output = transformer_word2convec(bert, tokenizer, sample_batch, device=device, collate_tok_vec=torch.mean, layer=-1)\n",
        "\n",
        "# illustrating the output\n",
        "for sent in sample_output:\n",
        "    for w in sent:\n",
        "        print(f\"'{w['word']}' tokenized as {w['tokens']} with tensor (first 3 components) {w['pt'][:3]}\")\n",
        "    print()\n",
        "\n",
        "# Comparing vectors of two occurrences of \"Transformers\"\n",
        "tvec1, tvec2 = sample_output[0][0]['pt'], sample_output[1][0]['pt']\n",
        "print(f\"{tvec1[:5]}... != {tvec2[:5]}...\")\n",
        "print(f\"vectors cosine similarity = {F.cosine_similarity(tvec1, tvec2, dim=0)}\")"
      ]
    },
    {
      "cell_type": "markdown",
      "metadata": {
        "id": "3czfz2Pbf292"
      },
      "source": [
        "## Ex2.2 [10pt] Sense vectors\n",
        "\n",
        "Process the training set with BERT using `transformer_word2convec` with default parameters. After getting word vectors, iterate over all train sentences, and for each sense, collect the word vectors. Note that words without sense annotations will be ignored in this process.\n",
        "\n",
        "Since senses in the same WordNet synset are considered equivalent, we will be using synsets as sense labels. Prepare a dictionary with synset `(synset_str)` as a key and a single tensor as a value. The tensor should be a mean of all the word vectors collected for the sense (this is a default collating method used by `transformer_word2convec`).\n",
        "\n",
        "This process is a time-consuming part of this assignment. It is recommended to use Colab's GPU: max 5min of T4 GPU will suffice to process all sentences with BERT. While processing the sentences, use batches of size 64 (Hint: `chunked` from `more_itertools` can do batching for you). Note that batches make a big difference with GPU. For the purposes of developing and debugging your solution, you may start by using a sample of 100 sentences, but then switch to the full training set."
      ]
    },
    {
      "cell_type": "code",
      "execution_count": null,
      "metadata": {
        "id": "_TDxnJP8f293"
      },
      "outputs": [],
      "source": [
        "import more_itertools\n",
        "\n",
        "# you can reuse global vars bert and tokenizer\n",
        "def get_sense2vec(data_X, data_Y, batch_size=64, device=device, collate=torch.mean):\n",
        "    \"\"\" data_X and data_Y are a list of tokenized semcor sentences with their corresponding sense annotations.\n",
        "        The last two arguments are the same as in transformer_word2convec\n",
        "        Returns 2 dictionaries:\n",
        "            Sense2VecList - { synset_str -> list of tensors  }\n",
        "            Sense2AvgVec - { synset_str -> a mean tensor  }\n",
        "    \"\"\"\n",
        "    ### YOUR CODE HERE ###\n",
        "    sense2veclist = defaultdict(list)\n",
        "    sense2vec = {}\n",
        "    chunk_size = batch_size\n",
        "    # iterate over all train sentence use batches of size 64 (first try with 100 sentences)\n",
        "    for X_chunk, Y_chunk in zip(more_itertools.chunked(data_X, chunk_size), more_itertools.chunked(data_Y, chunk_size)): # chunck is a subset of train\n",
        "        chunk_ouput = transformer_word2convec(bert, tokenizer, X_chunk, device=device, collate_tok_vec=torch.mean, layer=-1)\n",
        "        for i, sentence in enumerate(X_chunk):\n",
        "            # for each sense collect the word vectors\n",
        "            for j, sense in enumerate(Y_chunk[i]):\n",
        "                if sense is not None:\n",
        "                    synset = sense[0]\n",
        "                    sense2veclist[synset].append(chunk_ouput[i][j]['pt']) # bert's embedding for the synset\n",
        "    # averaging vectors for each synset\n",
        "    for synset in sense2veclist:\n",
        "        sense2vec[synset] = torch.mean(torch.stack(sense2veclist[synset]), dim=0)\n",
        "\n",
        "    return sense2vec, sense2veclist"
      ]
    },
    {
      "cell_type": "code",
      "execution_count": null,
      "metadata": {
        "id": "MmdAbnmN0XOa"
      },
      "outputs": [],
      "source": [
        "# ~50min with CPU, less than 2min with T4 GPU\n",
        "BATCH_SIZE = 64\n",
        "\n",
        "Sense2AvgVec, Sense2VecList = get_sense2vec(semcor_X['train'], semcor_Y['train'], batch_size=BATCH_SIZE)"
      ]
    },
    {
      "cell_type": "code",
      "execution_count": null,
      "metadata": {
        "id": "VG3cgmUIOxsl"
      },
      "outputs": [],
      "source": [
        "# If you want to use reference vectors for next exercises, run the following:\n",
        "# !rm -f Sense2AvgVec.pkl\n",
        "# !wget -nv https://naturallogic.pro/_files_/download/mNLP/Sense2AvgVec.pkl\n",
        "# Sense2AvgVec = read_pickle(\"Sense2AvgVec.pkl\")"
      ]
    },
    {
      "cell_type": "code",
      "execution_count": null,
      "metadata": {
        "id": "H8O6xolyl0_U",
        "colab": {
          "base_uri": "https://localhost:8080/"
        },
        "outputId": "72d6f15f-a975-46c7-df2e-7eb6670737c9"
      },
      "outputs": [
        {
          "output_type": "stream",
          "name": "stdout",
          "text": [
            "mature.v.01 sense has 3 vectors with the mean vector = tensor([ 0.0587,  0.0471, -0.4079, -0.1624,  0.2848,  0.0910,  0.6782,  0.3704]) ...\n",
            "promptly.r.01 sense has 6 vectors with the mean vector = tensor([-0.2618,  0.0485,  0.1117,  0.0635,  0.5795, -0.1821,  0.0408,  1.0724]) ...\n",
            "state.v.01 sense has 410 vectors with the mean vector = tensor([ 0.3054,  0.2383, -0.0089, -0.0291,  0.2214,  0.0783,  0.2360,  0.5706]) ...\n",
            "be.v.01 sense has 2465 vectors with the mean vector = tensor([ 0.0400,  0.0864,  0.0222, -0.0710,  0.2275, -0.0252,  0.2669,  0.5936]) ...\n"
          ]
        }
      ],
      "source": [
        "# TEST Ex2.2\n",
        "for sns in [ 'mature.v.01', 'promptly.r.01', 'state.v.01', 'be.v.01']:\n",
        "    assert isinstance(Sense2VecList[sns], list)\n",
        "    assert isinstance(Sense2VecList[sns][0], torch.Tensor)\n",
        "    assert isinstance(Sense2AvgVec[sns], torch.Tensor)\n",
        "    print(f\"{sns} sense has {len(Sense2VecList[sns])} vectors with the mean vector = {Sense2AvgVec[sns][:8]} ...\")"
      ]
    },
    {
      "cell_type": "markdown",
      "metadata": {
        "id": "jldmhkypa0p-"
      },
      "source": [
        "Reference output\n",
        "```\n",
        "mature.v.01 sense has 3 vectors with the mean vector = tensor([ 0.0587,  0.0471, -0.4079, -0.1624,  0.2848,  0.0910,  0.6782,  0.3704]) ...\n",
        "promptly.r.01 sense has 6 vectors with the mean vector = tensor([-0.2618,  0.0485,  0.1117,  0.0635,  0.5795, -0.1821,  0.0408,  1.0724]) ...\n",
        "state.v.01 sense has 410 vectors with the mean vector = tensor([ 0.3054,  0.2383, -0.0089, -0.0291,  0.2214,  0.0783,  0.2360,  0.5706]) ...\n",
        "be.v.01 sense has 2465 vectors with the mean vector = tensor([ 0.0400,  0.0864,  0.0222, -0.0710,  0.2275, -0.0252,  0.2669,  0.5936]) ...\n",
        "```"
      ]
    },
    {
      "cell_type": "markdown",
      "metadata": {
        "id": "OeP1NVl6f294"
      },
      "source": [
        "## Ex2.3 [12pt] WSD testing"
      ]
    },
    {
      "cell_type": "markdown",
      "metadata": {
        "id": "3hDY0vO4f294"
      },
      "source": [
        "Now we are going to evaluate the sense embeddings on the test set. Write a function that takes a list of tokenized sentences and a mask that indicates which words are supposed to get senses. The function should return the sense predictions aligned with the sentences. When predicting a sense for a word token, use the strategy outlined above, with 1st WordNet sense as a fallback. Here is the strategy in more detail:\n",
        "\n",
        "- Use the sense vectors that were calculated based on the training set;\n",
        "- For each sense-annotated word token $t$ (e.g. the verb `run`) in the test set, predict the synset $s$ (e.g., `'run.x.xx'`) such that the vector of $s$ is the closest to the contextualized vector of $t$ based on the cosine distance metric. Also make sure that the predicted sense is applicable to a word token using [`wn.synsets()`](https://www.nltk.org/howto/wordnet.html).\n",
        "- There will be word tokens $t$ in the test set for which there won't be a sense vector collected from the training set, i.e., unseen senses. For such word tokens, us a backup strategy and predict the 1st sense of the word from WordNet, which is the most common sense of the word. This can be done using a built-in function from NLTK (e.g. <code>wn.lemmas('run')[0]</code>). For more info about NLTK's WordNet API, check [this](https://www.nltk.org/howto/wordnet.html).\n",
        "\n",
        "Note that the info that a word token has a gold sense unseen in the training set (provided by the mask argument), is not realistic info as it presupposes knowledge about gold annotations.\n",
        "\n",
        "Below you are provided with the sense masking that indicates whether a word token gets a sense and whether its sense was seen in the training set."
      ]
    },
    {
      "cell_type": "code",
      "execution_count": null,
      "metadata": {
        "id": "QAUMf_dFHcDO"
      },
      "outputs": [],
      "source": [
        "# masking of annotations: None - has NO sense annotation; True - has sense annotation and the sense\n",
        "# was seen in the training set; False - has sense annotation but the sense was NOT seen in the training set\n",
        "test_sense_mask = [ [ i if i is None else ( True if i[0] in Sense2AvgVec else False ) for i in s ] \\\n",
        "                        for s in semcor_Y['test'] ]\n",
        "\n",
        "def wsd_accuracy(predictions, reference):\n",
        "    \"\"\" Calculates accuracy with respect to the word tokens that get sense annotations.\n",
        "    \"\"\"\n",
        "    true_and_false = [ p == r[0] for preds, refs in zip(predictions, reference, strict=True) \\\n",
        "                       for (p, r) in zip(preds, refs, strict=True) if r is not None ]\n",
        "    return sum(true_and_false)/len(true_and_false)"
      ]
    },
    {
      "cell_type": "code",
      "execution_count": null,
      "metadata": {
        "id": "LGHvYdzbaI1a"
      },
      "outputs": [],
      "source": [
        "def predict_senses(sense2vec, sentences, sense_mask, fallback=False,\n",
        "                   batch_size=BATCH_SIZE, bert=bert, tokenizer=tokenizer, device=device):\n",
        "    \"\"\" sense2vec - a dictioanry from synset strings to torch tensor vectors\n",
        "        sentences - a list of sentences each being a list of word tokens\n",
        "        sense_mask - it is aligned with tokens of sentences and tells if a token gets sense\n",
        "                    and what type sense, seen or unseen in the training set.\n",
        "        fallback - if True it uses first sense as the option for tokens with unseen senses.\n",
        "        batch_size - the number of sentences is a batch\n",
        "        bert, tokenizer - bert model and a tokenizer compatible with it\n",
        "        device - a cpu or a gpu/cuda device that will be used by bert and tensor computations\n",
        "        return predictions\n",
        "            a list of list of predictions (None or a synset as a string) where the structure\n",
        "            is aligned with the sentences\n",
        "    \"\"\"\n",
        "    ### YOUR CODE HERE ###\n",
        "    device = torch.device('cuda' if torch.cuda.is_available() else 'cpu')\n",
        "    bert.to(device)\n",
        "    predictions=[]\n",
        "\n",
        "    # processing in batch\n",
        "    for start in range(0, len(sentences), batch_size):\n",
        "        end = min(start + batch_size, len(sentences))\n",
        "        batch_sentences = sentences[start:end]\n",
        "        batch_mask = sense_mask[start:end]\n",
        "        batch_output = transformer_word2convec(bert, tokenizer, batch_sentences,\n",
        "                                         device=device, collate_tok_vec=torch.mean,\n",
        "                                         layer=-1)\n",
        "        # processing each tuples of sentence, mask, bert's output\n",
        "        for sen, mask, out in zip(batch_sentences, batch_mask, batch_output):\n",
        "            curr_pred = []\n",
        "            for word, is_masked, word_vec in zip(sen, mask, out):\n",
        "\n",
        "                if is_masked: # token is in training set\n",
        "                    # filtering out unseen synsets\n",
        "                    seen_synsets = [synset for synset in wn.synsets(word) if synset.name() in sense2vec.keys()]\n",
        "                    if not seen_synsets: # if there are no senses for the token\n",
        "                      curr_pred.append(None)\n",
        "                      continue\n",
        "                    # computing cosine similarity between the current token vector and the possible synsets' vectors\n",
        "                    synset_mat = torch.stack([sense2vec.get(synset.name()) for synset in seen_synsets]).to(device)\n",
        "                    sense_idx = torch.argmax(F.cosine_similarity(word_vec['pt'].to(device), synset_mat, dim=1))\n",
        "                    curr_pred.append(seen_synsets[sense_idx].name())\n",
        "\n",
        "                elif is_masked is False and fallback: # fallback strategy\n",
        "                    word = word.lower()\n",
        "                    synsets = wn.synsets(word)\n",
        "                    first_synset = synsets[0].name() if synsets else None\n",
        "                    curr_pred.append(first_synset)\n",
        "\n",
        "                else: # if is_masked is none or no fallback strategy\n",
        "                  curr_pred.append(None)\n",
        "\n",
        "            predictions.append(curr_pred)\n",
        "\n",
        "    return predictions\n"
      ]
    },
    {
      "cell_type": "code",
      "execution_count": null,
      "metadata": {
        "id": "cfWacHi4QV15",
        "colab": {
          "base_uri": "https://localhost:8080/"
        },
        "outputId": "aa291f8f-c8c6-4bf7-daff-ca70cd6b2bb1"
      },
      "outputs": [
        {
          "output_type": "stream",
          "name": "stdout",
          "text": [
            "\n",
            "Accuracy of BERT      = 0.6516674840608141\n",
            "Accuracy of BERT + WN = 0.6969102501226091\n"
          ]
        }
      ],
      "source": [
        "# TEST Ex2.3\n",
        "# DON'T DELETE THE OUTPUT\n",
        "# expected runtime less than a minute\n",
        "predictions = predict_senses(Sense2AvgVec, semcor_X['test'], test_sense_mask)\n",
        "predictions_fb = predict_senses(Sense2AvgVec, semcor_X['test'], test_sense_mask, fallback=True)\n",
        "\n",
        "print(\"\\nAccuracy of BERT      =\", wsd_accuracy(predictions, semcor_Y['test']))\n",
        "print(\"Accuracy of BERT + WN =\", wsd_accuracy(predictions_fb, semcor_Y['test']))"
      ]
    },
    {
      "cell_type": "markdown",
      "metadata": {
        "id": "4MfEISf7TSfE"
      },
      "source": [
        "Reference output (where `X<Y`):\n",
        "\n",
        "```\n",
        "Accuracy of BERT      = 0.6X...\n",
        "Accuracy of BERT + WN = 0.6Y...\n",
        "```"
      ]
    },
    {
      "cell_type": "markdown",
      "metadata": {
        "id": "qbnGJ3sBiYac"
      },
      "source": [
        "## Further experiments\n",
        "\n",
        "Congratulations! You have reached the end of lab 4.\n",
        "\n",
        "If you want an additional challenge, you can carry out further experiments on WSD task. Note that in the experiments we used the vectors from the last layer of BERT, but several research papers have shown that the vectors from different layers also encode useful information.\n",
        "\n",
        "1.   You can test whether the vectors from other layers perform better than the last layer vectors.\n",
        "2.   Word (and sense vectors) can be defined in terms of the combinations of the vectors from several layers of BERT. You can verify whether concatenating vectors from different layers (e.g., a concatenation of vectors from the last two layers) performs better than the vectors from the single layers.\n"
      ]
    },
    {
      "cell_type": "markdown",
      "metadata": {
        "id": "nbgNN_S8W9Y6"
      },
      "source": [
        "# Acknowledgment\n",
        "\n",
        "The initial assignment by Denis Paperno included the contrast of pretrained and random word embeddings on POS tagging (using the extended Penn Treebank POS tags) and replication of the WSD experiment for ELMo. The assignment was built around the allennlp library.\n",
        "\n",
        "Since 2022-23 course, the assignment was substantially changed by Lasha Abzianidze. allennlp was replaced with pytorch and transformers library. ELMo was replaced with BERT and Penn Treebank POS tagging with Universal POS tagging. The first part now teaches students how to build a neural network tagger instead of using out-of-the-box tagger. These changes also drastically decreased GPU/CPU processing time."
      ]
    }
  ],
  "metadata": {
    "accelerator": "GPU",
    "colab": {
      "gpuType": "T4",
      "provenance": [],
      "toc_visible": true
    },
    "kernelspec": {
      "display_name": "Python 3",
      "name": "python3"
    },
    "language_info": {
      "codemirror_mode": {
        "name": "ipython",
        "version": 3
      },
      "file_extension": ".py",
      "mimetype": "text/x-python",
      "name": "python",
      "nbconvert_exporter": "python",
      "pygments_lexer": "ipython3",
      "version": "3.7.0"
    },
    "widgets": {
      "application/vnd.jupyter.widget-state+json": {
        "f2f3c0e8925f46daa6eed7da724905f4": {
          "model_module": "@jupyter-widgets/controls",
          "model_name": "HBoxModel",
          "model_module_version": "1.5.0",
          "state": {
            "_dom_classes": [],
            "_model_module": "@jupyter-widgets/controls",
            "_model_module_version": "1.5.0",
            "_model_name": "HBoxModel",
            "_view_count": null,
            "_view_module": "@jupyter-widgets/controls",
            "_view_module_version": "1.5.0",
            "_view_name": "HBoxView",
            "box_style": "",
            "children": [
              "IPY_MODEL_e3b90829f7a34a0b9ca50b9174c8ae30",
              "IPY_MODEL_11d048c8461247a0ab97963ec54ed78c",
              "IPY_MODEL_087f368e8cdf40e5a6f517993cbfa46e"
            ],
            "layout": "IPY_MODEL_77e29f0a41764dfbaddda7e20c0c4d1f"
          }
        },
        "e3b90829f7a34a0b9ca50b9174c8ae30": {
          "model_module": "@jupyter-widgets/controls",
          "model_name": "HTMLModel",
          "model_module_version": "1.5.0",
          "state": {
            "_dom_classes": [],
            "_model_module": "@jupyter-widgets/controls",
            "_model_module_version": "1.5.0",
            "_model_name": "HTMLModel",
            "_view_count": null,
            "_view_module": "@jupyter-widgets/controls",
            "_view_module_version": "1.5.0",
            "_view_name": "HTMLView",
            "description": "",
            "description_tooltip": null,
            "layout": "IPY_MODEL_032828568fe94cf280b995d59406a19e",
            "placeholder": "​",
            "style": "IPY_MODEL_bc7debd482eb4f5497c7752173f3cc8c",
            "value": "tokenizer_config.json: 100%"
          }
        },
        "11d048c8461247a0ab97963ec54ed78c": {
          "model_module": "@jupyter-widgets/controls",
          "model_name": "FloatProgressModel",
          "model_module_version": "1.5.0",
          "state": {
            "_dom_classes": [],
            "_model_module": "@jupyter-widgets/controls",
            "_model_module_version": "1.5.0",
            "_model_name": "FloatProgressModel",
            "_view_count": null,
            "_view_module": "@jupyter-widgets/controls",
            "_view_module_version": "1.5.0",
            "_view_name": "ProgressView",
            "bar_style": "success",
            "description": "",
            "description_tooltip": null,
            "layout": "IPY_MODEL_2527da33f7c046b0a70e4f02a7b6944e",
            "max": 48,
            "min": 0,
            "orientation": "horizontal",
            "style": "IPY_MODEL_8d520176e52d4a688f98e84a91e37054",
            "value": 48
          }
        },
        "087f368e8cdf40e5a6f517993cbfa46e": {
          "model_module": "@jupyter-widgets/controls",
          "model_name": "HTMLModel",
          "model_module_version": "1.5.0",
          "state": {
            "_dom_classes": [],
            "_model_module": "@jupyter-widgets/controls",
            "_model_module_version": "1.5.0",
            "_model_name": "HTMLModel",
            "_view_count": null,
            "_view_module": "@jupyter-widgets/controls",
            "_view_module_version": "1.5.0",
            "_view_name": "HTMLView",
            "description": "",
            "description_tooltip": null,
            "layout": "IPY_MODEL_d1ca9ad5b8914312878e90622493f27a",
            "placeholder": "​",
            "style": "IPY_MODEL_b6558fcf53d94a879349d4797d027570",
            "value": " 48.0/48.0 [00:00&lt;00:00, 2.91kB/s]"
          }
        },
        "77e29f0a41764dfbaddda7e20c0c4d1f": {
          "model_module": "@jupyter-widgets/base",
          "model_name": "LayoutModel",
          "model_module_version": "1.2.0",
          "state": {
            "_model_module": "@jupyter-widgets/base",
            "_model_module_version": "1.2.0",
            "_model_name": "LayoutModel",
            "_view_count": null,
            "_view_module": "@jupyter-widgets/base",
            "_view_module_version": "1.2.0",
            "_view_name": "LayoutView",
            "align_content": null,
            "align_items": null,
            "align_self": null,
            "border": null,
            "bottom": null,
            "display": null,
            "flex": null,
            "flex_flow": null,
            "grid_area": null,
            "grid_auto_columns": null,
            "grid_auto_flow": null,
            "grid_auto_rows": null,
            "grid_column": null,
            "grid_gap": null,
            "grid_row": null,
            "grid_template_areas": null,
            "grid_template_columns": null,
            "grid_template_rows": null,
            "height": null,
            "justify_content": null,
            "justify_items": null,
            "left": null,
            "margin": null,
            "max_height": null,
            "max_width": null,
            "min_height": null,
            "min_width": null,
            "object_fit": null,
            "object_position": null,
            "order": null,
            "overflow": null,
            "overflow_x": null,
            "overflow_y": null,
            "padding": null,
            "right": null,
            "top": null,
            "visibility": null,
            "width": null
          }
        },
        "032828568fe94cf280b995d59406a19e": {
          "model_module": "@jupyter-widgets/base",
          "model_name": "LayoutModel",
          "model_module_version": "1.2.0",
          "state": {
            "_model_module": "@jupyter-widgets/base",
            "_model_module_version": "1.2.0",
            "_model_name": "LayoutModel",
            "_view_count": null,
            "_view_module": "@jupyter-widgets/base",
            "_view_module_version": "1.2.0",
            "_view_name": "LayoutView",
            "align_content": null,
            "align_items": null,
            "align_self": null,
            "border": null,
            "bottom": null,
            "display": null,
            "flex": null,
            "flex_flow": null,
            "grid_area": null,
            "grid_auto_columns": null,
            "grid_auto_flow": null,
            "grid_auto_rows": null,
            "grid_column": null,
            "grid_gap": null,
            "grid_row": null,
            "grid_template_areas": null,
            "grid_template_columns": null,
            "grid_template_rows": null,
            "height": null,
            "justify_content": null,
            "justify_items": null,
            "left": null,
            "margin": null,
            "max_height": null,
            "max_width": null,
            "min_height": null,
            "min_width": null,
            "object_fit": null,
            "object_position": null,
            "order": null,
            "overflow": null,
            "overflow_x": null,
            "overflow_y": null,
            "padding": null,
            "right": null,
            "top": null,
            "visibility": null,
            "width": null
          }
        },
        "bc7debd482eb4f5497c7752173f3cc8c": {
          "model_module": "@jupyter-widgets/controls",
          "model_name": "DescriptionStyleModel",
          "model_module_version": "1.5.0",
          "state": {
            "_model_module": "@jupyter-widgets/controls",
            "_model_module_version": "1.5.0",
            "_model_name": "DescriptionStyleModel",
            "_view_count": null,
            "_view_module": "@jupyter-widgets/base",
            "_view_module_version": "1.2.0",
            "_view_name": "StyleView",
            "description_width": ""
          }
        },
        "2527da33f7c046b0a70e4f02a7b6944e": {
          "model_module": "@jupyter-widgets/base",
          "model_name": "LayoutModel",
          "model_module_version": "1.2.0",
          "state": {
            "_model_module": "@jupyter-widgets/base",
            "_model_module_version": "1.2.0",
            "_model_name": "LayoutModel",
            "_view_count": null,
            "_view_module": "@jupyter-widgets/base",
            "_view_module_version": "1.2.0",
            "_view_name": "LayoutView",
            "align_content": null,
            "align_items": null,
            "align_self": null,
            "border": null,
            "bottom": null,
            "display": null,
            "flex": null,
            "flex_flow": null,
            "grid_area": null,
            "grid_auto_columns": null,
            "grid_auto_flow": null,
            "grid_auto_rows": null,
            "grid_column": null,
            "grid_gap": null,
            "grid_row": null,
            "grid_template_areas": null,
            "grid_template_columns": null,
            "grid_template_rows": null,
            "height": null,
            "justify_content": null,
            "justify_items": null,
            "left": null,
            "margin": null,
            "max_height": null,
            "max_width": null,
            "min_height": null,
            "min_width": null,
            "object_fit": null,
            "object_position": null,
            "order": null,
            "overflow": null,
            "overflow_x": null,
            "overflow_y": null,
            "padding": null,
            "right": null,
            "top": null,
            "visibility": null,
            "width": null
          }
        },
        "8d520176e52d4a688f98e84a91e37054": {
          "model_module": "@jupyter-widgets/controls",
          "model_name": "ProgressStyleModel",
          "model_module_version": "1.5.0",
          "state": {
            "_model_module": "@jupyter-widgets/controls",
            "_model_module_version": "1.5.0",
            "_model_name": "ProgressStyleModel",
            "_view_count": null,
            "_view_module": "@jupyter-widgets/base",
            "_view_module_version": "1.2.0",
            "_view_name": "StyleView",
            "bar_color": null,
            "description_width": ""
          }
        },
        "d1ca9ad5b8914312878e90622493f27a": {
          "model_module": "@jupyter-widgets/base",
          "model_name": "LayoutModel",
          "model_module_version": "1.2.0",
          "state": {
            "_model_module": "@jupyter-widgets/base",
            "_model_module_version": "1.2.0",
            "_model_name": "LayoutModel",
            "_view_count": null,
            "_view_module": "@jupyter-widgets/base",
            "_view_module_version": "1.2.0",
            "_view_name": "LayoutView",
            "align_content": null,
            "align_items": null,
            "align_self": null,
            "border": null,
            "bottom": null,
            "display": null,
            "flex": null,
            "flex_flow": null,
            "grid_area": null,
            "grid_auto_columns": null,
            "grid_auto_flow": null,
            "grid_auto_rows": null,
            "grid_column": null,
            "grid_gap": null,
            "grid_row": null,
            "grid_template_areas": null,
            "grid_template_columns": null,
            "grid_template_rows": null,
            "height": null,
            "justify_content": null,
            "justify_items": null,
            "left": null,
            "margin": null,
            "max_height": null,
            "max_width": null,
            "min_height": null,
            "min_width": null,
            "object_fit": null,
            "object_position": null,
            "order": null,
            "overflow": null,
            "overflow_x": null,
            "overflow_y": null,
            "padding": null,
            "right": null,
            "top": null,
            "visibility": null,
            "width": null
          }
        },
        "b6558fcf53d94a879349d4797d027570": {
          "model_module": "@jupyter-widgets/controls",
          "model_name": "DescriptionStyleModel",
          "model_module_version": "1.5.0",
          "state": {
            "_model_module": "@jupyter-widgets/controls",
            "_model_module_version": "1.5.0",
            "_model_name": "DescriptionStyleModel",
            "_view_count": null,
            "_view_module": "@jupyter-widgets/base",
            "_view_module_version": "1.2.0",
            "_view_name": "StyleView",
            "description_width": ""
          }
        },
        "bbbfbd5fa6c84198843c5754ca1ca590": {
          "model_module": "@jupyter-widgets/controls",
          "model_name": "HBoxModel",
          "model_module_version": "1.5.0",
          "state": {
            "_dom_classes": [],
            "_model_module": "@jupyter-widgets/controls",
            "_model_module_version": "1.5.0",
            "_model_name": "HBoxModel",
            "_view_count": null,
            "_view_module": "@jupyter-widgets/controls",
            "_view_module_version": "1.5.0",
            "_view_name": "HBoxView",
            "box_style": "",
            "children": [
              "IPY_MODEL_34512cc626e243a3a969bcccd1f88621",
              "IPY_MODEL_ff91a872e9b94788b04140d8ce1c57f3",
              "IPY_MODEL_30f643b45e31459e80c2f3768ea09f54"
            ],
            "layout": "IPY_MODEL_a90ba42b7f2543718d66165efcb25b39"
          }
        },
        "34512cc626e243a3a969bcccd1f88621": {
          "model_module": "@jupyter-widgets/controls",
          "model_name": "HTMLModel",
          "model_module_version": "1.5.0",
          "state": {
            "_dom_classes": [],
            "_model_module": "@jupyter-widgets/controls",
            "_model_module_version": "1.5.0",
            "_model_name": "HTMLModel",
            "_view_count": null,
            "_view_module": "@jupyter-widgets/controls",
            "_view_module_version": "1.5.0",
            "_view_name": "HTMLView",
            "description": "",
            "description_tooltip": null,
            "layout": "IPY_MODEL_4ef20179a6bb48fd955883e960fb61e1",
            "placeholder": "​",
            "style": "IPY_MODEL_92651f7655c74975ae57b3097ec88f07",
            "value": "config.json: 100%"
          }
        },
        "ff91a872e9b94788b04140d8ce1c57f3": {
          "model_module": "@jupyter-widgets/controls",
          "model_name": "FloatProgressModel",
          "model_module_version": "1.5.0",
          "state": {
            "_dom_classes": [],
            "_model_module": "@jupyter-widgets/controls",
            "_model_module_version": "1.5.0",
            "_model_name": "FloatProgressModel",
            "_view_count": null,
            "_view_module": "@jupyter-widgets/controls",
            "_view_module_version": "1.5.0",
            "_view_name": "ProgressView",
            "bar_style": "success",
            "description": "",
            "description_tooltip": null,
            "layout": "IPY_MODEL_ccdadf9bcab74be785c30c18eee03530",
            "max": 570,
            "min": 0,
            "orientation": "horizontal",
            "style": "IPY_MODEL_edd666b023b9414a80f3dd54bc83c544",
            "value": 570
          }
        },
        "30f643b45e31459e80c2f3768ea09f54": {
          "model_module": "@jupyter-widgets/controls",
          "model_name": "HTMLModel",
          "model_module_version": "1.5.0",
          "state": {
            "_dom_classes": [],
            "_model_module": "@jupyter-widgets/controls",
            "_model_module_version": "1.5.0",
            "_model_name": "HTMLModel",
            "_view_count": null,
            "_view_module": "@jupyter-widgets/controls",
            "_view_module_version": "1.5.0",
            "_view_name": "HTMLView",
            "description": "",
            "description_tooltip": null,
            "layout": "IPY_MODEL_06c71f3b23cb424e885449ebd5d97ed8",
            "placeholder": "​",
            "style": "IPY_MODEL_81c4c58b27374603aa4880b0db45d97f",
            "value": " 570/570 [00:00&lt;00:00, 35.9kB/s]"
          }
        },
        "a90ba42b7f2543718d66165efcb25b39": {
          "model_module": "@jupyter-widgets/base",
          "model_name": "LayoutModel",
          "model_module_version": "1.2.0",
          "state": {
            "_model_module": "@jupyter-widgets/base",
            "_model_module_version": "1.2.0",
            "_model_name": "LayoutModel",
            "_view_count": null,
            "_view_module": "@jupyter-widgets/base",
            "_view_module_version": "1.2.0",
            "_view_name": "LayoutView",
            "align_content": null,
            "align_items": null,
            "align_self": null,
            "border": null,
            "bottom": null,
            "display": null,
            "flex": null,
            "flex_flow": null,
            "grid_area": null,
            "grid_auto_columns": null,
            "grid_auto_flow": null,
            "grid_auto_rows": null,
            "grid_column": null,
            "grid_gap": null,
            "grid_row": null,
            "grid_template_areas": null,
            "grid_template_columns": null,
            "grid_template_rows": null,
            "height": null,
            "justify_content": null,
            "justify_items": null,
            "left": null,
            "margin": null,
            "max_height": null,
            "max_width": null,
            "min_height": null,
            "min_width": null,
            "object_fit": null,
            "object_position": null,
            "order": null,
            "overflow": null,
            "overflow_x": null,
            "overflow_y": null,
            "padding": null,
            "right": null,
            "top": null,
            "visibility": null,
            "width": null
          }
        },
        "4ef20179a6bb48fd955883e960fb61e1": {
          "model_module": "@jupyter-widgets/base",
          "model_name": "LayoutModel",
          "model_module_version": "1.2.0",
          "state": {
            "_model_module": "@jupyter-widgets/base",
            "_model_module_version": "1.2.0",
            "_model_name": "LayoutModel",
            "_view_count": null,
            "_view_module": "@jupyter-widgets/base",
            "_view_module_version": "1.2.0",
            "_view_name": "LayoutView",
            "align_content": null,
            "align_items": null,
            "align_self": null,
            "border": null,
            "bottom": null,
            "display": null,
            "flex": null,
            "flex_flow": null,
            "grid_area": null,
            "grid_auto_columns": null,
            "grid_auto_flow": null,
            "grid_auto_rows": null,
            "grid_column": null,
            "grid_gap": null,
            "grid_row": null,
            "grid_template_areas": null,
            "grid_template_columns": null,
            "grid_template_rows": null,
            "height": null,
            "justify_content": null,
            "justify_items": null,
            "left": null,
            "margin": null,
            "max_height": null,
            "max_width": null,
            "min_height": null,
            "min_width": null,
            "object_fit": null,
            "object_position": null,
            "order": null,
            "overflow": null,
            "overflow_x": null,
            "overflow_y": null,
            "padding": null,
            "right": null,
            "top": null,
            "visibility": null,
            "width": null
          }
        },
        "92651f7655c74975ae57b3097ec88f07": {
          "model_module": "@jupyter-widgets/controls",
          "model_name": "DescriptionStyleModel",
          "model_module_version": "1.5.0",
          "state": {
            "_model_module": "@jupyter-widgets/controls",
            "_model_module_version": "1.5.0",
            "_model_name": "DescriptionStyleModel",
            "_view_count": null,
            "_view_module": "@jupyter-widgets/base",
            "_view_module_version": "1.2.0",
            "_view_name": "StyleView",
            "description_width": ""
          }
        },
        "ccdadf9bcab74be785c30c18eee03530": {
          "model_module": "@jupyter-widgets/base",
          "model_name": "LayoutModel",
          "model_module_version": "1.2.0",
          "state": {
            "_model_module": "@jupyter-widgets/base",
            "_model_module_version": "1.2.0",
            "_model_name": "LayoutModel",
            "_view_count": null,
            "_view_module": "@jupyter-widgets/base",
            "_view_module_version": "1.2.0",
            "_view_name": "LayoutView",
            "align_content": null,
            "align_items": null,
            "align_self": null,
            "border": null,
            "bottom": null,
            "display": null,
            "flex": null,
            "flex_flow": null,
            "grid_area": null,
            "grid_auto_columns": null,
            "grid_auto_flow": null,
            "grid_auto_rows": null,
            "grid_column": null,
            "grid_gap": null,
            "grid_row": null,
            "grid_template_areas": null,
            "grid_template_columns": null,
            "grid_template_rows": null,
            "height": null,
            "justify_content": null,
            "justify_items": null,
            "left": null,
            "margin": null,
            "max_height": null,
            "max_width": null,
            "min_height": null,
            "min_width": null,
            "object_fit": null,
            "object_position": null,
            "order": null,
            "overflow": null,
            "overflow_x": null,
            "overflow_y": null,
            "padding": null,
            "right": null,
            "top": null,
            "visibility": null,
            "width": null
          }
        },
        "edd666b023b9414a80f3dd54bc83c544": {
          "model_module": "@jupyter-widgets/controls",
          "model_name": "ProgressStyleModel",
          "model_module_version": "1.5.0",
          "state": {
            "_model_module": "@jupyter-widgets/controls",
            "_model_module_version": "1.5.0",
            "_model_name": "ProgressStyleModel",
            "_view_count": null,
            "_view_module": "@jupyter-widgets/base",
            "_view_module_version": "1.2.0",
            "_view_name": "StyleView",
            "bar_color": null,
            "description_width": ""
          }
        },
        "06c71f3b23cb424e885449ebd5d97ed8": {
          "model_module": "@jupyter-widgets/base",
          "model_name": "LayoutModel",
          "model_module_version": "1.2.0",
          "state": {
            "_model_module": "@jupyter-widgets/base",
            "_model_module_version": "1.2.0",
            "_model_name": "LayoutModel",
            "_view_count": null,
            "_view_module": "@jupyter-widgets/base",
            "_view_module_version": "1.2.0",
            "_view_name": "LayoutView",
            "align_content": null,
            "align_items": null,
            "align_self": null,
            "border": null,
            "bottom": null,
            "display": null,
            "flex": null,
            "flex_flow": null,
            "grid_area": null,
            "grid_auto_columns": null,
            "grid_auto_flow": null,
            "grid_auto_rows": null,
            "grid_column": null,
            "grid_gap": null,
            "grid_row": null,
            "grid_template_areas": null,
            "grid_template_columns": null,
            "grid_template_rows": null,
            "height": null,
            "justify_content": null,
            "justify_items": null,
            "left": null,
            "margin": null,
            "max_height": null,
            "max_width": null,
            "min_height": null,
            "min_width": null,
            "object_fit": null,
            "object_position": null,
            "order": null,
            "overflow": null,
            "overflow_x": null,
            "overflow_y": null,
            "padding": null,
            "right": null,
            "top": null,
            "visibility": null,
            "width": null
          }
        },
        "81c4c58b27374603aa4880b0db45d97f": {
          "model_module": "@jupyter-widgets/controls",
          "model_name": "DescriptionStyleModel",
          "model_module_version": "1.5.0",
          "state": {
            "_model_module": "@jupyter-widgets/controls",
            "_model_module_version": "1.5.0",
            "_model_name": "DescriptionStyleModel",
            "_view_count": null,
            "_view_module": "@jupyter-widgets/base",
            "_view_module_version": "1.2.0",
            "_view_name": "StyleView",
            "description_width": ""
          }
        },
        "337c73d6fca6451a986162d9baf18fcb": {
          "model_module": "@jupyter-widgets/controls",
          "model_name": "HBoxModel",
          "model_module_version": "1.5.0",
          "state": {
            "_dom_classes": [],
            "_model_module": "@jupyter-widgets/controls",
            "_model_module_version": "1.5.0",
            "_model_name": "HBoxModel",
            "_view_count": null,
            "_view_module": "@jupyter-widgets/controls",
            "_view_module_version": "1.5.0",
            "_view_name": "HBoxView",
            "box_style": "",
            "children": [
              "IPY_MODEL_67e5d8fb4f14403ea796790d6cb62f64",
              "IPY_MODEL_52d18aa50e0a4c44a98afe561ac4c997",
              "IPY_MODEL_0b1dfba05a9b463da7ef9f99bf91c0d9"
            ],
            "layout": "IPY_MODEL_d0b795948ef24f278baf4b04f841fad2"
          }
        },
        "67e5d8fb4f14403ea796790d6cb62f64": {
          "model_module": "@jupyter-widgets/controls",
          "model_name": "HTMLModel",
          "model_module_version": "1.5.0",
          "state": {
            "_dom_classes": [],
            "_model_module": "@jupyter-widgets/controls",
            "_model_module_version": "1.5.0",
            "_model_name": "HTMLModel",
            "_view_count": null,
            "_view_module": "@jupyter-widgets/controls",
            "_view_module_version": "1.5.0",
            "_view_name": "HTMLView",
            "description": "",
            "description_tooltip": null,
            "layout": "IPY_MODEL_18599e817792486b837ba256f273e55e",
            "placeholder": "​",
            "style": "IPY_MODEL_62cc48c3846546a185dd542e876f8318",
            "value": "vocab.txt: 100%"
          }
        },
        "52d18aa50e0a4c44a98afe561ac4c997": {
          "model_module": "@jupyter-widgets/controls",
          "model_name": "FloatProgressModel",
          "model_module_version": "1.5.0",
          "state": {
            "_dom_classes": [],
            "_model_module": "@jupyter-widgets/controls",
            "_model_module_version": "1.5.0",
            "_model_name": "FloatProgressModel",
            "_view_count": null,
            "_view_module": "@jupyter-widgets/controls",
            "_view_module_version": "1.5.0",
            "_view_name": "ProgressView",
            "bar_style": "success",
            "description": "",
            "description_tooltip": null,
            "layout": "IPY_MODEL_de01a43cbbf14bc782bf3a3303d860ed",
            "max": 231508,
            "min": 0,
            "orientation": "horizontal",
            "style": "IPY_MODEL_afe2052365764b82a41b90184ee792bd",
            "value": 231508
          }
        },
        "0b1dfba05a9b463da7ef9f99bf91c0d9": {
          "model_module": "@jupyter-widgets/controls",
          "model_name": "HTMLModel",
          "model_module_version": "1.5.0",
          "state": {
            "_dom_classes": [],
            "_model_module": "@jupyter-widgets/controls",
            "_model_module_version": "1.5.0",
            "_model_name": "HTMLModel",
            "_view_count": null,
            "_view_module": "@jupyter-widgets/controls",
            "_view_module_version": "1.5.0",
            "_view_name": "HTMLView",
            "description": "",
            "description_tooltip": null,
            "layout": "IPY_MODEL_6f77b2200aa942e18d710041948e7e34",
            "placeholder": "​",
            "style": "IPY_MODEL_74e2ca142029411293b9ede4d69609e2",
            "value": " 232k/232k [00:00&lt;00:00, 5.15MB/s]"
          }
        },
        "d0b795948ef24f278baf4b04f841fad2": {
          "model_module": "@jupyter-widgets/base",
          "model_name": "LayoutModel",
          "model_module_version": "1.2.0",
          "state": {
            "_model_module": "@jupyter-widgets/base",
            "_model_module_version": "1.2.0",
            "_model_name": "LayoutModel",
            "_view_count": null,
            "_view_module": "@jupyter-widgets/base",
            "_view_module_version": "1.2.0",
            "_view_name": "LayoutView",
            "align_content": null,
            "align_items": null,
            "align_self": null,
            "border": null,
            "bottom": null,
            "display": null,
            "flex": null,
            "flex_flow": null,
            "grid_area": null,
            "grid_auto_columns": null,
            "grid_auto_flow": null,
            "grid_auto_rows": null,
            "grid_column": null,
            "grid_gap": null,
            "grid_row": null,
            "grid_template_areas": null,
            "grid_template_columns": null,
            "grid_template_rows": null,
            "height": null,
            "justify_content": null,
            "justify_items": null,
            "left": null,
            "margin": null,
            "max_height": null,
            "max_width": null,
            "min_height": null,
            "min_width": null,
            "object_fit": null,
            "object_position": null,
            "order": null,
            "overflow": null,
            "overflow_x": null,
            "overflow_y": null,
            "padding": null,
            "right": null,
            "top": null,
            "visibility": null,
            "width": null
          }
        },
        "18599e817792486b837ba256f273e55e": {
          "model_module": "@jupyter-widgets/base",
          "model_name": "LayoutModel",
          "model_module_version": "1.2.0",
          "state": {
            "_model_module": "@jupyter-widgets/base",
            "_model_module_version": "1.2.0",
            "_model_name": "LayoutModel",
            "_view_count": null,
            "_view_module": "@jupyter-widgets/base",
            "_view_module_version": "1.2.0",
            "_view_name": "LayoutView",
            "align_content": null,
            "align_items": null,
            "align_self": null,
            "border": null,
            "bottom": null,
            "display": null,
            "flex": null,
            "flex_flow": null,
            "grid_area": null,
            "grid_auto_columns": null,
            "grid_auto_flow": null,
            "grid_auto_rows": null,
            "grid_column": null,
            "grid_gap": null,
            "grid_row": null,
            "grid_template_areas": null,
            "grid_template_columns": null,
            "grid_template_rows": null,
            "height": null,
            "justify_content": null,
            "justify_items": null,
            "left": null,
            "margin": null,
            "max_height": null,
            "max_width": null,
            "min_height": null,
            "min_width": null,
            "object_fit": null,
            "object_position": null,
            "order": null,
            "overflow": null,
            "overflow_x": null,
            "overflow_y": null,
            "padding": null,
            "right": null,
            "top": null,
            "visibility": null,
            "width": null
          }
        },
        "62cc48c3846546a185dd542e876f8318": {
          "model_module": "@jupyter-widgets/controls",
          "model_name": "DescriptionStyleModel",
          "model_module_version": "1.5.0",
          "state": {
            "_model_module": "@jupyter-widgets/controls",
            "_model_module_version": "1.5.0",
            "_model_name": "DescriptionStyleModel",
            "_view_count": null,
            "_view_module": "@jupyter-widgets/base",
            "_view_module_version": "1.2.0",
            "_view_name": "StyleView",
            "description_width": ""
          }
        },
        "de01a43cbbf14bc782bf3a3303d860ed": {
          "model_module": "@jupyter-widgets/base",
          "model_name": "LayoutModel",
          "model_module_version": "1.2.0",
          "state": {
            "_model_module": "@jupyter-widgets/base",
            "_model_module_version": "1.2.0",
            "_model_name": "LayoutModel",
            "_view_count": null,
            "_view_module": "@jupyter-widgets/base",
            "_view_module_version": "1.2.0",
            "_view_name": "LayoutView",
            "align_content": null,
            "align_items": null,
            "align_self": null,
            "border": null,
            "bottom": null,
            "display": null,
            "flex": null,
            "flex_flow": null,
            "grid_area": null,
            "grid_auto_columns": null,
            "grid_auto_flow": null,
            "grid_auto_rows": null,
            "grid_column": null,
            "grid_gap": null,
            "grid_row": null,
            "grid_template_areas": null,
            "grid_template_columns": null,
            "grid_template_rows": null,
            "height": null,
            "justify_content": null,
            "justify_items": null,
            "left": null,
            "margin": null,
            "max_height": null,
            "max_width": null,
            "min_height": null,
            "min_width": null,
            "object_fit": null,
            "object_position": null,
            "order": null,
            "overflow": null,
            "overflow_x": null,
            "overflow_y": null,
            "padding": null,
            "right": null,
            "top": null,
            "visibility": null,
            "width": null
          }
        },
        "afe2052365764b82a41b90184ee792bd": {
          "model_module": "@jupyter-widgets/controls",
          "model_name": "ProgressStyleModel",
          "model_module_version": "1.5.0",
          "state": {
            "_model_module": "@jupyter-widgets/controls",
            "_model_module_version": "1.5.0",
            "_model_name": "ProgressStyleModel",
            "_view_count": null,
            "_view_module": "@jupyter-widgets/base",
            "_view_module_version": "1.2.0",
            "_view_name": "StyleView",
            "bar_color": null,
            "description_width": ""
          }
        },
        "6f77b2200aa942e18d710041948e7e34": {
          "model_module": "@jupyter-widgets/base",
          "model_name": "LayoutModel",
          "model_module_version": "1.2.0",
          "state": {
            "_model_module": "@jupyter-widgets/base",
            "_model_module_version": "1.2.0",
            "_model_name": "LayoutModel",
            "_view_count": null,
            "_view_module": "@jupyter-widgets/base",
            "_view_module_version": "1.2.0",
            "_view_name": "LayoutView",
            "align_content": null,
            "align_items": null,
            "align_self": null,
            "border": null,
            "bottom": null,
            "display": null,
            "flex": null,
            "flex_flow": null,
            "grid_area": null,
            "grid_auto_columns": null,
            "grid_auto_flow": null,
            "grid_auto_rows": null,
            "grid_column": null,
            "grid_gap": null,
            "grid_row": null,
            "grid_template_areas": null,
            "grid_template_columns": null,
            "grid_template_rows": null,
            "height": null,
            "justify_content": null,
            "justify_items": null,
            "left": null,
            "margin": null,
            "max_height": null,
            "max_width": null,
            "min_height": null,
            "min_width": null,
            "object_fit": null,
            "object_position": null,
            "order": null,
            "overflow": null,
            "overflow_x": null,
            "overflow_y": null,
            "padding": null,
            "right": null,
            "top": null,
            "visibility": null,
            "width": null
          }
        },
        "74e2ca142029411293b9ede4d69609e2": {
          "model_module": "@jupyter-widgets/controls",
          "model_name": "DescriptionStyleModel",
          "model_module_version": "1.5.0",
          "state": {
            "_model_module": "@jupyter-widgets/controls",
            "_model_module_version": "1.5.0",
            "_model_name": "DescriptionStyleModel",
            "_view_count": null,
            "_view_module": "@jupyter-widgets/base",
            "_view_module_version": "1.2.0",
            "_view_name": "StyleView",
            "description_width": ""
          }
        },
        "e16e7af9d08a48e18bac13f410faa038": {
          "model_module": "@jupyter-widgets/controls",
          "model_name": "HBoxModel",
          "model_module_version": "1.5.0",
          "state": {
            "_dom_classes": [],
            "_model_module": "@jupyter-widgets/controls",
            "_model_module_version": "1.5.0",
            "_model_name": "HBoxModel",
            "_view_count": null,
            "_view_module": "@jupyter-widgets/controls",
            "_view_module_version": "1.5.0",
            "_view_name": "HBoxView",
            "box_style": "",
            "children": [
              "IPY_MODEL_299e581195f8430ea453d6fee6aee69d",
              "IPY_MODEL_3a393a93ba49494581a94bee9dc58a2b",
              "IPY_MODEL_9bf4a2341e504bf685fef49689e8f99a"
            ],
            "layout": "IPY_MODEL_adbfb42ca77d423ab0569fdeaf6252a7"
          }
        },
        "299e581195f8430ea453d6fee6aee69d": {
          "model_module": "@jupyter-widgets/controls",
          "model_name": "HTMLModel",
          "model_module_version": "1.5.0",
          "state": {
            "_dom_classes": [],
            "_model_module": "@jupyter-widgets/controls",
            "_model_module_version": "1.5.0",
            "_model_name": "HTMLModel",
            "_view_count": null,
            "_view_module": "@jupyter-widgets/controls",
            "_view_module_version": "1.5.0",
            "_view_name": "HTMLView",
            "description": "",
            "description_tooltip": null,
            "layout": "IPY_MODEL_a69ba8b89dd841b39601aa21b8916963",
            "placeholder": "​",
            "style": "IPY_MODEL_5ef308e709134247a0af987197c4dac7",
            "value": "tokenizer.json: 100%"
          }
        },
        "3a393a93ba49494581a94bee9dc58a2b": {
          "model_module": "@jupyter-widgets/controls",
          "model_name": "FloatProgressModel",
          "model_module_version": "1.5.0",
          "state": {
            "_dom_classes": [],
            "_model_module": "@jupyter-widgets/controls",
            "_model_module_version": "1.5.0",
            "_model_name": "FloatProgressModel",
            "_view_count": null,
            "_view_module": "@jupyter-widgets/controls",
            "_view_module_version": "1.5.0",
            "_view_name": "ProgressView",
            "bar_style": "success",
            "description": "",
            "description_tooltip": null,
            "layout": "IPY_MODEL_c9906a3fcc9649f0883aa44e0c7ebdfc",
            "max": 466062,
            "min": 0,
            "orientation": "horizontal",
            "style": "IPY_MODEL_bc5a5b1c248a448ea5a26c081afa2ead",
            "value": 466062
          }
        },
        "9bf4a2341e504bf685fef49689e8f99a": {
          "model_module": "@jupyter-widgets/controls",
          "model_name": "HTMLModel",
          "model_module_version": "1.5.0",
          "state": {
            "_dom_classes": [],
            "_model_module": "@jupyter-widgets/controls",
            "_model_module_version": "1.5.0",
            "_model_name": "HTMLModel",
            "_view_count": null,
            "_view_module": "@jupyter-widgets/controls",
            "_view_module_version": "1.5.0",
            "_view_name": "HTMLView",
            "description": "",
            "description_tooltip": null,
            "layout": "IPY_MODEL_9a99d15b0fd04bfe965001660b7229b5",
            "placeholder": "​",
            "style": "IPY_MODEL_ae5ddc93b19c4b45b8b68c60750d5d71",
            "value": " 466k/466k [00:00&lt;00:00, 16.8MB/s]"
          }
        },
        "adbfb42ca77d423ab0569fdeaf6252a7": {
          "model_module": "@jupyter-widgets/base",
          "model_name": "LayoutModel",
          "model_module_version": "1.2.0",
          "state": {
            "_model_module": "@jupyter-widgets/base",
            "_model_module_version": "1.2.0",
            "_model_name": "LayoutModel",
            "_view_count": null,
            "_view_module": "@jupyter-widgets/base",
            "_view_module_version": "1.2.0",
            "_view_name": "LayoutView",
            "align_content": null,
            "align_items": null,
            "align_self": null,
            "border": null,
            "bottom": null,
            "display": null,
            "flex": null,
            "flex_flow": null,
            "grid_area": null,
            "grid_auto_columns": null,
            "grid_auto_flow": null,
            "grid_auto_rows": null,
            "grid_column": null,
            "grid_gap": null,
            "grid_row": null,
            "grid_template_areas": null,
            "grid_template_columns": null,
            "grid_template_rows": null,
            "height": null,
            "justify_content": null,
            "justify_items": null,
            "left": null,
            "margin": null,
            "max_height": null,
            "max_width": null,
            "min_height": null,
            "min_width": null,
            "object_fit": null,
            "object_position": null,
            "order": null,
            "overflow": null,
            "overflow_x": null,
            "overflow_y": null,
            "padding": null,
            "right": null,
            "top": null,
            "visibility": null,
            "width": null
          }
        },
        "a69ba8b89dd841b39601aa21b8916963": {
          "model_module": "@jupyter-widgets/base",
          "model_name": "LayoutModel",
          "model_module_version": "1.2.0",
          "state": {
            "_model_module": "@jupyter-widgets/base",
            "_model_module_version": "1.2.0",
            "_model_name": "LayoutModel",
            "_view_count": null,
            "_view_module": "@jupyter-widgets/base",
            "_view_module_version": "1.2.0",
            "_view_name": "LayoutView",
            "align_content": null,
            "align_items": null,
            "align_self": null,
            "border": null,
            "bottom": null,
            "display": null,
            "flex": null,
            "flex_flow": null,
            "grid_area": null,
            "grid_auto_columns": null,
            "grid_auto_flow": null,
            "grid_auto_rows": null,
            "grid_column": null,
            "grid_gap": null,
            "grid_row": null,
            "grid_template_areas": null,
            "grid_template_columns": null,
            "grid_template_rows": null,
            "height": null,
            "justify_content": null,
            "justify_items": null,
            "left": null,
            "margin": null,
            "max_height": null,
            "max_width": null,
            "min_height": null,
            "min_width": null,
            "object_fit": null,
            "object_position": null,
            "order": null,
            "overflow": null,
            "overflow_x": null,
            "overflow_y": null,
            "padding": null,
            "right": null,
            "top": null,
            "visibility": null,
            "width": null
          }
        },
        "5ef308e709134247a0af987197c4dac7": {
          "model_module": "@jupyter-widgets/controls",
          "model_name": "DescriptionStyleModel",
          "model_module_version": "1.5.0",
          "state": {
            "_model_module": "@jupyter-widgets/controls",
            "_model_module_version": "1.5.0",
            "_model_name": "DescriptionStyleModel",
            "_view_count": null,
            "_view_module": "@jupyter-widgets/base",
            "_view_module_version": "1.2.0",
            "_view_name": "StyleView",
            "description_width": ""
          }
        },
        "c9906a3fcc9649f0883aa44e0c7ebdfc": {
          "model_module": "@jupyter-widgets/base",
          "model_name": "LayoutModel",
          "model_module_version": "1.2.0",
          "state": {
            "_model_module": "@jupyter-widgets/base",
            "_model_module_version": "1.2.0",
            "_model_name": "LayoutModel",
            "_view_count": null,
            "_view_module": "@jupyter-widgets/base",
            "_view_module_version": "1.2.0",
            "_view_name": "LayoutView",
            "align_content": null,
            "align_items": null,
            "align_self": null,
            "border": null,
            "bottom": null,
            "display": null,
            "flex": null,
            "flex_flow": null,
            "grid_area": null,
            "grid_auto_columns": null,
            "grid_auto_flow": null,
            "grid_auto_rows": null,
            "grid_column": null,
            "grid_gap": null,
            "grid_row": null,
            "grid_template_areas": null,
            "grid_template_columns": null,
            "grid_template_rows": null,
            "height": null,
            "justify_content": null,
            "justify_items": null,
            "left": null,
            "margin": null,
            "max_height": null,
            "max_width": null,
            "min_height": null,
            "min_width": null,
            "object_fit": null,
            "object_position": null,
            "order": null,
            "overflow": null,
            "overflow_x": null,
            "overflow_y": null,
            "padding": null,
            "right": null,
            "top": null,
            "visibility": null,
            "width": null
          }
        },
        "bc5a5b1c248a448ea5a26c081afa2ead": {
          "model_module": "@jupyter-widgets/controls",
          "model_name": "ProgressStyleModel",
          "model_module_version": "1.5.0",
          "state": {
            "_model_module": "@jupyter-widgets/controls",
            "_model_module_version": "1.5.0",
            "_model_name": "ProgressStyleModel",
            "_view_count": null,
            "_view_module": "@jupyter-widgets/base",
            "_view_module_version": "1.2.0",
            "_view_name": "StyleView",
            "bar_color": null,
            "description_width": ""
          }
        },
        "9a99d15b0fd04bfe965001660b7229b5": {
          "model_module": "@jupyter-widgets/base",
          "model_name": "LayoutModel",
          "model_module_version": "1.2.0",
          "state": {
            "_model_module": "@jupyter-widgets/base",
            "_model_module_version": "1.2.0",
            "_model_name": "LayoutModel",
            "_view_count": null,
            "_view_module": "@jupyter-widgets/base",
            "_view_module_version": "1.2.0",
            "_view_name": "LayoutView",
            "align_content": null,
            "align_items": null,
            "align_self": null,
            "border": null,
            "bottom": null,
            "display": null,
            "flex": null,
            "flex_flow": null,
            "grid_area": null,
            "grid_auto_columns": null,
            "grid_auto_flow": null,
            "grid_auto_rows": null,
            "grid_column": null,
            "grid_gap": null,
            "grid_row": null,
            "grid_template_areas": null,
            "grid_template_columns": null,
            "grid_template_rows": null,
            "height": null,
            "justify_content": null,
            "justify_items": null,
            "left": null,
            "margin": null,
            "max_height": null,
            "max_width": null,
            "min_height": null,
            "min_width": null,
            "object_fit": null,
            "object_position": null,
            "order": null,
            "overflow": null,
            "overflow_x": null,
            "overflow_y": null,
            "padding": null,
            "right": null,
            "top": null,
            "visibility": null,
            "width": null
          }
        },
        "ae5ddc93b19c4b45b8b68c60750d5d71": {
          "model_module": "@jupyter-widgets/controls",
          "model_name": "DescriptionStyleModel",
          "model_module_version": "1.5.0",
          "state": {
            "_model_module": "@jupyter-widgets/controls",
            "_model_module_version": "1.5.0",
            "_model_name": "DescriptionStyleModel",
            "_view_count": null,
            "_view_module": "@jupyter-widgets/base",
            "_view_module_version": "1.2.0",
            "_view_name": "StyleView",
            "description_width": ""
          }
        },
        "ac5931fee8524aa58b274682a75212b3": {
          "model_module": "@jupyter-widgets/controls",
          "model_name": "HBoxModel",
          "model_module_version": "1.5.0",
          "state": {
            "_dom_classes": [],
            "_model_module": "@jupyter-widgets/controls",
            "_model_module_version": "1.5.0",
            "_model_name": "HBoxModel",
            "_view_count": null,
            "_view_module": "@jupyter-widgets/controls",
            "_view_module_version": "1.5.0",
            "_view_name": "HBoxView",
            "box_style": "",
            "children": [
              "IPY_MODEL_00270567f1dd4cd5bc5bd8db65dbc42c",
              "IPY_MODEL_287df987777c4ba982266cca05bab0d0",
              "IPY_MODEL_bd9a2414a77d4dafa95581f2a6d4dccb"
            ],
            "layout": "IPY_MODEL_efdacddd8fee41c58835150891349ec5"
          }
        },
        "00270567f1dd4cd5bc5bd8db65dbc42c": {
          "model_module": "@jupyter-widgets/controls",
          "model_name": "HTMLModel",
          "model_module_version": "1.5.0",
          "state": {
            "_dom_classes": [],
            "_model_module": "@jupyter-widgets/controls",
            "_model_module_version": "1.5.0",
            "_model_name": "HTMLModel",
            "_view_count": null,
            "_view_module": "@jupyter-widgets/controls",
            "_view_module_version": "1.5.0",
            "_view_name": "HTMLView",
            "description": "",
            "description_tooltip": null,
            "layout": "IPY_MODEL_f39b44aeb1bf437687143bf95b7286f8",
            "placeholder": "​",
            "style": "IPY_MODEL_85fb1297f3ab4ffcbbe15684e241ea3b",
            "value": "model.safetensors: 100%"
          }
        },
        "287df987777c4ba982266cca05bab0d0": {
          "model_module": "@jupyter-widgets/controls",
          "model_name": "FloatProgressModel",
          "model_module_version": "1.5.0",
          "state": {
            "_dom_classes": [],
            "_model_module": "@jupyter-widgets/controls",
            "_model_module_version": "1.5.0",
            "_model_name": "FloatProgressModel",
            "_view_count": null,
            "_view_module": "@jupyter-widgets/controls",
            "_view_module_version": "1.5.0",
            "_view_name": "ProgressView",
            "bar_style": "success",
            "description": "",
            "description_tooltip": null,
            "layout": "IPY_MODEL_88e28258c321415da7f83c5ec7daa576",
            "max": 440449768,
            "min": 0,
            "orientation": "horizontal",
            "style": "IPY_MODEL_5c824d9129694efba9a24fc6323cca4a",
            "value": 440449768
          }
        },
        "bd9a2414a77d4dafa95581f2a6d4dccb": {
          "model_module": "@jupyter-widgets/controls",
          "model_name": "HTMLModel",
          "model_module_version": "1.5.0",
          "state": {
            "_dom_classes": [],
            "_model_module": "@jupyter-widgets/controls",
            "_model_module_version": "1.5.0",
            "_model_name": "HTMLModel",
            "_view_count": null,
            "_view_module": "@jupyter-widgets/controls",
            "_view_module_version": "1.5.0",
            "_view_name": "HTMLView",
            "description": "",
            "description_tooltip": null,
            "layout": "IPY_MODEL_f561ebd822624157944d2944b70d3a69",
            "placeholder": "​",
            "style": "IPY_MODEL_bd9c3d878bbf4d1ba854474d21a6934f",
            "value": " 440M/440M [00:05&lt;00:00, 22.2MB/s]"
          }
        },
        "efdacddd8fee41c58835150891349ec5": {
          "model_module": "@jupyter-widgets/base",
          "model_name": "LayoutModel",
          "model_module_version": "1.2.0",
          "state": {
            "_model_module": "@jupyter-widgets/base",
            "_model_module_version": "1.2.0",
            "_model_name": "LayoutModel",
            "_view_count": null,
            "_view_module": "@jupyter-widgets/base",
            "_view_module_version": "1.2.0",
            "_view_name": "LayoutView",
            "align_content": null,
            "align_items": null,
            "align_self": null,
            "border": null,
            "bottom": null,
            "display": null,
            "flex": null,
            "flex_flow": null,
            "grid_area": null,
            "grid_auto_columns": null,
            "grid_auto_flow": null,
            "grid_auto_rows": null,
            "grid_column": null,
            "grid_gap": null,
            "grid_row": null,
            "grid_template_areas": null,
            "grid_template_columns": null,
            "grid_template_rows": null,
            "height": null,
            "justify_content": null,
            "justify_items": null,
            "left": null,
            "margin": null,
            "max_height": null,
            "max_width": null,
            "min_height": null,
            "min_width": null,
            "object_fit": null,
            "object_position": null,
            "order": null,
            "overflow": null,
            "overflow_x": null,
            "overflow_y": null,
            "padding": null,
            "right": null,
            "top": null,
            "visibility": null,
            "width": null
          }
        },
        "f39b44aeb1bf437687143bf95b7286f8": {
          "model_module": "@jupyter-widgets/base",
          "model_name": "LayoutModel",
          "model_module_version": "1.2.0",
          "state": {
            "_model_module": "@jupyter-widgets/base",
            "_model_module_version": "1.2.0",
            "_model_name": "LayoutModel",
            "_view_count": null,
            "_view_module": "@jupyter-widgets/base",
            "_view_module_version": "1.2.0",
            "_view_name": "LayoutView",
            "align_content": null,
            "align_items": null,
            "align_self": null,
            "border": null,
            "bottom": null,
            "display": null,
            "flex": null,
            "flex_flow": null,
            "grid_area": null,
            "grid_auto_columns": null,
            "grid_auto_flow": null,
            "grid_auto_rows": null,
            "grid_column": null,
            "grid_gap": null,
            "grid_row": null,
            "grid_template_areas": null,
            "grid_template_columns": null,
            "grid_template_rows": null,
            "height": null,
            "justify_content": null,
            "justify_items": null,
            "left": null,
            "margin": null,
            "max_height": null,
            "max_width": null,
            "min_height": null,
            "min_width": null,
            "object_fit": null,
            "object_position": null,
            "order": null,
            "overflow": null,
            "overflow_x": null,
            "overflow_y": null,
            "padding": null,
            "right": null,
            "top": null,
            "visibility": null,
            "width": null
          }
        },
        "85fb1297f3ab4ffcbbe15684e241ea3b": {
          "model_module": "@jupyter-widgets/controls",
          "model_name": "DescriptionStyleModel",
          "model_module_version": "1.5.0",
          "state": {
            "_model_module": "@jupyter-widgets/controls",
            "_model_module_version": "1.5.0",
            "_model_name": "DescriptionStyleModel",
            "_view_count": null,
            "_view_module": "@jupyter-widgets/base",
            "_view_module_version": "1.2.0",
            "_view_name": "StyleView",
            "description_width": ""
          }
        },
        "88e28258c321415da7f83c5ec7daa576": {
          "model_module": "@jupyter-widgets/base",
          "model_name": "LayoutModel",
          "model_module_version": "1.2.0",
          "state": {
            "_model_module": "@jupyter-widgets/base",
            "_model_module_version": "1.2.0",
            "_model_name": "LayoutModel",
            "_view_count": null,
            "_view_module": "@jupyter-widgets/base",
            "_view_module_version": "1.2.0",
            "_view_name": "LayoutView",
            "align_content": null,
            "align_items": null,
            "align_self": null,
            "border": null,
            "bottom": null,
            "display": null,
            "flex": null,
            "flex_flow": null,
            "grid_area": null,
            "grid_auto_columns": null,
            "grid_auto_flow": null,
            "grid_auto_rows": null,
            "grid_column": null,
            "grid_gap": null,
            "grid_row": null,
            "grid_template_areas": null,
            "grid_template_columns": null,
            "grid_template_rows": null,
            "height": null,
            "justify_content": null,
            "justify_items": null,
            "left": null,
            "margin": null,
            "max_height": null,
            "max_width": null,
            "min_height": null,
            "min_width": null,
            "object_fit": null,
            "object_position": null,
            "order": null,
            "overflow": null,
            "overflow_x": null,
            "overflow_y": null,
            "padding": null,
            "right": null,
            "top": null,
            "visibility": null,
            "width": null
          }
        },
        "5c824d9129694efba9a24fc6323cca4a": {
          "model_module": "@jupyter-widgets/controls",
          "model_name": "ProgressStyleModel",
          "model_module_version": "1.5.0",
          "state": {
            "_model_module": "@jupyter-widgets/controls",
            "_model_module_version": "1.5.0",
            "_model_name": "ProgressStyleModel",
            "_view_count": null,
            "_view_module": "@jupyter-widgets/base",
            "_view_module_version": "1.2.0",
            "_view_name": "StyleView",
            "bar_color": null,
            "description_width": ""
          }
        },
        "f561ebd822624157944d2944b70d3a69": {
          "model_module": "@jupyter-widgets/base",
          "model_name": "LayoutModel",
          "model_module_version": "1.2.0",
          "state": {
            "_model_module": "@jupyter-widgets/base",
            "_model_module_version": "1.2.0",
            "_model_name": "LayoutModel",
            "_view_count": null,
            "_view_module": "@jupyter-widgets/base",
            "_view_module_version": "1.2.0",
            "_view_name": "LayoutView",
            "align_content": null,
            "align_items": null,
            "align_self": null,
            "border": null,
            "bottom": null,
            "display": null,
            "flex": null,
            "flex_flow": null,
            "grid_area": null,
            "grid_auto_columns": null,
            "grid_auto_flow": null,
            "grid_auto_rows": null,
            "grid_column": null,
            "grid_gap": null,
            "grid_row": null,
            "grid_template_areas": null,
            "grid_template_columns": null,
            "grid_template_rows": null,
            "height": null,
            "justify_content": null,
            "justify_items": null,
            "left": null,
            "margin": null,
            "max_height": null,
            "max_width": null,
            "min_height": null,
            "min_width": null,
            "object_fit": null,
            "object_position": null,
            "order": null,
            "overflow": null,
            "overflow_x": null,
            "overflow_y": null,
            "padding": null,
            "right": null,
            "top": null,
            "visibility": null,
            "width": null
          }
        },
        "bd9c3d878bbf4d1ba854474d21a6934f": {
          "model_module": "@jupyter-widgets/controls",
          "model_name": "DescriptionStyleModel",
          "model_module_version": "1.5.0",
          "state": {
            "_model_module": "@jupyter-widgets/controls",
            "_model_module_version": "1.5.0",
            "_model_name": "DescriptionStyleModel",
            "_view_count": null,
            "_view_module": "@jupyter-widgets/base",
            "_view_module_version": "1.2.0",
            "_view_name": "StyleView",
            "description_width": ""
          }
        }
      }
    }
  },
  "nbformat": 4,
  "nbformat_minor": 0
}